{
  "nbformat": 4,
  "nbformat_minor": 0,
  "metadata": {
    "colab": {
      "name": "W0D1_Tutorial1",
      "provenance": [],
      "collapsed_sections": [],
      "include_colab_link": true
    },
    "kernel": {
      "display_name": "Python 3",
      "language": "python",
      "name": "python3"
    },
    "kernelspec": {
      "display_name": "Python 3",
      "language": "python",
      "name": "python3"
    },
    "language_info": {
      "codemirror_mode": {
        "name": "ipython",
        "version": 3
      },
      "file_extension": ".py",
      "mimetype": "text/x-python",
      "name": "python",
      "nbconvert_exporter": "python",
      "pygments_lexer": "ipython3",
      "version": "3.7.10"
    },
    "widgets": {
      "application/vnd.jupyter.widget-state+json": {
        "192b25b9d68743fcb7195bcf2bbbc964": {
          "model_module": "@jupyter-widgets/controls",
          "model_name": "TabModel",
          "state": {
            "_view_name": "TabView",
            "_dom_classes": [],
            "_titles": {
              "0": "Youtube",
              "1": "Bilibili"
            },
            "_model_name": "TabModel",
            "_view_module": "@jupyter-widgets/controls",
            "selected_index": 0,
            "_model_module_version": "1.5.0",
            "_view_count": null,
            "_view_module_version": "1.5.0",
            "box_style": "",
            "layout": "IPY_MODEL_e8cd9dcd3a5842ec9d1004fdf17d3aa5",
            "_model_module": "@jupyter-widgets/controls",
            "children": [
              "IPY_MODEL_570228558cab4217a094c92213c44f76",
              "IPY_MODEL_722a1d8c591244d3b8682805a2f128bd"
            ]
          }
        },
        "e8cd9dcd3a5842ec9d1004fdf17d3aa5": {
          "model_module": "@jupyter-widgets/base",
          "model_name": "LayoutModel",
          "state": {
            "_view_name": "LayoutView",
            "grid_template_rows": null,
            "right": null,
            "justify_content": null,
            "_view_module": "@jupyter-widgets/base",
            "overflow": null,
            "_model_module_version": "1.2.0",
            "_view_count": null,
            "flex_flow": null,
            "width": null,
            "min_width": null,
            "border": null,
            "align_items": null,
            "bottom": null,
            "_model_module": "@jupyter-widgets/base",
            "top": null,
            "grid_column": null,
            "overflow_y": null,
            "overflow_x": null,
            "grid_auto_flow": null,
            "grid_area": null,
            "grid_template_columns": null,
            "flex": null,
            "_model_name": "LayoutModel",
            "justify_items": null,
            "grid_row": null,
            "max_height": null,
            "align_content": null,
            "visibility": null,
            "align_self": null,
            "height": null,
            "min_height": null,
            "padding": null,
            "grid_auto_rows": null,
            "grid_gap": null,
            "max_width": null,
            "order": null,
            "_view_module_version": "1.2.0",
            "grid_template_areas": null,
            "object_position": null,
            "object_fit": null,
            "grid_auto_columns": null,
            "margin": null,
            "display": null,
            "left": null
          }
        },
        "570228558cab4217a094c92213c44f76": {
          "model_module": "@jupyter-widgets/output",
          "model_name": "OutputModel",
          "state": {
            "_view_name": "OutputView",
            "msg_id": "",
            "_dom_classes": [],
            "_model_name": "OutputModel",
            "outputs": [
              {
                "output_type": "stream",
                "metadata": {
                  "tags": []
                },
                "text": "Video available at https://youtube.com/watch?v=Bwm6rjRpVw8\n",
                "stream": "stdout"
              },
              {
                "output_type": "display_data",
                "metadata": {
                  "tags": []
                },
                "text/html": "\n        <iframe\n            width=\"854\"\n            height=\"480\"\n            src=\"https://www.youtube.com/embed/Bwm6rjRpVw8?fs=1&rel=0\"\n            frameborder=\"0\"\n            allowfullscreen\n        ></iframe>\n        ",
                "text/plain": "<IPython.lib.display.YouTubeVideo at 0x7fd74717dfd0>",
                "image/jpeg": "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\n"
              }
            ],
            "_view_module": "@jupyter-widgets/output",
            "_model_module_version": "1.0.0",
            "_view_count": null,
            "_view_module_version": "1.0.0",
            "layout": "IPY_MODEL_87346846ff524035842b8c64fed3ab70",
            "_model_module": "@jupyter-widgets/output"
          }
        },
        "722a1d8c591244d3b8682805a2f128bd": {
          "model_module": "@jupyter-widgets/output",
          "model_name": "OutputModel",
          "state": {
            "_view_name": "OutputView",
            "msg_id": "",
            "_dom_classes": [],
            "_model_name": "OutputModel",
            "outputs": [
              {
                "output_type": "stream",
                "metadata": {
                  "tags": []
                },
                "text": "Video available at https://www.bilibili.com/video/BV1vV41167T1\n",
                "stream": "stdout"
              },
              {
                "output_type": "display_data",
                "metadata": {
                  "tags": []
                },
                "text/html": "\n        <iframe\n            width=\"854\"\n            height=\"480\"\n            src=\"https://player.bilibili.com/player.html?bvid=BV1vV41167T1&page=1?fs=1\"\n            frameborder=\"0\"\n            allowfullscreen\n        ></iframe>\n        ",
                "text/plain": "<__main__.BiliVideo at 0x7fd740eb6b10>"
              }
            ],
            "_view_module": "@jupyter-widgets/output",
            "_model_module_version": "1.0.0",
            "_view_count": null,
            "_view_module_version": "1.0.0",
            "layout": "IPY_MODEL_d759279eb5174b749614b2711695fd90",
            "_model_module": "@jupyter-widgets/output"
          }
        },
        "87346846ff524035842b8c64fed3ab70": {
          "model_module": "@jupyter-widgets/base",
          "model_name": "LayoutModel",
          "state": {
            "_view_name": "LayoutView",
            "grid_template_rows": null,
            "right": null,
            "justify_content": null,
            "_view_module": "@jupyter-widgets/base",
            "overflow": null,
            "_model_module_version": "1.2.0",
            "_view_count": null,
            "flex_flow": null,
            "width": null,
            "min_width": null,
            "border": null,
            "align_items": null,
            "bottom": null,
            "_model_module": "@jupyter-widgets/base",
            "top": null,
            "grid_column": null,
            "overflow_y": null,
            "overflow_x": null,
            "grid_auto_flow": null,
            "grid_area": null,
            "grid_template_columns": null,
            "flex": null,
            "_model_name": "LayoutModel",
            "justify_items": null,
            "grid_row": null,
            "max_height": null,
            "align_content": null,
            "visibility": null,
            "align_self": null,
            "height": null,
            "min_height": null,
            "padding": null,
            "grid_auto_rows": null,
            "grid_gap": null,
            "max_width": null,
            "order": null,
            "_view_module_version": "1.2.0",
            "grid_template_areas": null,
            "object_position": null,
            "object_fit": null,
            "grid_auto_columns": null,
            "margin": null,
            "display": null,
            "left": null
          }
        },
        "d759279eb5174b749614b2711695fd90": {
          "model_module": "@jupyter-widgets/base",
          "model_name": "LayoutModel",
          "state": {
            "_view_name": "LayoutView",
            "grid_template_rows": null,
            "right": null,
            "justify_content": null,
            "_view_module": "@jupyter-widgets/base",
            "overflow": null,
            "_model_module_version": "1.2.0",
            "_view_count": null,
            "flex_flow": null,
            "width": null,
            "min_width": null,
            "border": null,
            "align_items": null,
            "bottom": null,
            "_model_module": "@jupyter-widgets/base",
            "top": null,
            "grid_column": null,
            "overflow_y": null,
            "overflow_x": null,
            "grid_auto_flow": null,
            "grid_area": null,
            "grid_template_columns": null,
            "flex": null,
            "_model_name": "LayoutModel",
            "justify_items": null,
            "grid_row": null,
            "max_height": null,
            "align_content": null,
            "visibility": null,
            "align_self": null,
            "height": null,
            "min_height": null,
            "padding": null,
            "grid_auto_rows": null,
            "grid_gap": null,
            "max_width": null,
            "order": null,
            "_view_module_version": "1.2.0",
            "grid_template_areas": null,
            "object_position": null,
            "object_fit": null,
            "grid_auto_columns": null,
            "margin": null,
            "display": null,
            "left": null
          }
        },
        "b992495c18b4481986ed2ed969b1f399": {
          "model_module": "@jupyter-widgets/controls",
          "model_name": "TabModel",
          "state": {
            "_view_name": "TabView",
            "_dom_classes": [],
            "_titles": {
              "0": "Youtube",
              "1": "Bilibili"
            },
            "_model_name": "TabModel",
            "_view_module": "@jupyter-widgets/controls",
            "selected_index": 0,
            "_model_module_version": "1.5.0",
            "_view_count": null,
            "_view_module_version": "1.5.0",
            "box_style": "",
            "layout": "IPY_MODEL_0e4858f6955a41cea61524feaa29d190",
            "_model_module": "@jupyter-widgets/controls",
            "children": [
              "IPY_MODEL_42347bb5d5684fd597f09a77ab736d8c",
              "IPY_MODEL_bafb92355578474a8c0b896755c3f46e"
            ]
          }
        },
        "0e4858f6955a41cea61524feaa29d190": {
          "model_module": "@jupyter-widgets/base",
          "model_name": "LayoutModel",
          "state": {
            "_view_name": "LayoutView",
            "grid_template_rows": null,
            "right": null,
            "justify_content": null,
            "_view_module": "@jupyter-widgets/base",
            "overflow": null,
            "_model_module_version": "1.2.0",
            "_view_count": null,
            "flex_flow": null,
            "width": null,
            "min_width": null,
            "border": null,
            "align_items": null,
            "bottom": null,
            "_model_module": "@jupyter-widgets/base",
            "top": null,
            "grid_column": null,
            "overflow_y": null,
            "overflow_x": null,
            "grid_auto_flow": null,
            "grid_area": null,
            "grid_template_columns": null,
            "flex": null,
            "_model_name": "LayoutModel",
            "justify_items": null,
            "grid_row": null,
            "max_height": null,
            "align_content": null,
            "visibility": null,
            "align_self": null,
            "height": null,
            "min_height": null,
            "padding": null,
            "grid_auto_rows": null,
            "grid_gap": null,
            "max_width": null,
            "order": null,
            "_view_module_version": "1.2.0",
            "grid_template_areas": null,
            "object_position": null,
            "object_fit": null,
            "grid_auto_columns": null,
            "margin": null,
            "display": null,
            "left": null
          }
        },
        "42347bb5d5684fd597f09a77ab736d8c": {
          "model_module": "@jupyter-widgets/output",
          "model_name": "OutputModel",
          "state": {
            "_view_name": "OutputView",
            "msg_id": "",
            "_dom_classes": [],
            "_model_name": "OutputModel",
            "outputs": [
              {
                "output_type": "stream",
                "metadata": {
                  "tags": []
                },
                "text": "Video available at https://youtube.com/watch?v=UP8rD2AwceM\n",
                "stream": "stdout"
              },
              {
                "output_type": "display_data",
                "metadata": {
                  "tags": []
                },
                "text/html": "\n        <iframe\n            width=\"854\"\n            height=\"480\"\n            src=\"https://www.youtube.com/embed/UP8rD2AwceM?fs=1&rel=0\"\n            frameborder=\"0\"\n            allowfullscreen\n        ></iframe>\n        ",
                "text/plain": "<IPython.lib.display.YouTubeVideo at 0x7fd74717dfd0>",
                "image/jpeg": "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\n"
              }
            ],
            "_view_module": "@jupyter-widgets/output",
            "_model_module_version": "1.0.0",
            "_view_count": null,
            "_view_module_version": "1.0.0",
            "layout": "IPY_MODEL_0172bf2e477d48c1aa53c9106618be61",
            "_model_module": "@jupyter-widgets/output"
          }
        },
        "bafb92355578474a8c0b896755c3f46e": {
          "model_module": "@jupyter-widgets/output",
          "model_name": "OutputModel",
          "state": {
            "_view_name": "OutputView",
            "msg_id": "",
            "_dom_classes": [],
            "_model_name": "OutputModel",
            "outputs": [
              {
                "output_type": "stream",
                "metadata": {
                  "tags": []
                },
                "text": "Video available at https://www.bilibili.com/video/BV1fg4y1v7P3\n",
                "stream": "stdout"
              },
              {
                "output_type": "display_data",
                "metadata": {
                  "tags": []
                },
                "text/html": "\n        <iframe\n            width=\"854\"\n            height=\"480\"\n            src=\"https://player.bilibili.com/player.html?bvid=BV1fg4y1v7P3&page=1?fs=1\"\n            frameborder=\"0\"\n            allowfullscreen\n        ></iframe>\n        ",
                "text/plain": "<__main__.BiliVideo at 0x7fd746f60d10>"
              }
            ],
            "_view_module": "@jupyter-widgets/output",
            "_model_module_version": "1.0.0",
            "_view_count": null,
            "_view_module_version": "1.0.0",
            "layout": "IPY_MODEL_3990eb7de0ed479e93d9eedacd0d0910",
            "_model_module": "@jupyter-widgets/output"
          }
        },
        "0172bf2e477d48c1aa53c9106618be61": {
          "model_module": "@jupyter-widgets/base",
          "model_name": "LayoutModel",
          "state": {
            "_view_name": "LayoutView",
            "grid_template_rows": null,
            "right": null,
            "justify_content": null,
            "_view_module": "@jupyter-widgets/base",
            "overflow": null,
            "_model_module_version": "1.2.0",
            "_view_count": null,
            "flex_flow": null,
            "width": null,
            "min_width": null,
            "border": null,
            "align_items": null,
            "bottom": null,
            "_model_module": "@jupyter-widgets/base",
            "top": null,
            "grid_column": null,
            "overflow_y": null,
            "overflow_x": null,
            "grid_auto_flow": null,
            "grid_area": null,
            "grid_template_columns": null,
            "flex": null,
            "_model_name": "LayoutModel",
            "justify_items": null,
            "grid_row": null,
            "max_height": null,
            "align_content": null,
            "visibility": null,
            "align_self": null,
            "height": null,
            "min_height": null,
            "padding": null,
            "grid_auto_rows": null,
            "grid_gap": null,
            "max_width": null,
            "order": null,
            "_view_module_version": "1.2.0",
            "grid_template_areas": null,
            "object_position": null,
            "object_fit": null,
            "grid_auto_columns": null,
            "margin": null,
            "display": null,
            "left": null
          }
        },
        "3990eb7de0ed479e93d9eedacd0d0910": {
          "model_module": "@jupyter-widgets/base",
          "model_name": "LayoutModel",
          "state": {
            "_view_name": "LayoutView",
            "grid_template_rows": null,
            "right": null,
            "justify_content": null,
            "_view_module": "@jupyter-widgets/base",
            "overflow": null,
            "_model_module_version": "1.2.0",
            "_view_count": null,
            "flex_flow": null,
            "width": null,
            "min_width": null,
            "border": null,
            "align_items": null,
            "bottom": null,
            "_model_module": "@jupyter-widgets/base",
            "top": null,
            "grid_column": null,
            "overflow_y": null,
            "overflow_x": null,
            "grid_auto_flow": null,
            "grid_area": null,
            "grid_template_columns": null,
            "flex": null,
            "_model_name": "LayoutModel",
            "justify_items": null,
            "grid_row": null,
            "max_height": null,
            "align_content": null,
            "visibility": null,
            "align_self": null,
            "height": null,
            "min_height": null,
            "padding": null,
            "grid_auto_rows": null,
            "grid_gap": null,
            "max_width": null,
            "order": null,
            "_view_module_version": "1.2.0",
            "grid_template_areas": null,
            "object_position": null,
            "object_fit": null,
            "grid_auto_columns": null,
            "margin": null,
            "display": null,
            "left": null
          }
        },
        "a9808c1714e04f18a43df7039c0ff1a9": {
          "model_module": "@jupyter-widgets/controls",
          "model_name": "TabModel",
          "state": {
            "_view_name": "TabView",
            "_dom_classes": [],
            "_titles": {
              "0": "Youtube",
              "1": "Bilibili"
            },
            "_model_name": "TabModel",
            "_view_module": "@jupyter-widgets/controls",
            "selected_index": 0,
            "_model_module_version": "1.5.0",
            "_view_count": null,
            "_view_module_version": "1.5.0",
            "box_style": "",
            "layout": "IPY_MODEL_78fffe9786ba4de2afdb25be05890125",
            "_model_module": "@jupyter-widgets/controls",
            "children": [
              "IPY_MODEL_a67e6ece991341d8b8a2e89e1c5fdab3",
              "IPY_MODEL_9c12f5bed79649658cd71af2dcc46683"
            ]
          }
        },
        "78fffe9786ba4de2afdb25be05890125": {
          "model_module": "@jupyter-widgets/base",
          "model_name": "LayoutModel",
          "state": {
            "_view_name": "LayoutView",
            "grid_template_rows": null,
            "right": null,
            "justify_content": null,
            "_view_module": "@jupyter-widgets/base",
            "overflow": null,
            "_model_module_version": "1.2.0",
            "_view_count": null,
            "flex_flow": null,
            "width": null,
            "min_width": null,
            "border": null,
            "align_items": null,
            "bottom": null,
            "_model_module": "@jupyter-widgets/base",
            "top": null,
            "grid_column": null,
            "overflow_y": null,
            "overflow_x": null,
            "grid_auto_flow": null,
            "grid_area": null,
            "grid_template_columns": null,
            "flex": null,
            "_model_name": "LayoutModel",
            "justify_items": null,
            "grid_row": null,
            "max_height": null,
            "align_content": null,
            "visibility": null,
            "align_self": null,
            "height": null,
            "min_height": null,
            "padding": null,
            "grid_auto_rows": null,
            "grid_gap": null,
            "max_width": null,
            "order": null,
            "_view_module_version": "1.2.0",
            "grid_template_areas": null,
            "object_position": null,
            "object_fit": null,
            "grid_auto_columns": null,
            "margin": null,
            "display": null,
            "left": null
          }
        },
        "a67e6ece991341d8b8a2e89e1c5fdab3": {
          "model_module": "@jupyter-widgets/output",
          "model_name": "OutputModel",
          "state": {
            "_view_name": "OutputView",
            "msg_id": "",
            "_dom_classes": [],
            "_model_name": "OutputModel",
            "outputs": [
              {
                "output_type": "stream",
                "metadata": {
                  "tags": []
                },
                "text": "Video available at https://youtube.com/watch?v=JkxgotYwu4Q\n",
                "stream": "stdout"
              },
              {
                "output_type": "display_data",
                "metadata": {
                  "tags": []
                },
                "text/html": "\n        <iframe\n            width=\"854\"\n            height=\"480\"\n            src=\"https://www.youtube.com/embed/JkxgotYwu4Q?fs=1&rel=0\"\n            frameborder=\"0\"\n            allowfullscreen\n        ></iframe>\n        ",
                "text/plain": "<IPython.lib.display.YouTubeVideo at 0x7fd7407b1f10>",
                "image/jpeg": "/9j/4AAQSkZJRgABAQAAAQABAAD/2wCEAAUDBAoICA0KCggKCgoKCgsICAgKCggICAgICAoICAgICgoIChANCAoOCgoIDRUNDxERExMTCgsWGBYSGBASExIBBQUFCAcIDwkIDhIPDQ4SEhISEhISEhISEhISEhISEhUSEhISEhISEhISEhISEhISEhISEhISEhISEhISEhISEv/AABEIAWgB4AMBIgACEQEDEQH/xAAdAAEAAgIDAQEAAAAAAAAAAAAABQYEBwEDCAIJ/8QAXhAAAQQBAQMECgoNBg0EAgMAAQACAwQRBQYSIQcTMUEIFBYiUVJhcZLSGDJUVYGRk6HU8BUjNDZzlKSxsrTB0eIJQlNydeEXJDM1N0NidIKis7XxdoOF00SEJWOj/8QAGgEBAAMBAQEAAAAAAAAAAAAAAAECAwQFBv/EACoRAQEAAgEDAwMEAgMAAAAAAAABAhEDBCExEhNBBVGBInGhscHhFEJh/9oADAMBAAIRAxEAPwDxkiIgIiICIiAiIgIiICIiAiIgIiICIiAiIgIiICIiAiIgIiICIiAiIgIiICIiAiIgIiICIiAiIgIiICIiAiIgIiICIiAiIgIiICIiAiIgIiICIiAiIgIiICIiAiIgIiICIiAiIgIiICIiAiIgIiICIiAiIgIiICIiAiIgIiICIiAiIgIiICIiAiIgIiICIiAiIgIiICIiAin+5Sfx4vSf6idyk/jxek/1EEAin+5Sfx4vSf6idyk/jxek/wBRBAIp/uUn8eL0n+oncpP48XpP9RBAIp/uUn8eL0n+oncpP48XpP8AUQQCKf7lJ/Hi9J/qJ3KT+PF6T/UQQCKf7lJ/Hi9J/qJ3KT+PF6T/AFEEAin+5Sfx4vSf6idyk/jxek/1EEAin+5Sfx4vSf6idyk/jxek/wBRBAIp/uUn8eL0n+oncpP48XpP9RBAIp/uUn8eL0n+oncpP48XpP8AUQQCKf7lJ/Hi9J/qJ3KT+PF6T/UQQCKf7lJ/Hi9J/qJ3KT+PF6T/AFEEAin+5Sfx4vSf6idyk/jxek/1EEAin+5Sfx4vSf6idyk/jxek/wBRBAIp/uUn8eL0n+oncpP48XpP9RBAIp/uUn8eL0n+oncpP48XpP8AUQQCKf7lJ/Hi9J/qJ3KT+PF6T/UQQCKf7lJ/Hi9J/qJ3KT+PF6T/AFEEAin+5Sfx4vSf6idyk/jxek/1EEAin+5Sfx4vSf6idyk/jxek/wBRBAIp/uUn8eL0n+oncpP48XpP9RBAIp/uUn8eL0n+oncpP48XpP8AUQQCKf7lJ/Hi9J/qJ3KT+PF6T/UQQCKf7lJ/Hi9J/qJ3KT+PF6T/AFEEAin+5Sfx4vSf6idyk/jxek/1EEAin+5Sfx4vSf6idyk/jxek/wBRBAIp/uUn8eL0n+oncpP48XpP9RBAIp/uUn8eL0n+oncpP48XpP8AUQQCKf7lJ/Hi9J/qJ3KT+PF6T/UQQCKf7lJ/Hi9J/qJ3KT+PF6T/AFEFzREVlRERAREQEREBERAREQEREBERAREQEREBERAREQEREBERAREQEREBERAREQEREBERAREQEREBERAREQEREBERAREQEREBERAREQEREBEWBrmo9qxh+5v5eGY3t3GQ52c4Pi/OiWeiq/dcPc5+U/gTuuHuc/KfwKDS0Iqv3XD3OflP4E7rh7nPyn8CGloRVfuuHuc/KfwJ3XD3OflP4ENLQiq/dcPc5+U/gTuuHuc/KfwIaWhFV+64e5z8p/AndcPc5+U/gQ0tCKr91w9zn5T+BO64e5z8p/AhpaEVX7rh7nPyn8Cd1w9zn5T+BDS0Iqv3XD3OflP4E7rh7nPyn8CGloRVfuuHuc/KfwJ3XD3OflP4ENLQiq/dcPc5+U/gTuuHuc/KfwIaWhFV+64e5z8p/AndcPc5+U/gQ0tCKr91w9zn5T+BO64e5z8p/AhpaEVX7rh7nPyn8Cd1w9zn5T+BDS0Iqv3XD3OflP4E7rh7nPyn8CGloRVfuuHuc/KfwJ3XD3OflP4ENLQiq/dcPc5+U/gTuuHuc/KfwIaWhFV+64e5z8p/AndcPc5+U/gQ0tCLqqTc5G1+Mb7GvxnON4B2M9fSu1SgREQEREBERAREQEREBERAREQEREBERAREQEREBQO3P3M38K39CVTygdufuZv4Vv6EqhKloiKEiIiAiIgIiICIvRPYR8mOlbS2r0eqVXWG14a8kAE9mvuOlkma85ryNLshrenKDzsi9buZyWm2+nLTvVJGSurvmkk1QxMkjeY3d9HZkw3eB74txjicKl9llyBwbLRQahp1qSfTrcva+7M6OSWCd8b7EO5LE1rZ4XxslIOMjm+JdvZAefEREBFbuSjk6v7T3XUtOjjfNHA63IJZWQsbBHJDC528/pO/NGMDJ4nwKA2i0qShcnqTbvO1Z5ak24d5nO15HwybrsDebvNOCgwEXrrsdKcT+SvXpHRRue2XUtyRzGue3GmacRuuIy3BJPBeRUBERAREQEREBERAREQEREBERAREQbI0j7ni/BR/oNWUsXSPueL8FH+g1ZSsgRERAiIgIiICIiAiIgIiICIiAiIgIiICIiAiIgKB25+5m/hW/oSqeUDtz9zN/Ct/QlUJUtERQkREQEREBERAXrv+TT+7tU/3ar/1bC8iL13/ACaf3dqn+7Vf+rYQaQt8mOs6zr1mGnpVuTnb9gCYwTR1Y2unlPOyzvaI4o8cd4njwAySAfVnZJbQ6Zs9p+zui3xDeZWs0nX68zGzB+lUqU+lzW5I8EhxdNzkfRvOgfj2pWmuULsr9pW2rNWCWnWbFYmrxzRVWunDIpXxtObL5GbxaBk7vmwvPe0OtWdRsvtW7EtixM7fmnme6SR5wGjLndQaA0AcAAAMAAIN/dnTyYVtD1Otb0+rHXo365ZzUDcQR3KpaJC0N71gkhkgcB/OLZT4V29hXyd0LrdR1rWK0U2mabWczcnYJIXThvbViXBPF0FeMcD7paR0LYcR7uOSgjjJqGhjh7d0jpdJjy3h7aZ0umyY696Rx6S1RfLrjYzk6o7PtJZf1U89qOO9eA10du+HOjxnErqlUZ9vGx444KCZ7BTbPTLupWq0GhQ077or2oPvQ82GMoTXqhi0xgDA7mo+dhAyeiEcOK1t2SPKPs9ZGp6dX2ViramL0sJ1gGAvM9a+11qfgwPzM2OYHj/rT0rI/k4/vqs/2NY/XtKWk+Wf75NU/tbUP1ywg9X9hjoI1Tk81WiZ2122792s+y8bzK7JdO0tj5iC4b240udgkA46R0qG2W292Bo6hBotXZpmoQvnjov1y3Xp23yzTPbD2yHWmmR8W+7JcwRADeLGEBoPz2NpxyUa/wDhdT+fStNBXlrk/wD870/9+q/9eJBtXsz+TOrs1r7G0Wc3Uu1hcjr7xc2tKJJIp4WFxJ5vvWPGTw5wgcGhXzkg5LtE2f2WbtTtLWNwzhr9N0w4MZZOS2pmPeDLEszAZcPJYyMglu8Dj6/lJ/8APGn/AO4SfrDlZOzExLyd6HJXH+Kh2nOaGjDWMfpU4g73A3AG5bggYJA4dCCC2B5TNj9qL0ek3tiKWli49tapcqGuHCxId2FkktStXlh3n7rQ4F4LntDgG5ctJdkZyXP2S1t9HnHTV5GC3QsOAEklWRz2NbLugN55j2PY4jAO6HYaHhoqXJ/DJJq9NkWedfeqshA9tzrp4mx4x17xC9Pfylk0Zv6YwEc62tafIOG8IpJYGwkjwbzJ8eYoLf8A4H9mp9itJ1HUIq+nwwVqOp6xeij5u3fiNKRrqnOsBeXT2pq5IaC927utw4tIxOSDanYjaq8dCh2Pgqtkgk7VszQVGW5mws3ntNiu42IZubDnh4lce8d3wOMw3ZM/6Kdn/wCvpX/aNQWo+wi+/rT/ADXv+23kFE5ZNkRoOvXNNbI6RlSw6OGR2OcdA8NlgL90AGTmns3sADOcABVFbZ7MD79tT/DxfqlVamQEREBERAREQEREGyNI+54vwUf6DVlLF0j7ni/BR/oNWUrIEREQIiICIiAi4Ll8GdoON4ZAyR5FG06diLBdcGQQ9uOGG5B3uOD5esdCyopc+T937VEylTca7EXwJW5xnzeXzeFfalAiIpQIiICIiAiIgIiICgdufuZv4Vv6EqnlA7c/czfwrf0JVCVLREUJEREBERAREQF6D7CzlT0zZe1ek1KWWNtmGCOAxwyT5dE+Vz8iMd7wc1efEQSm1txlnULM0ZJjmtTzRkjBMcsr3sJB6DukcFFoiD1T/Jw63Zj1u5SYwvqT0hZsO/mwT1ZWMrvyTgBzZ5mFoGXHcPQwrXHZh7dfZzauyWP3q1E/Yupj2pbVc4WJOnDt+y6wQ4dLOb8GVM8gHLVQ2T0G/DFUtP1m+HiG41sAqwbkTo6IJdNvuEcj5pThgyXhvUCtCINmdjTynDZPXmX5IXTV3wyU7sce7z5rTGOTfh33BpkbLFC7DiA4Nc3Lc7wv3ZG2Nh9Sit6ppWo3jrFqRk7aAhniounmnjddmk7Ypgtc6N078Nmxv4wMcF51RB6I5GuVbS9M2C1bRrMsrb1+S66rG2GR8bhZo0q0W9IBuszJFIOPQBnrWi9krjK2oVppCRHDagmkIGSI4pWPeQB0ndB4KLRBvvsz+U7TdqNRqT6bLJJHBVfBKZIpICJHTOeABIMuG6elS3Iby56aNCds3tNVls6Yctq2ow6SWqwv55scga4SbscnfMkjJc3g3dLQMebkQesdkNb5ONlrI1Ola1TV7kPf0q80UgFeYhzRIznataLIDj30jpC3Ac0bwBWgeWblDtbUavLqNoBheBFXrtJcyrVjLuZrtcQC/G85znYG897zhucCmIg9F8tfKxpeq7B6To1aaV16g6g63G6GSONoq6fbqzbsju9fiWVgGOkHK192Mm19TQdqamo3nvZWri0JXsY6V45+larx4Yzi7MkjBw8K1qiC/dkPtRW1raa7qFNzn1rMsb4XPY6J5ayvBE7LHcW98x3SqCiICIiAiIgIiICIiDZGkfc8X4KP9Bqyli6R9zxfgo/0GrKVkCIiIEREBY+oWBHGXOzgdOBk/EF3PeG9JwqxreobxwD3vVjBBwSOKrbpbGbfF7WHOwI2luAd/J4YdgDzedRksjyDlx4+U4PgP5l1Tu3jjw4+MZx5+td9ajJIcNaTjp6cebOOCr2nleS3tHQxzuHk4/u/YpSPVHtZjeBI6MjJAHgPQfhXQ/TZmZBjIGM9QOB18V1PqSMaHOYQ13QeOSPB5OkfGo9WNWuGU8ysynqLt8F5B/mjyZxxHgKtcEmRgnj8+Opa/eXMOCMZ/Ys2jfMZb0d6d4kZ3nDj3pOePT1q0mlL3XhFg0L3OYBYWFw3mZwQ9oxnzHiOCzlaKaERFKBERAREQEREBQO3P3M38K39CVTygdufuZv4Vv6EqhKloiKEiIiC07Acnmqa+ZRplCS2a4YbAjdE0xibfEZPOvbnPNv6M9CrEjC0kEEEEgggggjgQQeg5XoTsAtpu0trRWc4hmo1Jqu7nvefhAuxPPl3YJmD8LjrVC7J7Zr7E7XajXAIY6065Dww3mr4bdY1vhazniz/AICOkFBC0eTPWJ9Jdq8emzP05jXvddBj5sMheYpXYL98hr2uBIb1HwKoL9QuT3ZCCPZCHZyTdZNLoW7ahHAsfqUUrbUo4e6pJjvdOeK/Obky2TfquvVNMdG8OsXYq1hntZIohIO23EHBaY4myuI6e8KDr2v2E1LSIK89+jJVivMMtJ0hjBnja2KRzgxri5uGzQk7wGN8DpVaXoz+UB2mFvadlGN32rS6cVfmwAGMsWR21KW4H9C+o3HQObx4VUuTHscNodfrNtQVI69WRofBZuy9rtnYeh8cbWvlcwjBD9wNcDwJQagRbU5VuQDXtm4DZt02y1G4El2pILMERccDnRhskLc4G+9gblzRnJwqBshoE+q3oaNZrXWLUrYIGucI2GR5w0FzuDR5UEUrXySbEybR6zX0uGeOCS0ZQyaUOdGzmK81o7wZxOWxEcOshXil2NW0c2qv01tKLnYoo57Fgzx9pV45+c5oPmGd57ix32tgc7rxjJFj7HbY2zs/ynVNMtuidYrOsCV0DnSQnn9HtWWbjnsaT3krM5aOOUGo+VrYqTZ3WbGlzTMnkqmIPmjDmxv5+CGyN0P4jAlA49YKqq3F2aP386l/Wqf9uoqA2n5GtX0vRo9Xuww1as/N8xHNPEy5KZz9rY2tnf3yzMhb0hgcTjBCDXiK1cmfJ7qW0dvtXTajp5GgPmeXMigrxk7vOSyyENYOnAyXOwQ0OPBbU2i7EnaOlVksuOnyshifPKyK0/nBHE10j8c9CxpIaDw3kGldkNGdqWo1qTHtjfctQUmSOBLI32pWQNe4N4loLwTjjwVt5eeS6fZHUmULFqKy+Wqy6JIWyMYGSy2IAwiQZ3gYHHwd8FG8if3zaV/a+nfrtdekuzM5O9T2k21graZTdO9mjVnTSZbFBWjdd1MCSaWQhsY4Ow3Jc7dduhxGEHj5FuPlP7G3X9n6TrtiGvYrRjesSU5nTms0kDflZJGx+5k8XNDgOkkDitOtGTgcSeAHWSg4Rb02O7FLabUa4nNWCk14Do470xhsOaWhwJhijkfCeON2UMcCOICpHKxyQ6xsu5v2SpFkUjtyC5E9s9SZ4BduCSM/a34DiGSBjiGuIBAygoSK08mGwN7aS92jp7I32OafY3ZJGwt5uIsDzvP4Zy9vBXrY3sa9otUszwxVIomVJ5ac9yeZsdR1mu7m5YonMa59jDt4FzGFoLXAkHgg04i2RyvcietbLBsl+q015Hc3Hdrv5+qZSCeac7AdE8gEgPa3ew7GcHGt0Fu0zk11ezpT9Wh06V+nRNkfJdDohGxsB3ZSQX7/AHpz0BVFe2+Sf/Q3d/Aal/1nrxIgIiICIiDZGkfc8X4KP9Bqyli6R9zxfgo/0GrKVkCIiIF8yP3Rn+9fS6LoJjOOnHDz9SipiA1y+S7dBxgdOTx6eGOo8cfAo/TaMlk8G5A4E9WfgWNYBBxxJ4b2c5cT5TxW09hdLEddpxxPfHzkdHFcvUcnt47+XZ0vD7uer4iP2V2GG8Hy99wyOnGergevyq56fsxFE7IaRxz8J83Qs+o7d6AVJwyDHE/n/cvKz5ssru19DxcOHHNYxD29nYpcZjyR0Y/bjpXTd0SLgHRjgMdAPR1Kyic+X+5Y9gZH71nbrxW2p8xqnbzZVjmGWPvXNHR0ggdA8i1rvEHj09Getb32obiJ3g4/t+ZaR1GMNldjAGT5RknOPMvV6HkuWOq+f+pceOOe8ZrbP0a6WvaN7h7TjxwCeono6VbK7st4nJ+vDgqFQe/nRggZdneI6Mcd74Artpsm83oI6CM4zxz046Cuydq8694y0RFdQREQEREBERAUDtz9zN/Ct/QlU8oHbn7mb+Fb+hKoSpaIihIiIgnuTvaF2k6vUvt3v8TtwWnNYcOfHDKx8kQ4j27A5hBOCHEL192XPJ2NV2y0CZjDJDqjo6FndGYzDSnZalkLgPbOqWJcAniIOHQV4jX6adjvdr65srouo2Ced0qN4bI52XMnpVrmjTPlPHeD4Hvk49bmE8Qgo1HlBDuWGSnvHmzpf2Dbg946aKMa0XEdG815niBPHJI61A8jPJ22nyoa1akaBX0xs2oRyO4CKXXGieLGBjcbWlvtz1bg6TnHmLRtv3M2wZrr3OYHax9k5h7Zza8toyzw4GcjmHPjwOrgOpe8Oyr1GHRNmdVvxNa23qVeDSy/Ia6XnS+q3DgM70dee08f1erpQeLeTyFm2O38TrLSYdR1Sa7NE/jmrFz13tR3E97zMQh4HgOhbG7PvlAuHXG6PBZkgpU6sJlrQvdFHNYst54ulbGQJGthMDWtdkN78jG8VpLkI2tZoW0lHUZf8jXsjtggFxZWna+tZkDWgl7mxSyODQOJaB1rfvZxclt+/q0Wt6ZTl1CndqwNkkpMfceyaJrhHKWV2uJryV+YLZRluQ4HGWbwd3YBbb2b1u5oN6R1yhNQksRwWXGwyIMfDWnrNbLn7RNFYO9HndzHwHfuJ1fyc7Pt0nlMgoMzzdTXnVod45cYIrEjYHE9ZMQYfhW4Owg5ObegSXdoNZhk02rFSfWiFxjq8hjMkVizZdFIBJGxjYGNbkd/zh3c4C01yWbQfZblIrXw1zRc1022MdjejjnnkkjjOCRlrC1vAnoQbf7PHlY1OjqjNHo2ZKMHa8dy3NWe6CzcmmL42tfLHh7Y2RxNG60jeyd7IDQ3VHYf6jNa2/06axPLPM82g+aaR80rwzS7sbA58hLnbrGtaMngGgdSmv5QX78P/jqv6VhVvsK/v603z3P+230HpjaDkird1+q7V64MaVQ5mzUrFhl7bkqUKYktSMaCXQRSMc1sePtkjeOGsxJ5K7IDlXtbW6q63NvR1ot6LTqW9llWuTkkgcHTyYa6R/SSGj2rGAek9peXZ2zPKDqdG9vTaLblqCxGWmU0ZJNOotdajjwTJERwkiAJcO+aC4br9YdlnyGs0fGt6PuzaJc3JftJEsVB1nDoS17Mh1KXebzcgOAXNYTxj3wuXYA65Ukpapo/bnaOpXhv07TSxth8Zrywh1cu/wApNWeXTBnT9sJAIDyNZ8qfJHtXsmZrBnty1H7wn1ShZsujeyQOa422scJYQWYDjK3cy4ND3KibG8mWtapQdqWm0JrUNewa8jqpElqGeNkUzS2BjuefwkaQ6NrsFpzjhn2D2F2sbUWBaq69Xtu0yKv9psapDJHYE5eGurB9pofbhdCZi4v3wzcjGQHYIeOORP75tK/tfTv12uvVvZ38r2oaRbi0nTpDTdYqMu3tQhO5cmidLZggqRytw6BjTFK8uad477QC0b4f5q2LFYbdVRTx2oNo64pYJLe1Bqcfa2Cekc1uLZ/8oz99df8Asev+uamg2P2E2v2dW2a1qrfszXImNc1osySWSIrlSwyeHMxJEbubB3OjLnnGXHOn+wN2Vg1Pa1sk8Ye3T6kupxNc0OYbUctavXcQQRvMdOZW9BDomnqWzf5Pr/MuueaH9WurVHYP7Z19G2rZ2y8RxX60ml8844jilmkrzwOeeoOlgZHnoBlBOBkgI/sq+Ue/qu092N1udtWjclo06jZXsgiFGR1d0zWNIBkkkY+QvOXd8BnDWgb57E7VpNstkdU0PU5pLZrhsdeecmaaKK7HM+kRJJkvdBZryPYXElo3G+1a0LUPZQ8imsVNpLditply5Uv2Zb9exVry22tdbeZ5oJBXYeZcyV8jQHY3mtaRnitxdj1o8nJ/sZqOsatH2rau7rq1OXLLDuaikZpteSMjeinknmnJZjLGd87G64NDU/8AJ8/ff/8AHWv06y6Oyq5YdYm2gt0Ib0tKnQtTVoa1KSSq2RzJCZLM7oS108r35ed44BPAZLi7v/k+fvv/APjrX6dZYvZQ8j2ux7S3Lcek2bVa9bmtVbFKGa7GWSu3hHJzDC6vKN7dLXgZIdulwGUG7Ox31qxthyf6nQ1SY2pIBYqw2ZsyzbgrR2qUsj3kmWWGyC4PPHDI+sZPhVe3OTSjLsFyb3rOpDta9qTpu06cmGzsmtV21KML4yc86NySw5ntmsyHBpa4DxGg9t8k/wDobu/gNS/6z14kXtvkn/0N3fwGpf8AWevEiAiIgIiINkaR9zxfgo/0GrKWLpH3PF+Cj/QaspWQIiIgWPdO6N49AHhxg9KyFg6xC57O96Rk8ejGMFVy8LY+VRneZJgT1uAcRw4E/wB62jpG0EFdmJHEAAAYGergtYUoN+wxvDi8fsP5lfjCIpubZG1790v3nHDG8Cd0uIIBOMdGePUuPqJMrJXodHlcZbFw2f2rrWDhmR5HYB8+PArZDNFjePHHxDC1RTg51hkfDzJAHFrSDvHJdjvRwbgcT05CuukSllMb7cvIBOc9OFwcuMxvZ6/DnllO/wDWmVre2NavwLHuJ6m8fzKIbtdHL7WJ7R17x3SM+R3EjzKP5jnCHb7Gbx75zg7A443e9ad3A8OM4PFRjtRmYHNkqN3GdLxjJ74gc2Dxe3AByCMZPA8M6Y8cynj+WfJnljfP8J2/dEjHdGSMEHjgngtMa4N2w8DBAcRn+5beNNvN77ehzQ4Nz0deB9QtX7W0eZskAYa4b+enp4Eedb9HZMrHF18twl+1RVY8eI4Hh0cBnpCumhn7SPiz4ccAVVKtNz2lzQcdZ4Y+FWjRmbg3eoDdJ6ienI+PpXfvu8uyyJJERXZiIiAiIgIiICgdufuZv4Vv6EqnlA7c/czfwrf0JVCVLREUJEREBXTZblU1rS9Nl02nqckFKxzvP12sgdvdtRtgn3ZJIzJFvMaPaObg5IwSSqWiArttxyra1rdOOnqGpSWa0D2SwwujrMDJIo3wseXQxNc8iN7298T7Y9apKIC2Hye8tm0GgQCvp+rSxVwd5taSOvbhZk7zmxttxP5hpOSRHu5JcekkrXiIL1yicr2u7QRiLUtWmsQtO8K7Ww1aznAgtc+GpHHHK5pAw54JHHGMnNV2c1qxp1uK3VlMVivI2avMGseY5GcWu3ZGlrseAghR6IJ/bzbK/rtvtvUbRs2ObbDzzmQxnmo94sZuwMa3hvO44zxWPsftLb0i7Heozmvag3+ZnDY3lnOxvgk72VrmnMb3t4g9KiEQS+2G0lvV7sl69OZ7U+4Zpy2NheYo2Qs72JrWjEbGN4AdCsmznK/rmn6adMr6m5unubLG6lJDUtQmOzvc/Fi1C8iN+88lgO7lzjjLjmiIgunJzyqa1s617dL1OWqyR3OSQhsM8DpMBvOczZjfGH7oaC4NyQ1vgCmtt+X3aTWar6tzWJHVpBuywQw1KbZWEbro5HVIWPkjcM5Y5xacngtYogy9G1GWnZiswPMc9eWOzXlAa4xzQPbLFIA8EEte1pwQRwUxygbb6hr9ptrUrbrU7Im1mSuZDEWwMfJI2PdgY1uA+SQ5xnvvMq4iC37B8peraFDNDp191aK3jtpjYq0nO7rXsbkzxOLe9e8d6R0qoIiDamyvZD7UaZWbWr63KYWN3I22Iql18beIaGy3IXybrehrd7dAAGMABVXlD5RNV2glbJqeozWzHnmmP3I4It72xjgga2KJx4ZLWgnAz0BVVEHoj+T5++//AOOtfp1l18pvLVr+z+0+q1tO1WSGt9lLb21nx1rULHPle5/NttRP5jLiXEM3QSSTkkrRmz2u29Om5+lcsU5t0x8/VnmqzbjsFzOcgc126cDIzg4CxtSvS2ZnzTzSTTSuMk08r3yzSyOOXPfJIS57iekkkoLByicoOqbQztm1S/LbfG0thDhHHFCH4L+bhgY2KIu3W5LWgu3W5zgYq6IguWl8qOsVdIfo8OoOZpsrZGS0xFWLXtsHemHOOiMg3iT0O82FTURAREQEREGyNI+54vwUf6DVlLF0j7ni/BR/oNWUrIEREQLghcooSxNL0rf1GMgDB3nnhjDo2l3z4+dX2zp7S3o49eP3KD2Tx2xxAyGP3SekHGOHlwSrfHj9pXl9Zv1Pb+m6uP5Qo0wZaDnic7vUevip+ywNGMcAOI6lFv1ONk4L2970NdnvWgeHz+Fd+p6wxzsxs3uGHHOG+TJPSfIMrluNr1JqWxy3SmTNJA49RH87zrqi07jhzRw6nAZ/Mu7Q7LgC4DHfZEZOegDPwqXksRvbvDrReyeUTYg3eHDox5v7lrvbelvytHh4jPXxwfPjwLZNyXgceDgoltRk0g32ghm88uI6GtGT+YfMteG+m7cPU4zOemfKpaFs8Wxuc52QI3Oa0fzsDLsHr6elYWkwhkTQOOQDnwk9J4q969e5qsN0FpfvMYMAbrZMFxx1d6PjcqevQ6a3KXKvK66Y4WYY/E7iIi6nniIiAiIgIiIC4c0HpAPnAP51yiDr5lviN9EfuTmW+I30R+5diKEuvmW+I30R+5TGw2mw2dWpQSxNfFPqNKtPHxbvw2LcEMzN5hDm7zHOGQQRngQVFqf5NP8APum/2tp369VQe0fY67L+8rfxvUvpSex12X95W/jepfSltZFCWqfY67L+8rfxvUvpSex12X95W/jepfSlednNstO1KaWCnqNazNWO7ahhmjlkrneczEjWnLO+a5vHrCzdotbradWfauWYq1ePd52xM9sUMfOPbEzee8gDL3MaPK4INc+x12X95W/jepfSk9jrsv7yt/G9S+lLZejanDdrssVpmTwTNEkM8bg+KVh6Hsc3g4HwhZaDVPsddl/eVv43qX0pPY67L+8rfxvUvpS2siDVPsddl/eVv43qX0pPY67L+8rfxvUvpS2siDVPsddl/eVv43qX0pPY67L+8rfxvUvpS2so/aLW62nVn2rlmKtXi3edsTPbFDHzj2xM3nuOG5e9jR5XBBrn2Ouy/vK38b1L6Unsddl/eVv43qX0pWfQeVHQr87a9XXdOnnkO7FBHcrOmld07sbN/ekdgE4aCeBVvQap9jrsv7yt/G9S+lJ7HXZf3lb+N6l9KWzNX1GGnA+xYmZDBCwyzTSODI4o2jLnvceDWgda50u/FagZPBKyWGZjZoJo3B8csUgDmSMcODmuaQQR4UGsvY67L+8rfxvUvpSex12X95W/jepfSltZVnlL25p7O6e6/fe9ldj2ROdHG6Z4fKd1net44z1oKf7HXZf3lb+N6l9KT2Ouy/vK38b1L6UtrIg1T7HXZf3lb+N6l9KT2Ouy/vK38b1L6UtrIg1T7HXZf3lb+N6l9KT2Ouy/vK38b1L6UtrIg1T7HXZf3lb+N6l9KVb5VOQnZyjoWoWq+kNjnradcs15O2b7+bngrSyRP3ZLBa7D2tOHAg44grfSp3Lj97Gq/wBk3/1SdB+c3Mt8Rvoj9ycy3xG+iP3LsRSh18y3xG+iP3JzLfEb6I/cuxEHAGFyiKUCIiAiIgzNFn5udjvLunzPBYfzqy3JyGcPCQceD/zwVOBVmiuh4Dup2N4Y4A9BB+H9i4urw3qvQ6Ll9NsYnONkwS9uMcesjycM4UlV5tgyZAeGMZJx83DqWPY01hy4RtcSd52AMn4+ldldkbu9Fcl3gwwAfOuSZx7WHFhr9Vu/y+fsnHG7hM3OcgA8fgz0lZ9SbLTg8Mb2eIwScHp8q6q2mMjIcWN3vJg4+HHD4Fxbl74tHRw3scMALO5S+EZ4+idq75H96MeD8/So+TWo6kzGvhkk34nyb0e6THzZBy4Fw4Eb3X/N6Cu2WwCcDzDwcFB69ITYJGBiMRZx3zmOLZMZPQDgfP4V0cHFMrqvO5+a4SWeXOv6mbUu9jDW96xvXjrJ/wBo/uUciL0scZjNR5Wedyu75oiIrKCIiAiIgIiICIiAiIgKf5NP8+6b/a2nfr1VQCn+TT/Pum/2tp369VQfpOiIqrPCfIpZdoW1kWrb5FTVtd1jZm/kEsilM1eeicj2m/PLDxOQGwTdGcravZt25NRjj0OFzgI9P1LafVHMcA6Kpo9Sy6g2Rp9tFNdww9YMbD5RUdJ2PdrOwevRxNcbVTaTU9UoljXPlbZoGvKREGd8ZXwdsRN3eOZR09CmNie29Y2b2l2l1Gs+Czf0W1ptWF4I5mnpulytndEHAOZHPcdM8tIHfRfCQ2byMahcq7AadLQoC/bbQqtgpOsMptlMkrIpHOnkaWxtjjc+U8MuEZaOJCjNQ5UNf0XVNPg1zSdOFPV7jNNgs6basTS07U5a2Fs7bUbRKC5wyWAANa85JAa6nart1c0Dkw0ixSfzMk7aVCa/zRsfYytO2d0t3mt0iQt5tsYDuGZW444Bp/K/b0atc0J9fay1rMkWvUbV+zZ1V+pU6tfnucfK9sbu1NOPeuwwBjgxj+BDXFBvrl35X5NmdQ0yszTnXRqjrUfNxFxtGauKorQwMAw90sthjMkjd6eK7LHKRf0XQbWrbSafXpGFzDUo05+25ntmEbYq0kmdx1jnnFpczvA0F3EAqscuczZNtNknse17Hzao9j2kOY9j69FzXtc3g5pBBBHTlZPZy7LWdU2Rk7Wa976VmHUZIYwXOlrwtmhm70e2DGzGY+SInqQZ2xm122GosguO0DSqtKy6KQ1Jbtn7Kw05XNPOu+1CLf5o7/Nu3XdRDTwGfyicqFuLW49B0XT4r2qOrm9bkszOr0NNqZa1kk7o2ukkc5zmd40AjnIunewM/ZDlv2e1CnBOzWaMT7DYwKMtmCO/FPJus7WNUv5wyNkO53rSDjLSQQVrZuqQ7Ocp16fU5WVauu6bXdp1+c81VM9GOnXlqOneBHG/7RI7vnDGYB0ysyFz2Q5Ur8Oux6Fr+mwU7luF1jS71GaWzpuocy1754BzzGvrysaxxw/p4DDd6PnMfs2vvE1H/wDR/wC56eqpt/rNfaTb3QoNLsR226N27qGqW6z2T1q0cza7Y4XzREtLy+AMLQSQZm568Wvs2vvE1H/9H/uenoNL8q1XQtotJ07TNArU7W0T20nNsUImQvoxQRt7bsXrcDAGRMJILXucQ97SG5wt7cu/KpJsmzTf8UddF24yjZ3N82dwCPfkrxMB5+dwLt2PIy4tGeK0n2QO0mzE2yVZ9W5Sfr1eKh9i5dNkYdTguR9r84HSUzvxMDBNkSEAODcd+GK08uM1qRuxT7zS26/WdJffYQGubcd2ibTS0cGkSl4IHAILxqm1OsDZ7Vbuu6BQhgipGzU0vtnt4zx7k7rNW+7d5skAQDvG4O+/hwWTd5VKeh7E1dalpshifQpup6XWLY2c/ahY6vRhJbiONozl26d1kbyGnG6ZnskfvR1b+zbP/SctH8rulWZeTLQrleA2BpLdH1e1AN4l1SvSdHK7DWuO60ysLjjDWc648GlBddqOU/avRtJk1W/s3p5riIS8xWvSm7p+/jcN1kse7M0Eta7mXEt3s4Ia7EH2W2uO1Pk1gvujEbrrNKvOiaS5sbrbYrDow4jLg0vIyfAujsgOXfRtY2Wt1NLlmv2bVMyPhhgnZ9j6zHRuntXXzMayBjODMAuLnviaAQ8OWB2QQxyRad/uOhfq1ZBZ9teW/XdPqDWjszGzZ8TRt3p7PN6zJTne2OG/2v7Ws17nMAieHPy9ucNO8NvbcaxqMdOKTSNOivz2JWMxYsilXrVpIpZTckcWOdK0ObEzm2DePOg/zStf9m/94uof1qX/AHGioXl925s6ZHoNFmonSaeqPEOpa21jHSVIIIqu7CySVrmVXSmV325w7wR73tWvQTuyvKdq9faWDQdd06lFJqFaa1p13Tp7E1d7qzZJZYJG2WBwcI4pSXd7ghgwd/LeOUnlltaXtK3Q6ujO1GafTW3aTIpObkltyTyxCGV8g5utWbHFJI6Zx4BuMcQtSNv6PU5QtCfU2gn1KCKG/BZ1K7qk2qQNsy0bLIoWXJ3mASOMsWY4iMGWPIBc3Oypv9LLf/Sp/wC4PQYLeXLWqGrSaLqWzkc2rS1mW9Gr6ZYMkF7nXuj5uaWwP8UjZuTufO/DWiCThxaXWHk85UNWdtK7QNc0ypVsyUfspSnpWJJ4ZIBIYjE8SjO9ls3fd7xiPekODlFan/par/8ApZ369bXVtB/pcpf+mH/repIN/qncuP3sar/ZN/8AVJ1cVTuXH72NV/sm/wDqk6D86kRFZUREQEREBERAREQFLaBFlrz4C0Dwcd4n4eDVg6bSfYlbGwZc7r6mtHFz3eBoGSVaKTmBro4/axv3BwwS4Abz3eFzunycB1LDqO3Hb+zo6bHfJHMVgcMY6gfJ4RhScJZ0AAEdBz7ZV3UaTgcxuw7pI6j+4rHiFo8d1xx07uPj4rzPTK9ecuWPZY70m6zez9f3qAkv8C1vFx6cftPUuJKliXg8lrenBwM/EsvS6ADiMY3cY6MHPSUxxkRny5Z180ahI3nfAOoY/OVAag/elcf9oj4AcD8yu0jN0fMPj/ZxVJ1Cu6KQte0g53hkY3mu4tcPCCOOV19Jd21xdbNY4z93QiIu95wiIgIiICIiAiIgIiICIiAp/k0/z7pv9rad+vVVAKY2GuR1tWpTyu3IoNRpWZ5MOduQ17cE0z91gLnbrGuOACTjgCUH6XItW+yE2Z99/wAj1T6KnshNmfff8j1T6KqrNiaPo9ak1zKtWCs2SV9iVkEUUDZLEuOdneImgPldgZeeJwMlZF+pHYifDNEyWKVjoZoZGtkilikaWSRSMeC2RjmktLSCCCQVrP2QmzPvv+R6p9FT2QmzPvv+R6p9FQbA+wFPtPtLtKt2lzfMdo8xD2nzP9D2vu83zf8As7uFGQ8n+kMpvpN0bT205XiWWm2nVFaWRuC2R8Qj3XvBDcOIJGB4FUvZCbM++/5Hqn0VPZCbM++/5Hqn0VBfTs1R3q7vsfU3qDeb013a8G9p8ZYyIsqHczUbuMjbiPdGGNHQApVat9kJsz77/keqfRU9kJsz77/keqfRUFpr8nGix2e2maFpjbO+Zu2W0abZxKSXOlEgi3hISSS4HJJPFTG0Og1NRh5i7Tr24SQ4wWYYrMW832rtyZpbvDqOMha+9kJsz77/AJHqn0VPZCbM++/5Hqn0VBfdmdmqOmRmKjQq043HffHVghrMe/GN9zYWgOdjhk8Vk63pNe9A6varQ2YJN3nK9iKOxBJuObIzfjlaWv3XtY4ZHAtB6Qtc+yE2Z99/yPVPoqeyE2Z99/yPVPoqC36JsHpFGUS1NF06rKOiWvRp15R5nxRBw+NSeraJVtuifZp17D60rbFR88MUzqthhBZPC6RpMMoIBD24IwOK177ITZn33/I9U+ip7ITZn33/ACPVPoqDZWpUYrML4Z4Y5oZWmOaCVjJYZY3DDmPjkBa9pHAgggqG2nitUtLLNGpVHTwNhjpUJD2pS5mOSJskDTCAIAK4lDMDdDgzhjIVO9kJsz77/keqfRU9kJsz77/keqfRUFA220banaahJpA2Yo7OVrkkX2S1J2o09QfJXjkbK9sMGnxtcZCWjhIcOBLSW7xc3e8+ytGWhHQnpQWqkMcUTK1qGK1Du1mtZCSyZpa5zQ0YOFR/ZCbM++/5Hqn0VPZCbM++/wCR6p9FQbF1zSK16B1e3VgtV5N3nK9iKOxBJuObIzfimaWu3Xta4ZHAtB6l065s/Tv1u1rdKtZrd7itPDFPADHwjIjkaWgt6iBw6lQPZCbM++/5Hqn0VPZCbM++/wCR6p9FQW65sDpE1WOpJo2nSVYHGSvUfSqOrQPdnedHE6PcjJyckDjk5UqdFq9t9udqQduc12sLvMxdt9rb2/2vz+7znNb/AH25nGeOFrz2QmzPvv8AkeqfRU9kJsz77/keqfRUGw3aLVNsXDUrm42LtZt0wxG22vvF/MCfd5wRbxc7czjJJwuJNEquttuup1zcZF2uy6YYjbZXJc8wNnLecbFvOedwHGXOOOK177ITZn33/I9U+ip7ITZn33/I9U+ioNpKncuP3sar/ZN/9UnVe9kJsz77/keqfRVWuVTlw2fvaFqFWvqnOT2dOuVq8fauos5yeetLHEzekrBrcvc0ZcQBniQg8YIiKyoiIgIuWMLiAASScNaAS5xPAAAcSfIr3s7yZWZwH2Hisw8dzHOWMeVoIbH8Jz5EFDXbUqyTHEcb5D4GNc8/E0Fb20XYGhWGRAJnj+fYPO5Ph3ODG+irLWAa3DGMZjhutaGgfAOCvMKjbQ+nbAajP/8AimMHrmc2L/lJ3vmVm03kkkxvWLTQOtkLS4+bfkx+itqiVx4E4+ILGnBznPAdPlPV86t6JPKN1TdX0yvpOnSGKLHe70j/AG0sgbxDHPx0Fwx1DyBa42eaWxEuOXSSPkkPhe95c8+bJPwLanKYw/Y2fAziFwb4QejOfBla5p19yBnWccfOeled9Qys1j8eXq/TsZZb+HNk4IPT1EqV0eUe1x0rFlhD4/L0/F05XdXqHHAkEdeRxHwrgxd2WDv1GRpcWgdAxnqWJTZxJwePD6+BZbqh4ZHE9J/Ou2aMAfXPDypfKJihtbmLIHu6mtc4fACRhWzWNl2XNMgD+8nhqxFsuCeIjbvMf4Wk/F0+FVutSNywyuBlpIfN4BC0guz/AFjhv/Etthg3i3qDNzyYxj4l6P0/j7W3xXnfUc5uYzzHnfV9GsVDiaB7B1PIJjcOoteO9cPhWAvSdKUSd7ugsaNzHAtGAAW+UjGCfOo3WtkaNtuHVo2OP+sjDYJQfDlntvDxyF35cevDzZn93n5FedouTW1A4mvizHngBhk4HgLScO84PwBU6/RlrnE0MkR6MSMczPm3hx+BZWaXY6IiAiIgIiICIiAiIgIiICIiAiIgIiICIiAiIgIiICIiAiIgIiICIiAiIgIiICIiAiIgIisfJzo/bmoMa5uY4/t0o6iGEbrT537vDwZSTY2XyYbJMp1xYlYDZkbv5PTAx4G5G3xXEEFxHHjjq43bm+tfY9rjw4OfCCQvu1wGfK0/GR+9dM45pn63WxvDK63d6c9R4Hz+H4l2tOCkv5/iVtHqdcpGMjp/OegBdW7kgf8AE49X16l0mQMzk/1R1+DPkWG98m+HBxAaQ7cacb2CD3xHts+DoSYXL9kXKQ2qrCatLEMEuheAB7bgOnHT04Wp6FrfY1rhulvBwPAgjpBz1rb2oQ85I6VpDvtQY1g4SM74ve7HD/Y6B/NKru0uz7Hxc+xuJWNHOADhOwAZdj+ka3j5QPNjz+t4cs5uTvN/mPS6Hnxwvpt7XXf7VWK0Ycd0fF1gHoUhBAWLHps3DkDhj23AhZFjVGdDunpBHDzDj5V48e1XcY974FFak/GfIMjynwDwlZFW8XnDWnvu8Y3GS4nrwpaDZslwc878nt2xZIjjI9qXEDJdnyYGOvgtuLiy5L+mdvu5+blx45+q9/sytg9J5iIyOb9sf9sl8Ixksj8zR0+UuVlh8PWenpHSo6DU3MkEccAfE1u5I/JDzJnviw9BA8vSetSVZ46RxHhIzu+RzV9Bjx+3jJ8Pnc+T15W3y5rMDSQPGLvS7785K+5t0DJ4k9DR0k8OhddyQswR32e94dWeg8OjicfCF91IOO845cfm8gUo3pzHFjiRlx6B/NaF82g1zSx7Q8Hg5rwHsPhyHLvmeAPrldDI88T19XkUWEVHX9gKNoExsNWQ9DouMRP+1EeGP6u6tb7TbFW6AL3MEsI/18XfNA8L2+2j8/R5Vvd0YXRbOG7vU7jjqx0fCCsrgt6nmtFcOUjZ5lZ4mhbuxvduvYOhkhyQW+BrgDw6iPKAqes7NLCIiAiIgIiICIiAiIgIiICIiAiIgIiICIiAiIgIiICIiAiIgIiICIiAiIgIiIC3LyF6Xzdd07h30ziQf/648sYPT5w/EtOwRGR4Y0Zc9wY0eFziGtHxkL0fs5WbWrNjb0RtbCPLuta0n4SSVrw47yU5LqJGM5Yw+A7p8x6Pn/OuzUD3g84HzhdFR2Yh5CPmK7b5y1o/2wP2rq12Y77j1yTkIPr+xcKqzFvRZbkdI+ddLW7wBHX8JWa5Y8Td127/ADXcW+Q9Y+Pj8atjVLHVzWT0fCvvJDSMBwPU7OfjH1C7nM4/X4FyGqdy+TvPDX+r1DVlxx5p5zHkDDT/ADojjr8Hk8yx6GlduT7jOG6C+V577cbnA4eE8ceYq/a9QFisYyBk+1d0FjskteD4QePl4+FdOxukCrUbvNxNIxskzvbHnXAd5nqazJHweXj5ef0+e9vzh51/h6uP1K+zr/v4/wBumjosdXAhA3hjemeA956yMkcM+TCzpoi4EE4B6QOG91cesjyLMIz+1fB8y9TGY49sZJHlZZZZXeV3WGyANHAYHwL4lO70dPUsx5x1Z8AXXHF1np/N9eCtcqjT4qwnpc4kniASS0fAssu3QuBwXXIcnCzq8fIbk8epdy+PIuSq6Ta+Qcux5PnJwsbUHAk+Bp5v4SM/n3V30XZc53wfX4lhWPaP8O9vfM1ytrsrvuqO39fnKMo62Df9Ah5+YFagW+NUiD2kEd69pa4eEEYI+IrR2oVjDK+M9LHFnnwcA/CMFcmc1XRjdx0IiKiRFP7D7Os1OWeI3GVnw0bV+BropJ3XH0Y3TuqRtjILXuiZO7e74gROw13QMbQdmL+oM36em3bUfH7bWq2bMWW8COchjLcg8MZygiUWRqNGatIYp4JYJQA50M8UleZoOQCY5mhwBweJHUVjoCIiAiIgIiICIiAiIgIiZQERZFShNMyR8cEsjIGiSxJHHJJHXjcd1skzmNIhYTwDnEDKDHREQEREBERAREQEREBERAREQEREFn5MaHP6g1xHewgzu8472P8A5nA/At4wnEP/ALg+dzf71rrkd0/drSTHpmfut/qRZH6Zf8S2FGftP/uD5uK6uCMeWu+qe9cPFOfBwzld1k9+0eDLj+YfnKjLUpjyQeHe5I48N9rXfMVlc7vPJ+D4Bxx862vhnPLLY5CviMr6VV3LeldczM/nB8B6iu3K4KaRXXG7I4+2HA9XmI8hX03iPr9Sus8Dnr/OOtq+mkdI/wDHhCIZIGcA9GB5va8FywYb8f5zhGHjjwtaR+1fOe8PnI/5j+4LSM3UVw44/cjnY8/WV1tGf2nwqq8BxPhPh6vMvroQ8FyAotWfJXWzicrmTjwTGAqjhy4mfgfAvl0gWNYkz9fAg76zwyDeJxkkk/Dw8/HqUfzu8XDBGR8+D046+I+Zdlp/2uNuOsk+TdLsfOAvjdwB8OfhwFfSm2NYG9F5cArUXKDX3Lhd1SMa/wCEZYf0QtvVeMfHrGPJwGFrblOr43HeK5zD/wAYDh+iVzc0+XRhVJREWC7ffJBt72lWrajqstK1XphuhaRSgqU5teqvwwGw14ayWKq2qZGuy9xkJYMbzsvwuX3atj7l6vKNZo6hVsx1tPrMvh2imnE/7qFdjI3VjNW3ZGhu/kvi74YcFTNha0d3RNTqMqQSX4hW1apNzQdfdVqybmpQwye2AZE6OURt4uDp+B4YqPOWNQtN3pJbVqzJHCx8sj5p7E0hZBAwyTOJeSebYN48BujgAiV22K2sdqL49J1ieS1SsvFetbncZ72j253ble5WsSZkMIkcxskLnFhZnAGCHUXWqElOxNXmAEtaaWtM0ZwJa73xSBpI4t3mnB6xhbQ2c5L75pTtbotxmuafqVORjpyyOhJSlEnetMv2i0I54d97muI3JWEOIDmqo8sdhk+s2ZmajX1EzFksl2pA6pUlmdEwPbDG6STLWkAb4e4P4uySSgt2u8lOn6Ua7tT2kjqx3KkNqBsdCzasb8rSZt+OGQiGvGTHiZxzIS8Brdwkx1zkfuM2gOjtsQO3YPsg7UTmOszTMZfee3eJYA77XuAnv8d9unfHd2Td6KzeouhmjmaNnqEZdE9krWyB99xjJYSA/dcw7vThzfCtpalttRq7VDnLtdle/svX0zt/7TZrVLL3zTQunDt6MxbuN5rwW9/Hvd6SUQ0/d2Eoz0rNnSNc+yLtOiFq9Wkoz6dIam8WyXa7ppHCaNnS5hw5rcEnJa10TyhbHHSIKEpsCb7JabDqm6I+a7XM43jBnfdzu6C3v+9zx70LZO0UWtUqFp1rWdnK8MtOetu0o9HNrVY5mYdTq9p0mylso4b5Ld3vXHGMt+dstn27SaRpNipqemQsoaVFpmpi5bZVfRmqtja972OaXFhxIR0EgMI3g/ICFq8jLn67W0kaiM29JZrHbHaxIjMgnHawj58b+Hxf5Tebwd7XI44um8lcNy2ylT12vZtxtlm1hza1mPTtKrV2t5+YXZCG3w2VwjG4G7xcCdwBxG3K2t0m7d0JY79d9ZuzMcLLRliZGS3t+RgcXOxHIYi1+4SHAOHBaZ7HnW6td9ujdsNqQ6tpM2l9uv72OpPKzdifKTwZGQ6QFxIAIZnAJIJZEnJtSuVbEuja83U5qMJtWqT6FnT5pa0fCWxVMz3dsNb4gGeLeOXNDvqHkypw6VS1TUNeZTq32SO5ttKxctNlY/EcUUcDyZmmMPe+UhoYQxuHl4xZuT3Qu491rUtRv6c97tOnpafSp22XJr9my6Etc0MaCyu3m25e4cA/J3d3vqzypXIn7M7OxRzRyPhq6gyZjHse+Imak1oka05jJLH4Bxndd4EQzte5JKOlzs+yO00EFW21kml2IqVmzNbgkaxxszRRv3aMDDIwb7nuDuJG7g4j28jlv7Pz6S+zDGynCbtrVHtcKsenhjJBaLN7Icd8N5suGHNk77daXLnsirsU9bSBFNHKWbOU45BG9shjkDHgxvDCdx+QRunjwW1NrtpdPm2m1SjJqFeKHWdDh02HUecZJVgtczKYmyyNdusY5s5OSQMhg/nhBrnZ/kooas6c6ZtIyyypVlsztl0+zUsh8bcw7kc8gEteRweDIDmMhgLXb4Inamy2iv2Ka92txxsdrDXv1b7D3JJo7DqYDtM5lrueexoy7nQ7mzjoysvka2RGz9u7JqOqaYyaTR7kFatBdisOkY7mpZp3uw0RMHNRhgdhz96Q7o5sqt8n9VmsbHyaRDbqQ6hDqzdSZXt2I6vbNV1WOAuifJwc5ry/I6t0ZxvNyShtM5O6kOnw39W1oadBddINMhZSsX7lyGIgG2YYng14eLXcc5D4+ILmg3fkn2Zgjq7Q04NXp2a8ulU3t1Ub8NWKGU6iZHWWOy6u+JrXufHlxA3es4GHr2jDajSNMZSvUY7ukVDpOoULVqKs/EHNRR24H5LJ4X80Xb7SWkPbxy0hY+x1GDSdO2hqO1SjakfpFUCStMHwPsufdbLUhe/d7adG58TS5gxmRo4HIBCuatyeU36RPqWla2NSbQdE3UYH0LGnSxssODI7EQsPJfHnPAgcGScctLVrpbP5J70UWzu0LJJo2Plq6e2Fj3sY+ZwnuAiNrjmQgvYCG59s3wrWCAiIgIiICIiAiIgIiICIiAiKY2Ko9sX4mYy0P51/9WL7Yc+cgD4Ug3HszR7WqxQ44sjaHf1yN6T/AJi5S0Z+1D8KPnBWOwrujP2kfhWfnwu3jmrGGd7O65HlvEdILD4DvDgfjx866KUu9k5+D8318izbIzH8IPk4EKpXot25vYwWksyCQ7dkAe3o4Ob1eQt8q2yx3GUuquEZx9fjX3lROm23E7ruPDgevhjgVIMkB+v1+vxrORe13ZQH6/X4F15+v1+v7eQ5NK7fR4rrBwfAfmKF6+HOHhVkJD+aw+ADPT0ELoklxkDx3HzDOf3pZkxCMHiQOrOPqVjuky4+QkfmUy/Bp9gfF4PCvoH/AMLq31zzgUG3ZlfLj9ev68F8b31+vmQlV0tMnPQumd+Rw837FyX/AF+vQutxUeEyul/A4XWX+FdFm6wng9uR5frldE13ca48CQOHg3nHASVNn2dtmUhsZH+2CPBkk5XZBIXHieokf8uVEz2TzbSekOx8YOfzrK0uYBjj4Af2H9iv8KfLsov+1D4ejp6SqfylV8wOPg3XjztIB+YlWjTn/ahx/v8AqcqM2vg5ys8de47Hh9qVhyTeLbHy0+iIuVqy9G1OelYjs1pnwWIHiWCeMgPjeARkZBDgQXNLSC1zXOaQQSDcpdqdHuv527oc1eySJJLGj3G0oZ5c5L+07UEsdVxOCTE4ZJJwFQkQb/5KeVx4snTabYNMq2Irr239Vv2tRmi1E1pH1LUli29sMcZmjiDoGxhpL3EEuPfaf2t2jbfjgb9jdPqSV2ytmmoVo6YvOlexzZJmQgMywMw3dAHfvIwCGiAREuAEAXKIhwGgdQQtHgXKIOMeTyrlEQcBoHQEwuUQTWlbJXrVc2IKckkP2wh7ebDpe12785hjc4SWtwe25prt3BzjC62bMXDTNwVJO1QwzGbvB9oa/mnWBHvc46ASd6Zg3cBBBdwKvfJ3tNptJtJ8srIn1xZZdD9PdfuOksvtNjmq2pHFtGq2GWuXMhDJd6KfvZDLvKD1K/p81eKV1622aDSINGNGvG6F876kLaRcbLwYu0J4gZXxOG+TI9m7g7yCE1TY+/UhEs1GWONz44+hjnslnaXQRyxRuMleR4B3WSNa52OAKkNU5P7tanz09eRkrr9fTIagY2aSea1FdlLWuhkduzsdWZGa5bv5nZnd4B167uNMqyTSwPikadR03VKtVmmurzvg0y8bLq1y9M581y6Ynj7ZI90W9E9wfmTdEXs1tNpujuYYrc97/wDmYtSkBrPgLanaGsUHuxO/El1jrsb3DgxxawNeeJaFNsbE6g2eOu6hK6aZssleNnNz88KrXPsiN0LnMkfG1pLmAlzeAIBIB7b+wmpwROmkoSNiiidYdLvQPYYGN3pZ4jHIe2I2N4vdFvBgzvbqtI2uqVo2V4poHMbDqzy+jp32Lqts6hpE2l1A2N2ZpJXPLOced1jWiIDf3C5RmjbTVonUS5z8VNF1TTpsMJ3bWod0HMNb4zSLtXLhwGXZ9qUSq9rQLUUk0b6z2vqRtmttO7/i8UhgZG95zjDjPABgnPONxlRy2PttqPN6FUY+OWK9qEFeO+2RrmOk07QX2q2lz7smH7thr4DvEd99jmkEgjOuEQIiICIiAiIgIiICIiAiIgK/cj9LL5ZyOAaIGHyuIe/5gz41QVuLYClzFCMEYc/Mz/PJxb8TNwK/HN1GXhY8ruccRf8AuMPxOasbPxLvsnFd3k770eK68PLDLwkpTlpHhHwKnbUPI1GJnVJC6Q+UwEA/pM+JWsPz8Iz51W9qI29u1nnpEdmMf8Qhdj/kK6b4rH5ZdKTB+ZSsD1X4ZepSNSbqXPGmSW3kLljNfwXJcrKu7f8AJ9eC4XVn6/GvuN3fDzj84QSThwx1cAPgwo9zu+PnP51mxv4/CVFsdkA+EA/GArSdkMjOfKuF0krhkigZBK4Ll0mTy/X4F8GTH18yhLte76/GsaeUAL4klWBcnwCoTETalHHvcqs6ldkE7GtkO49265vA7p3XcQfOBw86lNQmJOMnHgUPda1u653ACRrW/wBZ+WZPx/OmK2XhYqBywAk5xvHznA/v+FZ4eWb48Mefi4D86i9NfvF56mvDB5mtBPzuHxLPkeCXeRjQf+Ik4+ZXynZXHyyqDt1uOsD86W++aQfN5V1Vn4aSek9XgC4c7gsfho0yipndXP4kXov9dO6ufxIvRf664XRpc0VM7q5/Ei9F/rp3Vz+JF6L/AF0NLmipndXP4kXov9dO6ufxIvRf66GlzRUzurn8SL0X+undXP4kXov9dDS5oqZ3Vz+JF6L/AF07q5/Ei9F/roaXNFTO6ufxIvRf66d1c/iRei/10NLmipndXP4kXov9dO6ufxIvRf66GlzRUzurn8SL0X+undXP4kXov9dDS5oqZ3Vz+JF6L/XTurn8SL0X+uhpc0VM7q5/Ei9F/rp3Vz+JF6L/AF0NLo4knJJJ4DJ4nAAaBx6gAB5gFwqZ3Vz+JF6L/XTurn8SL0X+uhpc0VM7q5/Ei9F/rp3Vz+JF6L/XQ0uaKmd1c/iRei/107q5/Ei9F/roaXNFTO6ufxIvRf66d1c/iRei/wBdDS5oqZ3Vz+JF6L/XTurn8SL0X+uhpc0VM7q5/Ei9F/rp3Vz+JF6L/XQ0uaKmd1c/iRei/wBdO6ufxIvRf66Gl80uqZ52RD+e9rPgJ74/AMlbwjwBgdAAAHUB0ALy9o+3dmrMJWRV3OaCGh7ZS0bwLSe9lBzgnrVh/wANOof0FP5Ox9IWmGUitx29Ew8Vkvb9rLfCCPjXnJnLfqI//HpfJ2fpK+v8Oepe56Xydn6StsObGeWefHb4eiNLm3o2+EDdPnbw/Yq1yhzua+uW9IlOMdPEY/atMV+W3UWZxBS4knjHY4Z6cf4wsTUuV2/Ykje+GpmFxcwCOcNJcMd8DOcj4lrl1ONx1P8Az+1Jw3bfDHcfz+dZMchz4PAtAHlhv/0FT5Ox/wDevocseof0FP5Ox9IWfvYr+3XpKCUloJ6f/C+uc+v/AIXnNvLdqIGBXpfJ2fpK5HLfqX9BS+Ts/SVac+CntZPRQl8P16V2xu74ecfnC84Hlv1H3PS+Ts/SVyzlw1IH/IUvDjm7OP1lT/yMD2cnpuN/A+f51gVnZaPMF56by9amDntejx6RzVnHn+6V0s5ctSAx2vS+Ts/SVN6jDR7OT0c4r4JXnM8uWpf0FL5Oz9JXyeW/Uj/qafydj6Qq+/ge1k9GFy63OXnf/DdqX9DT+TsfSE/w3aj/AEFL5Ox9IT38D2sm/LMm6MlQ9uxnpK0jNyw6g88Yqvm3J8D/AP3WLLyp3Xf6qsPMyb9syr7+K04q3BbnYT0qC2rmDoO94Yc13nwen48LWruUi2R/kaw8oZNn55ljW9u7Mrd0xwecNlz88qreXHV0tMK3jslPzkBd47nO+HvAfzKRqO3g/wArwPgaB+3K0RpPKXcrR7jIqxHE5cyYnvuJ6JgsmHlXvMbgQ1eJLuMc+cu6eidXvUY2Tas4rK3jJL3wHV4Oo/3Lh7/KtHjlXvZzzNX0J/8A71y/lZvH/U1fQn/+9U97Fb0Vr9ERcrYREQEREBERAREQEREBERAREQEREBERAREQEREBERAREQEREBERAREQEREBERAREQEREBERAREQEREBERAREQEREBERAREQEREBERAREQEREBERAREQEREBERAREQEREBERAREQEREBERAREQEREBERAREQEREBERAREQEREBERAREQEREBERAREQEREBERAREQEREBERAREQEREBERAREQEREBERAREQEREBERAREQEREBERAREQEREBERAREQEREBERAREQEREBERAREQEREBERAREQEREBERAREQEREH/9k=\n"
              }
            ],
            "_view_module": "@jupyter-widgets/output",
            "_model_module_version": "1.0.0",
            "_view_count": null,
            "_view_module_version": "1.0.0",
            "layout": "IPY_MODEL_910f0782da234c12af99ecd92bbe220a",
            "_model_module": "@jupyter-widgets/output"
          }
        },
        "9c12f5bed79649658cd71af2dcc46683": {
          "model_module": "@jupyter-widgets/output",
          "model_name": "OutputModel",
          "state": {
            "_view_name": "OutputView",
            "msg_id": "",
            "_dom_classes": [],
            "_model_name": "OutputModel",
            "outputs": [
              {
                "output_type": "stream",
                "metadata": {
                  "tags": []
                },
                "text": "Video available at https://www.bilibili.com/video/BV1nt4y1Q7Z5\n",
                "stream": "stdout"
              },
              {
                "output_type": "display_data",
                "metadata": {
                  "tags": []
                },
                "text/html": "\n        <iframe\n            width=\"854\"\n            height=\"480\"\n            src=\"https://player.bilibili.com/player.html?bvid=BV1nt4y1Q7Z5&page=1?fs=1\"\n            frameborder=\"0\"\n            allowfullscreen\n        ></iframe>\n        ",
                "text/plain": "<__main__.BiliVideo at 0x7fd74085f190>"
              }
            ],
            "_view_module": "@jupyter-widgets/output",
            "_model_module_version": "1.0.0",
            "_view_count": null,
            "_view_module_version": "1.0.0",
            "layout": "IPY_MODEL_87f8c10723de47e08a84a8d75144fdca",
            "_model_module": "@jupyter-widgets/output"
          }
        },
        "910f0782da234c12af99ecd92bbe220a": {
          "model_module": "@jupyter-widgets/base",
          "model_name": "LayoutModel",
          "state": {
            "_view_name": "LayoutView",
            "grid_template_rows": null,
            "right": null,
            "justify_content": null,
            "_view_module": "@jupyter-widgets/base",
            "overflow": null,
            "_model_module_version": "1.2.0",
            "_view_count": null,
            "flex_flow": null,
            "width": null,
            "min_width": null,
            "border": null,
            "align_items": null,
            "bottom": null,
            "_model_module": "@jupyter-widgets/base",
            "top": null,
            "grid_column": null,
            "overflow_y": null,
            "overflow_x": null,
            "grid_auto_flow": null,
            "grid_area": null,
            "grid_template_columns": null,
            "flex": null,
            "_model_name": "LayoutModel",
            "justify_items": null,
            "grid_row": null,
            "max_height": null,
            "align_content": null,
            "visibility": null,
            "align_self": null,
            "height": null,
            "min_height": null,
            "padding": null,
            "grid_auto_rows": null,
            "grid_gap": null,
            "max_width": null,
            "order": null,
            "_view_module_version": "1.2.0",
            "grid_template_areas": null,
            "object_position": null,
            "object_fit": null,
            "grid_auto_columns": null,
            "margin": null,
            "display": null,
            "left": null
          }
        },
        "87f8c10723de47e08a84a8d75144fdca": {
          "model_module": "@jupyter-widgets/base",
          "model_name": "LayoutModel",
          "state": {
            "_view_name": "LayoutView",
            "grid_template_rows": null,
            "right": null,
            "justify_content": null,
            "_view_module": "@jupyter-widgets/base",
            "overflow": null,
            "_model_module_version": "1.2.0",
            "_view_count": null,
            "flex_flow": null,
            "width": null,
            "min_width": null,
            "border": null,
            "align_items": null,
            "bottom": null,
            "_model_module": "@jupyter-widgets/base",
            "top": null,
            "grid_column": null,
            "overflow_y": null,
            "overflow_x": null,
            "grid_auto_flow": null,
            "grid_area": null,
            "grid_template_columns": null,
            "flex": null,
            "_model_name": "LayoutModel",
            "justify_items": null,
            "grid_row": null,
            "max_height": null,
            "align_content": null,
            "visibility": null,
            "align_self": null,
            "height": null,
            "min_height": null,
            "padding": null,
            "grid_auto_rows": null,
            "grid_gap": null,
            "max_width": null,
            "order": null,
            "_view_module_version": "1.2.0",
            "grid_template_areas": null,
            "object_position": null,
            "object_fit": null,
            "grid_auto_columns": null,
            "margin": null,
            "display": null,
            "left": null
          }
        },
        "79a4b5af228c4e0898a3c1f0755b2864": {
          "model_module": "@jupyter-widgets/controls",
          "model_name": "TabModel",
          "state": {
            "_view_name": "TabView",
            "_dom_classes": [],
            "_titles": {
              "0": "Youtube",
              "1": "Bilibili"
            },
            "_model_name": "TabModel",
            "_view_module": "@jupyter-widgets/controls",
            "selected_index": 0,
            "_model_module_version": "1.5.0",
            "_view_count": null,
            "_view_module_version": "1.5.0",
            "box_style": "",
            "layout": "IPY_MODEL_765ea5a67b874cd487c4903eb3f7a409",
            "_model_module": "@jupyter-widgets/controls",
            "children": [
              "IPY_MODEL_913503e2094c478ca3e1be31bde6073a",
              "IPY_MODEL_1501cf8691764023821e46d2c0adad77"
            ]
          }
        },
        "765ea5a67b874cd487c4903eb3f7a409": {
          "model_module": "@jupyter-widgets/base",
          "model_name": "LayoutModel",
          "state": {
            "_view_name": "LayoutView",
            "grid_template_rows": null,
            "right": null,
            "justify_content": null,
            "_view_module": "@jupyter-widgets/base",
            "overflow": null,
            "_model_module_version": "1.2.0",
            "_view_count": null,
            "flex_flow": null,
            "width": null,
            "min_width": null,
            "border": null,
            "align_items": null,
            "bottom": null,
            "_model_module": "@jupyter-widgets/base",
            "top": null,
            "grid_column": null,
            "overflow_y": null,
            "overflow_x": null,
            "grid_auto_flow": null,
            "grid_area": null,
            "grid_template_columns": null,
            "flex": null,
            "_model_name": "LayoutModel",
            "justify_items": null,
            "grid_row": null,
            "max_height": null,
            "align_content": null,
            "visibility": null,
            "align_self": null,
            "height": null,
            "min_height": null,
            "padding": null,
            "grid_auto_rows": null,
            "grid_gap": null,
            "max_width": null,
            "order": null,
            "_view_module_version": "1.2.0",
            "grid_template_areas": null,
            "object_position": null,
            "object_fit": null,
            "grid_auto_columns": null,
            "margin": null,
            "display": null,
            "left": null
          }
        },
        "913503e2094c478ca3e1be31bde6073a": {
          "model_module": "@jupyter-widgets/output",
          "model_name": "OutputModel",
          "state": {
            "_view_name": "OutputView",
            "msg_id": "",
            "_dom_classes": [],
            "_model_name": "OutputModel",
            "outputs": [
              {
                "output_type": "stream",
                "metadata": {
                  "tags": []
                },
                "text": "Video available at https://youtube.com/watch?v=kyCbeR28AYQ\n",
                "stream": "stdout"
              },
              {
                "output_type": "display_data",
                "metadata": {
                  "tags": []
                },
                "text/html": "\n        <iframe\n            width=\"854\"\n            height=\"480\"\n            src=\"https://www.youtube.com/embed/kyCbeR28AYQ?fs=1&rel=0\"\n            frameborder=\"0\"\n            allowfullscreen\n        ></iframe>\n        ",
                "text/plain": "<IPython.lib.display.YouTubeVideo at 0x7fd7407b1f10>",
                "image/jpeg": "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\n"
              }
            ],
            "_view_module": "@jupyter-widgets/output",
            "_model_module_version": "1.0.0",
            "_view_count": null,
            "_view_module_version": "1.0.0",
            "layout": "IPY_MODEL_d7ab369ae87d4497b973b1e0429ae2dd",
            "_model_module": "@jupyter-widgets/output"
          }
        },
        "1501cf8691764023821e46d2c0adad77": {
          "model_module": "@jupyter-widgets/output",
          "model_name": "OutputModel",
          "state": {
            "_view_name": "OutputView",
            "msg_id": "",
            "_dom_classes": [],
            "_model_name": "OutputModel",
            "outputs": [
              {
                "output_type": "stream",
                "metadata": {
                  "tags": []
                },
                "text": "Video available at https://www.bilibili.com/video/BV1mt4y1Q7Ls\n",
                "stream": "stdout"
              },
              {
                "output_type": "display_data",
                "metadata": {
                  "tags": []
                },
                "text/html": "\n        <iframe\n            width=\"854\"\n            height=\"480\"\n            src=\"https://player.bilibili.com/player.html?bvid=BV1mt4y1Q7Ls&page=1?fs=1\"\n            frameborder=\"0\"\n            allowfullscreen\n        ></iframe>\n        ",
                "text/plain": "<__main__.BiliVideo at 0x7fd7406ec490>"
              }
            ],
            "_view_module": "@jupyter-widgets/output",
            "_model_module_version": "1.0.0",
            "_view_count": null,
            "_view_module_version": "1.0.0",
            "layout": "IPY_MODEL_41ce9b7fbbd64782a3e780c635395376",
            "_model_module": "@jupyter-widgets/output"
          }
        },
        "d7ab369ae87d4497b973b1e0429ae2dd": {
          "model_module": "@jupyter-widgets/base",
          "model_name": "LayoutModel",
          "state": {
            "_view_name": "LayoutView",
            "grid_template_rows": null,
            "right": null,
            "justify_content": null,
            "_view_module": "@jupyter-widgets/base",
            "overflow": null,
            "_model_module_version": "1.2.0",
            "_view_count": null,
            "flex_flow": null,
            "width": null,
            "min_width": null,
            "border": null,
            "align_items": null,
            "bottom": null,
            "_model_module": "@jupyter-widgets/base",
            "top": null,
            "grid_column": null,
            "overflow_y": null,
            "overflow_x": null,
            "grid_auto_flow": null,
            "grid_area": null,
            "grid_template_columns": null,
            "flex": null,
            "_model_name": "LayoutModel",
            "justify_items": null,
            "grid_row": null,
            "max_height": null,
            "align_content": null,
            "visibility": null,
            "align_self": null,
            "height": null,
            "min_height": null,
            "padding": null,
            "grid_auto_rows": null,
            "grid_gap": null,
            "max_width": null,
            "order": null,
            "_view_module_version": "1.2.0",
            "grid_template_areas": null,
            "object_position": null,
            "object_fit": null,
            "grid_auto_columns": null,
            "margin": null,
            "display": null,
            "left": null
          }
        },
        "41ce9b7fbbd64782a3e780c635395376": {
          "model_module": "@jupyter-widgets/base",
          "model_name": "LayoutModel",
          "state": {
            "_view_name": "LayoutView",
            "grid_template_rows": null,
            "right": null,
            "justify_content": null,
            "_view_module": "@jupyter-widgets/base",
            "overflow": null,
            "_model_module_version": "1.2.0",
            "_view_count": null,
            "flex_flow": null,
            "width": null,
            "min_width": null,
            "border": null,
            "align_items": null,
            "bottom": null,
            "_model_module": "@jupyter-widgets/base",
            "top": null,
            "grid_column": null,
            "overflow_y": null,
            "overflow_x": null,
            "grid_auto_flow": null,
            "grid_area": null,
            "grid_template_columns": null,
            "flex": null,
            "_model_name": "LayoutModel",
            "justify_items": null,
            "grid_row": null,
            "max_height": null,
            "align_content": null,
            "visibility": null,
            "align_self": null,
            "height": null,
            "min_height": null,
            "padding": null,
            "grid_auto_rows": null,
            "grid_gap": null,
            "max_width": null,
            "order": null,
            "_view_module_version": "1.2.0",
            "grid_template_areas": null,
            "object_position": null,
            "object_fit": null,
            "grid_auto_columns": null,
            "margin": null,
            "display": null,
            "left": null
          }
        },
        "6c68dab852eb4889a9ede86ac6fc119f": {
          "model_module": "@jupyter-widgets/controls",
          "model_name": "TabModel",
          "state": {
            "_view_name": "TabView",
            "_dom_classes": [],
            "_titles": {
              "0": "Youtube",
              "1": "Bilibili"
            },
            "_model_name": "TabModel",
            "_view_module": "@jupyter-widgets/controls",
            "selected_index": 0,
            "_model_module_version": "1.5.0",
            "_view_count": null,
            "_view_module_version": "1.5.0",
            "box_style": "",
            "layout": "IPY_MODEL_9912269a7f8c40aa9cb21e932376cc95",
            "_model_module": "@jupyter-widgets/controls",
            "children": [
              "IPY_MODEL_8ba772e0000e43a78fe2aeacceb6c269",
              "IPY_MODEL_678eeb00d48041898c741b8e3d0fa7d9"
            ]
          }
        },
        "9912269a7f8c40aa9cb21e932376cc95": {
          "model_module": "@jupyter-widgets/base",
          "model_name": "LayoutModel",
          "state": {
            "_view_name": "LayoutView",
            "grid_template_rows": null,
            "right": null,
            "justify_content": null,
            "_view_module": "@jupyter-widgets/base",
            "overflow": null,
            "_model_module_version": "1.2.0",
            "_view_count": null,
            "flex_flow": null,
            "width": null,
            "min_width": null,
            "border": null,
            "align_items": null,
            "bottom": null,
            "_model_module": "@jupyter-widgets/base",
            "top": null,
            "grid_column": null,
            "overflow_y": null,
            "overflow_x": null,
            "grid_auto_flow": null,
            "grid_area": null,
            "grid_template_columns": null,
            "flex": null,
            "_model_name": "LayoutModel",
            "justify_items": null,
            "grid_row": null,
            "max_height": null,
            "align_content": null,
            "visibility": null,
            "align_self": null,
            "height": null,
            "min_height": null,
            "padding": null,
            "grid_auto_rows": null,
            "grid_gap": null,
            "max_width": null,
            "order": null,
            "_view_module_version": "1.2.0",
            "grid_template_areas": null,
            "object_position": null,
            "object_fit": null,
            "grid_auto_columns": null,
            "margin": null,
            "display": null,
            "left": null
          }
        },
        "8ba772e0000e43a78fe2aeacceb6c269": {
          "model_module": "@jupyter-widgets/output",
          "model_name": "OutputModel",
          "state": {
            "_view_name": "OutputView",
            "msg_id": "",
            "_dom_classes": [],
            "_model_name": "OutputModel",
            "outputs": [
              {
                "output_type": "stream",
                "metadata": {
                  "tags": []
                },
                "text": "Video available at https://youtube.com/watch?v=RmdPBHn9kjk\n",
                "stream": "stdout"
              },
              {
                "output_type": "display_data",
                "metadata": {
                  "tags": []
                },
                "text/html": "\n        <iframe\n            width=\"854\"\n            height=\"480\"\n            src=\"https://www.youtube.com/embed/RmdPBHn9kjk?fs=1&rel=0\"\n            frameborder=\"0\"\n            allowfullscreen\n        ></iframe>\n        ",
                "text/plain": "<IPython.lib.display.YouTubeVideo at 0x7fd7407b1890>",
                "image/jpeg": "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\n"
              }
            ],
            "_view_module": "@jupyter-widgets/output",
            "_model_module_version": "1.0.0",
            "_view_count": null,
            "_view_module_version": "1.0.0",
            "layout": "IPY_MODEL_6884b60f945741a0a84a7d41816a287f",
            "_model_module": "@jupyter-widgets/output"
          }
        },
        "678eeb00d48041898c741b8e3d0fa7d9": {
          "model_module": "@jupyter-widgets/output",
          "model_name": "OutputModel",
          "state": {
            "_view_name": "OutputView",
            "msg_id": "",
            "_dom_classes": [],
            "_model_name": "OutputModel",
            "outputs": [
              {
                "output_type": "stream",
                "metadata": {
                  "tags": []
                },
                "text": "Video available at https://www.bilibili.com/video/BV1MC4y1h77q\n",
                "stream": "stdout"
              },
              {
                "output_type": "display_data",
                "metadata": {
                  "tags": []
                },
                "text/html": "\n        <iframe\n            width=\"854\"\n            height=\"480\"\n            src=\"https://player.bilibili.com/player.html?bvid=BV1MC4y1h77q&page=1?fs=1\"\n            frameborder=\"0\"\n            allowfullscreen\n        ></iframe>\n        ",
                "text/plain": "<__main__.BiliVideo at 0x7fd7408de050>"
              }
            ],
            "_view_module": "@jupyter-widgets/output",
            "_model_module_version": "1.0.0",
            "_view_count": null,
            "_view_module_version": "1.0.0",
            "layout": "IPY_MODEL_8a675b1e62b24d7984c63b6e5f8853b1",
            "_model_module": "@jupyter-widgets/output"
          }
        },
        "6884b60f945741a0a84a7d41816a287f": {
          "model_module": "@jupyter-widgets/base",
          "model_name": "LayoutModel",
          "state": {
            "_view_name": "LayoutView",
            "grid_template_rows": null,
            "right": null,
            "justify_content": null,
            "_view_module": "@jupyter-widgets/base",
            "overflow": null,
            "_model_module_version": "1.2.0",
            "_view_count": null,
            "flex_flow": null,
            "width": null,
            "min_width": null,
            "border": null,
            "align_items": null,
            "bottom": null,
            "_model_module": "@jupyter-widgets/base",
            "top": null,
            "grid_column": null,
            "overflow_y": null,
            "overflow_x": null,
            "grid_auto_flow": null,
            "grid_area": null,
            "grid_template_columns": null,
            "flex": null,
            "_model_name": "LayoutModel",
            "justify_items": null,
            "grid_row": null,
            "max_height": null,
            "align_content": null,
            "visibility": null,
            "align_self": null,
            "height": null,
            "min_height": null,
            "padding": null,
            "grid_auto_rows": null,
            "grid_gap": null,
            "max_width": null,
            "order": null,
            "_view_module_version": "1.2.0",
            "grid_template_areas": null,
            "object_position": null,
            "object_fit": null,
            "grid_auto_columns": null,
            "margin": null,
            "display": null,
            "left": null
          }
        },
        "8a675b1e62b24d7984c63b6e5f8853b1": {
          "model_module": "@jupyter-widgets/base",
          "model_name": "LayoutModel",
          "state": {
            "_view_name": "LayoutView",
            "grid_template_rows": null,
            "right": null,
            "justify_content": null,
            "_view_module": "@jupyter-widgets/base",
            "overflow": null,
            "_model_module_version": "1.2.0",
            "_view_count": null,
            "flex_flow": null,
            "width": null,
            "min_width": null,
            "border": null,
            "align_items": null,
            "bottom": null,
            "_model_module": "@jupyter-widgets/base",
            "top": null,
            "grid_column": null,
            "overflow_y": null,
            "overflow_x": null,
            "grid_auto_flow": null,
            "grid_area": null,
            "grid_template_columns": null,
            "flex": null,
            "_model_name": "LayoutModel",
            "justify_items": null,
            "grid_row": null,
            "max_height": null,
            "align_content": null,
            "visibility": null,
            "align_self": null,
            "height": null,
            "min_height": null,
            "padding": null,
            "grid_auto_rows": null,
            "grid_gap": null,
            "max_width": null,
            "order": null,
            "_view_module_version": "1.2.0",
            "grid_template_areas": null,
            "object_position": null,
            "object_fit": null,
            "grid_auto_columns": null,
            "margin": null,
            "display": null,
            "left": null
          }
        },
        "e84aabfa565b456da72a414a1333bcba": {
          "model_module": "@jupyter-widgets/controls",
          "model_name": "TabModel",
          "state": {
            "_view_name": "TabView",
            "_dom_classes": [],
            "_titles": {
              "0": "Youtube",
              "1": "Bilibili"
            },
            "_model_name": "TabModel",
            "_view_module": "@jupyter-widgets/controls",
            "selected_index": 0,
            "_model_module_version": "1.5.0",
            "_view_count": null,
            "_view_module_version": "1.5.0",
            "box_style": "",
            "layout": "IPY_MODEL_1cb8dd1589704527b79bd3471e6a7f3f",
            "_model_module": "@jupyter-widgets/controls",
            "children": [
              "IPY_MODEL_b14bb31fd89c43d09cbb515d4cfd1cf9",
              "IPY_MODEL_e44d4e0b62234467b20eb6751bcf252c"
            ]
          }
        },
        "1cb8dd1589704527b79bd3471e6a7f3f": {
          "model_module": "@jupyter-widgets/base",
          "model_name": "LayoutModel",
          "state": {
            "_view_name": "LayoutView",
            "grid_template_rows": null,
            "right": null,
            "justify_content": null,
            "_view_module": "@jupyter-widgets/base",
            "overflow": null,
            "_model_module_version": "1.2.0",
            "_view_count": null,
            "flex_flow": null,
            "width": null,
            "min_width": null,
            "border": null,
            "align_items": null,
            "bottom": null,
            "_model_module": "@jupyter-widgets/base",
            "top": null,
            "grid_column": null,
            "overflow_y": null,
            "overflow_x": null,
            "grid_auto_flow": null,
            "grid_area": null,
            "grid_template_columns": null,
            "flex": null,
            "_model_name": "LayoutModel",
            "justify_items": null,
            "grid_row": null,
            "max_height": null,
            "align_content": null,
            "visibility": null,
            "align_self": null,
            "height": null,
            "min_height": null,
            "padding": null,
            "grid_auto_rows": null,
            "grid_gap": null,
            "max_width": null,
            "order": null,
            "_view_module_version": "1.2.0",
            "grid_template_areas": null,
            "object_position": null,
            "object_fit": null,
            "grid_auto_columns": null,
            "margin": null,
            "display": null,
            "left": null
          }
        },
        "b14bb31fd89c43d09cbb515d4cfd1cf9": {
          "model_module": "@jupyter-widgets/output",
          "model_name": "OutputModel",
          "state": {
            "_view_name": "OutputView",
            "msg_id": "",
            "_dom_classes": [],
            "_model_name": "OutputModel",
            "outputs": [
              {
                "output_type": "stream",
                "metadata": {
                  "tags": []
                },
                "text": "Video available at https://youtube.com/watch?v=BOh8CsuTFkY\n",
                "stream": "stdout"
              },
              {
                "output_type": "display_data",
                "metadata": {
                  "tags": []
                },
                "text/html": "\n        <iframe\n            width=\"854\"\n            height=\"480\"\n            src=\"https://www.youtube.com/embed/BOh8CsuTFkY?fs=1&rel=0\"\n            frameborder=\"0\"\n            allowfullscreen\n        ></iframe>\n        ",
                "text/plain": "<IPython.lib.display.YouTubeVideo at 0x7fd7407dcb50>",
                "image/jpeg": "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\n"
              }
            ],
            "_view_module": "@jupyter-widgets/output",
            "_model_module_version": "1.0.0",
            "_view_count": null,
            "_view_module_version": "1.0.0",
            "layout": "IPY_MODEL_69dc1c84822049a191c58ecb459f449d",
            "_model_module": "@jupyter-widgets/output"
          }
        },
        "e44d4e0b62234467b20eb6751bcf252c": {
          "model_module": "@jupyter-widgets/output",
          "model_name": "OutputModel",
          "state": {
            "_view_name": "OutputView",
            "msg_id": "",
            "_dom_classes": [],
            "_model_name": "OutputModel",
            "outputs": [
              {
                "output_type": "stream",
                "metadata": {
                  "tags": []
                },
                "text": "Video available at https://www.bilibili.com/video/BV1BA411e7eH\n",
                "stream": "stdout"
              },
              {
                "output_type": "display_data",
                "metadata": {
                  "tags": []
                },
                "text/html": "\n        <iframe\n            width=\"854\"\n            height=\"480\"\n            src=\"https://player.bilibili.com/player.html?bvid=BV1BA411e7eH&page=1?fs=1\"\n            frameborder=\"0\"\n            allowfullscreen\n        ></iframe>\n        ",
                "text/plain": "<__main__.BiliVideo at 0x7fd740773790>"
              }
            ],
            "_view_module": "@jupyter-widgets/output",
            "_model_module_version": "1.0.0",
            "_view_count": null,
            "_view_module_version": "1.0.0",
            "layout": "IPY_MODEL_8549af3b5f5441b2922a5cf774a0e242",
            "_model_module": "@jupyter-widgets/output"
          }
        },
        "69dc1c84822049a191c58ecb459f449d": {
          "model_module": "@jupyter-widgets/base",
          "model_name": "LayoutModel",
          "state": {
            "_view_name": "LayoutView",
            "grid_template_rows": null,
            "right": null,
            "justify_content": null,
            "_view_module": "@jupyter-widgets/base",
            "overflow": null,
            "_model_module_version": "1.2.0",
            "_view_count": null,
            "flex_flow": null,
            "width": null,
            "min_width": null,
            "border": null,
            "align_items": null,
            "bottom": null,
            "_model_module": "@jupyter-widgets/base",
            "top": null,
            "grid_column": null,
            "overflow_y": null,
            "overflow_x": null,
            "grid_auto_flow": null,
            "grid_area": null,
            "grid_template_columns": null,
            "flex": null,
            "_model_name": "LayoutModel",
            "justify_items": null,
            "grid_row": null,
            "max_height": null,
            "align_content": null,
            "visibility": null,
            "align_self": null,
            "height": null,
            "min_height": null,
            "padding": null,
            "grid_auto_rows": null,
            "grid_gap": null,
            "max_width": null,
            "order": null,
            "_view_module_version": "1.2.0",
            "grid_template_areas": null,
            "object_position": null,
            "object_fit": null,
            "grid_auto_columns": null,
            "margin": null,
            "display": null,
            "left": null
          }
        },
        "8549af3b5f5441b2922a5cf774a0e242": {
          "model_module": "@jupyter-widgets/base",
          "model_name": "LayoutModel",
          "state": {
            "_view_name": "LayoutView",
            "grid_template_rows": null,
            "right": null,
            "justify_content": null,
            "_view_module": "@jupyter-widgets/base",
            "overflow": null,
            "_model_module_version": "1.2.0",
            "_view_count": null,
            "flex_flow": null,
            "width": null,
            "min_width": null,
            "border": null,
            "align_items": null,
            "bottom": null,
            "_model_module": "@jupyter-widgets/base",
            "top": null,
            "grid_column": null,
            "overflow_y": null,
            "overflow_x": null,
            "grid_auto_flow": null,
            "grid_area": null,
            "grid_template_columns": null,
            "flex": null,
            "_model_name": "LayoutModel",
            "justify_items": null,
            "grid_row": null,
            "max_height": null,
            "align_content": null,
            "visibility": null,
            "align_self": null,
            "height": null,
            "min_height": null,
            "padding": null,
            "grid_auto_rows": null,
            "grid_gap": null,
            "max_width": null,
            "order": null,
            "_view_module_version": "1.2.0",
            "grid_template_areas": null,
            "object_position": null,
            "object_fit": null,
            "grid_auto_columns": null,
            "margin": null,
            "display": null,
            "left": null
          }
        }
      }
    }
  },
  "cells": [
    {
      "cell_type": "markdown",
      "metadata": {
        "id": "view-in-github",
        "colab_type": "text"
      },
      "source": [
        "<a href=\"https://colab.research.google.com/github/JulioLarrea/course-content/blob/master/tutorials/W0D1_PythonWorkshop1/student/W0D1_Tutorial1.ipynb\" target=\"_parent\"><img src=\"https://colab.research.google.com/assets/colab-badge.svg\" alt=\"Open In Colab\"/></a>"
      ]
    },
    {
      "cell_type": "markdown",
      "metadata": {
        "id": "rDn5EEsAUq_o"
      },
      "source": [
        "# Tutorial: LIF Neuron Part I\n",
        "**Week 0, Day 1: Python Workshop 1**\n",
        "\n",
        "**By Neuromatch Academy**\n",
        "\n",
        "__Content creators:__ Marco Brigham and the [CCNSS](https://www.ccnss.org/) team\n",
        "\n",
        "__Content reviewers:__ Michael Waskom, Karolina Stosio, Spiros Chavlis\n",
        "\n",
        "__Production Editor:__ Ella Batty\n"
      ]
    },
    {
      "cell_type": "markdown",
      "metadata": {
        "id": "eDIaRG78Uq_t"
      },
      "source": [
        "**Our 2021 Sponsors, including Presenting Sponsor Facebook Reality Labs**\n",
        "\n",
        "<p align='center'><img src='https://github.com/NeuromatchAcademy/widgets/blob/master/sponsors.png?raw=True'/></p>"
      ]
    },
    {
      "cell_type": "markdown",
      "metadata": {
        "id": "pgnSBHQDUq_u"
      },
      "source": [
        "---\n",
        "# Tutorial objectives\n",
        "\n",
        "During NMA, you will be using code to learn computational neuroscience in an interactive (and hopefully fun) way. This tutorial and the next are to help you get up to speed on Python before the course, so that during the course you can focus on the computational neuroscience concepts.\n",
        "\n",
        "\n",
        "In this notebook, we'll practice basic operations with Python variables, control flow, plotting, and take a sneak peek at `np.array`, the workhorse of scientific computation in Python.\n",
        "\n",
        "Each new concept in Python will unlock a different aspect of our implementation of a **Leaky Integrate-and-Fire (LIF)** neuron. And as if it couldn't get any better, we'll visualize the evolution of its membrane potential in time, and extract its statistical properties!\n"
      ]
    },
    {
      "cell_type": "markdown",
      "metadata": {
        "id": "cvQurKc1Uq_v"
      },
      "source": [
        "---\n",
        "# Setup\n",
        "Please execute the cell(s) below to initialize the notebook environment."
      ]
    },
    {
      "cell_type": "code",
      "metadata": {
        "cellView": "both",
        "execution": {
          "iopub.execute_input": "2021-06-27T06:04:23.138033Z",
          "iopub.status.busy": "2021-06-27T06:04:23.137325Z",
          "iopub.status.idle": "2021-06-27T06:04:25.455411Z",
          "shell.execute_reply": "2021-06-27T06:04:25.454649Z"
        },
        "id": "dWuGBIsKUq_w"
      },
      "source": [
        "# Imports\n",
        "\n",
        "import numpy as np\n",
        "import matplotlib.pyplot as plt"
      ],
      "execution_count": 1,
      "outputs": []
    },
    {
      "cell_type": "code",
      "metadata": {
        "cellView": "form",
        "execution": {
          "iopub.execute_input": "2021-06-27T06:04:25.462032Z",
          "iopub.status.busy": "2021-06-27T06:04:25.459728Z",
          "iopub.status.idle": "2021-06-27T06:04:25.685583Z",
          "shell.execute_reply": "2021-06-27T06:04:25.686294Z"
        },
        "id": "o5AzGUYUUq_x"
      },
      "source": [
        "# @title Figure settings\n",
        "import ipywidgets as widgets       # interactive display\n",
        "%config InlineBackend.figure_format = 'retina'\n",
        "plt.style.use(\"https://raw.githubusercontent.com/NeuromatchAcademy/course-content/master/nma.mplstyle\")"
      ],
      "execution_count": 2,
      "outputs": []
    },
    {
      "cell_type": "markdown",
      "metadata": {
        "id": "K-5_-GHwUq_x"
      },
      "source": [
        "---\n",
        "# Section 1: Python basics & the LIF model"
      ]
    },
    {
      "cell_type": "code",
      "metadata": {
        "cellView": "form",
        "execution": {
          "iopub.execute_input": "2021-06-27T06:04:25.700581Z",
          "iopub.status.busy": "2021-06-27T06:04:25.699837Z",
          "iopub.status.idle": "2021-06-27T06:04:25.795454Z",
          "shell.execute_reply": "2021-06-27T06:04:25.796015Z"
        },
        "id": "2_jpjTexUq_y",
        "outputId": "78806c0e-9e71-4bce-99c1-9594670d085f",
        "colab": {
          "base_uri": "https://localhost:8080/",
          "height": 597,
          "referenced_widgets": [
            "192b25b9d68743fcb7195bcf2bbbc964",
            "e8cd9dcd3a5842ec9d1004fdf17d3aa5",
            "570228558cab4217a094c92213c44f76",
            "722a1d8c591244d3b8682805a2f128bd",
            "87346846ff524035842b8c64fed3ab70",
            "d759279eb5174b749614b2711695fd90"
          ]
        }
      },
      "source": [
        "# @title Video 1: Python basics & the LIF model\n",
        "from ipywidgets import widgets\n",
        "\n",
        "out2 = widgets.Output()\n",
        "with out2:\n",
        "  from IPython.display import IFrame\n",
        "  class BiliVideo(IFrame):\n",
        "      def __init__(self, id, page=1, width=400, height=300, **kwargs):\n",
        "          self.id=id\n",
        "          src = 'https://player.bilibili.com/player.html?bvid={0}&page={1}'.format(id, page)\n",
        "          super(BiliVideo, self).__init__(src, width, height, **kwargs)\n",
        "\n",
        "  video = BiliVideo(id=\"BV1vV41167T1\", width=854, height=480, fs=1)\n",
        "  print('Video available at https://www.bilibili.com/video/{0}'.format(video.id))\n",
        "  display(video)\n",
        "\n",
        "out1 = widgets.Output()\n",
        "with out1:\n",
        "  from IPython.display import YouTubeVideo\n",
        "  video = YouTubeVideo(id=\"Bwm6rjRpVw8\", width=854, height=480, fs=1, rel=0)\n",
        "  print('Video available at https://youtube.com/watch?v=' + video.id)\n",
        "  display(video)\n",
        "\n",
        "out = widgets.Tab([out1, out2])\n",
        "out.set_title(0, 'Youtube')\n",
        "out.set_title(1, 'Bilibili')\n",
        "\n",
        "display(out)"
      ],
      "execution_count": 3,
      "outputs": [
        {
          "output_type": "display_data",
          "data": {
            "application/vnd.jupyter.widget-view+json": {
              "model_id": "192b25b9d68743fcb7195bcf2bbbc964",
              "version_minor": 0,
              "version_major": 2
            },
            "text/plain": [
              "Tab(children=(Output(), Output()), _titles={'0': 'Youtube', '1': 'Bilibili'})"
            ]
          },
          "metadata": {
            "tags": []
          }
        }
      ]
    },
    {
      "cell_type": "markdown",
      "metadata": {
        "id": "EsiLx9WrUq_z"
      },
      "source": [
        "## Section 1.1: The LIF Model"
      ]
    },
    {
      "cell_type": "markdown",
      "metadata": {
        "id": "i1rkCdzsUq_0"
      },
      "source": [
        "A *membrane equation* and a *reset condition* define our *leaky-integrate-and-fire (LIF)* neuron:\n",
        "\n",
        "\\begin{align*}\n",
        "\\\\\n",
        "&\\tau_m\\,\\frac{d}{dt}\\,V(t) = E_{L} - V(t) + R\\,I(t) &\\text{if }\\quad V(t) \\leq V_{th}\\\\\n",
        "\\\\\n",
        "&V(t) = V_{reset} &\\text{otherwise}\\\\\n",
        "\\\\\n",
        "\\end{align*}\n",
        "\n",
        "where $V(t)$ is the membrane potential, $\\tau_m$ is the membrane time constant, $E_{L}$ is the leak potential, $R$ is the membrane resistance, $I(t)$ is the synaptic input current, $V_{th}$ is the firing threshold, and $V_{reset}$ is the reset voltage. We can also write $V_m$ for membrane potential, which is more convenient for plot labels.\n",
        "\n",
        "The membrane equation describes the time evolution of membrane potential $V(t)$ in response to synaptic input and leaking of charge across the cell membrane. This is an *ordinary differential equation (ODE)*, a concept we will learn more about in future days.\n",
        "\n",
        "**Note that, in this tutorial the neuron model will not implement a spiking mechanism.**"
      ]
    },
    {
      "cell_type": "markdown",
      "metadata": {
        "id": "eIL2cby8Uq_1"
      },
      "source": [
        "## Section 1.2: Comments in code"
      ]
    },
    {
      "cell_type": "code",
      "metadata": {
        "cellView": "form",
        "execution": {
          "iopub.execute_input": "2021-06-27T06:04:25.818165Z",
          "iopub.status.busy": "2021-06-27T06:04:25.816345Z",
          "iopub.status.idle": "2021-06-27T06:04:25.882823Z",
          "shell.execute_reply": "2021-06-27T06:04:25.880680Z"
        },
        "id": "4kKxMV2KUq_2",
        "outputId": "21efa104-037b-4fda-ef7c-20504cc2fe3c",
        "colab": {
          "base_uri": "https://localhost:8080/",
          "height": 597,
          "referenced_widgets": [
            "b992495c18b4481986ed2ed969b1f399",
            "0e4858f6955a41cea61524feaa29d190",
            "42347bb5d5684fd597f09a77ab736d8c",
            "bafb92355578474a8c0b896755c3f46e",
            "0172bf2e477d48c1aa53c9106618be61",
            "3990eb7de0ed479e93d9eedacd0d0910"
          ]
        }
      },
      "source": [
        "# @title Video 2: Nano recap of comments and strings\n",
        "from ipywidgets import widgets\n",
        "\n",
        "out2 = widgets.Output()\n",
        "with out2:\n",
        "  from IPython.display import IFrame\n",
        "  class BiliVideo(IFrame):\n",
        "      def __init__(self, id, page=1, width=400, height=300, **kwargs):\n",
        "          self.id=id\n",
        "          src = 'https://player.bilibili.com/player.html?bvid={0}&page={1}'.format(id, page)\n",
        "          super(BiliVideo, self).__init__(src, width, height, **kwargs)\n",
        "\n",
        "  video = BiliVideo(id=\"BV1fg4y1v7P3\", width=854, height=480, fs=1)\n",
        "  print('Video available at https://www.bilibili.com/video/{0}'.format(video.id))\n",
        "  display(video)\n",
        "\n",
        "out1 = widgets.Output()\n",
        "with out1:\n",
        "  from IPython.display import YouTubeVideo\n",
        "  video = YouTubeVideo(id=\"UP8rD2AwceM\", width=854, height=480, fs=1, rel=0)\n",
        "  print('Video available at https://youtube.com/watch?v=' + video.id)\n",
        "  display(video)\n",
        "\n",
        "out = widgets.Tab([out1, out2])\n",
        "out.set_title(0, 'Youtube')\n",
        "out.set_title(1, 'Bilibili')\n",
        "\n",
        "display(out)"
      ],
      "execution_count": 4,
      "outputs": [
        {
          "output_type": "display_data",
          "data": {
            "application/vnd.jupyter.widget-view+json": {
              "model_id": "b992495c18b4481986ed2ed969b1f399",
              "version_minor": 0,
              "version_major": 2
            },
            "text/plain": [
              "Tab(children=(Output(), Output()), _titles={'0': 'Youtube', '1': 'Bilibili'})"
            ]
          },
          "metadata": {
            "tags": []
          }
        }
      ]
    },
    {
      "cell_type": "markdown",
      "metadata": {
        "id": "zuWl2i_WUq_3"
      },
      "source": [
        "### Coding Exercise 1: Defining parameters\n",
        "We start by defining and initializing the main simulation variables for our LIF neuron.\n",
        "\n",
        "In the code cell below, please modify the code to print the simulation parameters."
      ]
    },
    {
      "cell_type": "code",
      "metadata": {
        "execution": {
          "iopub.execute_input": "2021-06-27T06:04:25.894545Z",
          "iopub.status.busy": "2021-06-27T06:04:25.893277Z",
          "iopub.status.idle": "2021-06-27T06:04:25.895395Z",
          "shell.execute_reply": "2021-06-27T06:04:25.895838Z"
        },
        "id": "72OU5NKdUq_8",
        "outputId": "97f0b5cb-2db8-4bcb-f5ae-1b21098427de",
        "colab": {
          "base_uri": "https://localhost:8080/"
        }
      },
      "source": [
        "t_max = 150e-3   # second\n",
        "dt = 1e-3        # second\n",
        "tau = 20e-3      # second\n",
        "el = -60e-3      # milivolt\n",
        "vr = -70e-3      # milivolt\n",
        "vth = -50e-3     # milivolt\n",
        "r = 100e6        # ohm\n",
        "i_mean = 25e-11  # ampere\n",
        "\n",
        "print(t_max, dt, tau, el, vr, vth, r, i_mean)"
      ],
      "execution_count": 6,
      "outputs": [
        {
          "output_type": "stream",
          "text": [
            "0.15 0.001 0.02 -0.06 -0.07 -0.05 100000000.0 2.5e-10\n"
          ],
          "name": "stdout"
        }
      ]
    },
    {
      "cell_type": "markdown",
      "metadata": {
        "id": "ybuDM9W4Uq_9"
      },
      "source": [
        "**SAMPLE OUTPUT**\n",
        "\n",
        "```\n",
        "0.15 0.001 0.02 -0.06 -0.07 -0.05 100000000.0 2.5e-10\n",
        "```"
      ]
    },
    {
      "cell_type": "markdown",
      "metadata": {
        "cellView": "code",
        "execution": {
          "iopub.execute_input": "2021-06-27T06:04:25.903855Z",
          "iopub.status.busy": "2021-06-27T06:04:25.902608Z",
          "iopub.status.idle": "2021-06-27T06:04:25.905708Z",
          "shell.execute_reply": "2021-06-27T06:04:25.905096Z"
        },
        "id": "re7ql3OqUq_9"
      },
      "source": [
        "[*Click for solution*](https://github.com/NeuromatchAcademy/course-content/tree/master//tutorials/W0D1_PythonWorkshop1/solutions/W0D1_Tutorial1_Solution_4adeccd3.py)\n",
        "\n"
      ]
    },
    {
      "cell_type": "markdown",
      "metadata": {
        "id": "RNnEdPiSUq_-"
      },
      "source": [
        "We needed to remove the #'s at the start of each line - otherwise the code is read as comments and not actually run. Sometimes when you're writing code, you may want to \"comment out\" sections of code for debugging purposes. Note that we tried to use descriptive variable names, in this case that correspond to the math notation we use. We also used comments to denote units within the code - this makes it much easier to understand! "
      ]
    },
    {
      "cell_type": "markdown",
      "metadata": {
        "id": "krDisnkmUq__"
      },
      "source": [
        "## Section 1.3: Math operations\n",
        "\n"
      ]
    },
    {
      "cell_type": "markdown",
      "metadata": {
        "id": "MQc8eztiUq__"
      },
      "source": [
        "### Coding Exercise 2: Simulating an input current\n",
        "![synaptic input](https://github.com/mpbrigham/colaboratory-figures/raw/master/nma/python-for-nma/synaptic_input.png)\n",
        "\n",
        "We need to simulate the synaptic input $I(t)$ that goes into our model neuron. We will start with a sinusoidal model to simulate this input (visualized above), using the equation:\n",
        "\\begin{align*}\n",
        "\\\\\n",
        "I(t)=I_{mean}\\left(1+\\sin\\left(\\frac{2 \\pi}{0.01}\\,t\\right)\\right)\\\\\n",
        "\\\\\n",
        "\\end{align*}\n",
        "where $I_{mean}$ is the mean current input and $t$ is the time.\n",
        "\n",
        "In the next cell, you will compute the values of synaptic input $I(t)$ between $t=0$ and $t=0.009$ with step $\\Delta t=0.001$.\n",
        "\n",
        "**New coding concepts**: \n",
        "- We use a **for loop** in the code below. We will dive deeper into for loops later, but essentially for loops allow us to run the same code block multiple times. In this case, we loop over steps so the variable *step* equals something new each time. We use the syntax `for step in range(10):`. This means that `step` will take each integer value between 0 and 10.\n",
        "- You can use `np.pi` as the value of $\\pi$ and `np.sin(x)` to get the sine of x. These come from a package called numpy, which we'll learn about later.\n"
      ]
    },
    {
      "cell_type": "code",
      "metadata": {
        "execution": {
          "iopub.execute_input": "2021-06-27T06:04:25.912997Z",
          "iopub.status.busy": "2021-06-27T06:04:25.911516Z",
          "iopub.status.idle": "2021-06-27T06:04:25.915198Z",
          "shell.execute_reply": "2021-06-27T06:04:25.914724Z"
        },
        "id": "_0eIhya9UrAA",
        "outputId": "c6906678-2034-4349-b087-3c21da2d05b2",
        "colab": {
          "base_uri": "https://localhost:8080/"
        }
      },
      "source": [
        "# Loop for 10 steps, variable 'step' takes values from 0 to 9\n",
        "for step in range(10):\n",
        "\n",
        "  # Compute value of t\n",
        "  t = step * dt\n",
        "\n",
        "  # Compute value of i at this time step\n",
        "  i = i_mean * (1 + np.sin((t * 2 * np.pi) / 0.01))\n",
        "\n",
        "  # Print value of i\n",
        "  print(i)"
      ],
      "execution_count": 7,
      "outputs": [
        {
          "output_type": "stream",
          "text": [
            "2.5e-10\n",
            "3.969463130731183e-10\n",
            "4.877641290737885e-10\n",
            "4.877641290737885e-10\n",
            "3.9694631307311837e-10\n",
            "2.5000000000000007e-10\n",
            "1.0305368692688176e-10\n",
            "1.2235870926211617e-11\n",
            "1.223587092621159e-11\n",
            "1.0305368692688186e-10\n"
          ],
          "name": "stdout"
        }
      ]
    },
    {
      "cell_type": "markdown",
      "metadata": {
        "id": "MZ2OeqUBUrAB"
      },
      "source": [
        "**SAMPLE OUTPUT**\n",
        "\n",
        "```\n",
        "2.5e-10\n",
        "3.969463130731183e-10\n",
        "4.877641290737885e-10\n",
        "4.877641290737885e-10\n",
        "3.9694631307311837e-10\n",
        "2.5000000000000007e-10\n",
        "1.0305368692688176e-10\n",
        "1.2235870926211617e-11\n",
        "1.223587092621159e-11\n",
        "1.0305368692688186e-10\n",
        "```"
      ]
    },
    {
      "cell_type": "markdown",
      "metadata": {
        "execution": {
          "iopub.execute_input": "2021-06-27T06:04:25.922831Z",
          "iopub.status.busy": "2021-06-27T06:04:25.922097Z",
          "iopub.status.idle": "2021-06-27T06:04:25.924716Z",
          "shell.execute_reply": "2021-06-27T06:04:25.923403Z"
        },
        "id": "kW2IxOrNUrAC"
      },
      "source": [
        "[*Click for solution*](https://github.com/NeuromatchAcademy/course-content/tree/master//tutorials/W0D1_PythonWorkshop1/solutions/W0D1_Tutorial1_Solution_0833b67f.py)\n",
        "\n"
      ]
    },
    {
      "cell_type": "markdown",
      "metadata": {
        "id": "tFAHP5X-UrAC"
      },
      "source": [
        "## Section 1.4: Print formatting\n",
        "\n",
        "Print formatting is handy for displaying simulation parameters in a clean and organized form. Python 3.6 introduced the new string formatting [f-strings](https://www.python.org/dev/peps/pep-0498). Since we are dealing with type `float` variables, we use `f'{x:.3f}'` for formatting `x` to three decimal points, and `f'{x:.4e}'` for four decimal points but in exponential notation.\n",
        "```\n",
        "x = 3.14159265e-1\n",
        "print(f'{x:.3f}')\n",
        "--> 0.314\n",
        "\n",
        "print(f'{x:.4e}')\n",
        "--> 3.1416e-01\n",
        "```"
      ]
    },
    {
      "cell_type": "markdown",
      "metadata": {
        "id": "XzFLnEiKUrAD"
      },
      "source": [
        "### Coding Exercise 3: Printing pretty numbers \n",
        "\n",
        "\n",
        "Repeat the loop from the previous exercise and print the `t` values with three decimal points, and synaptic input $I(t)$ with four decimal points in exponential notation.\n",
        "\n"
      ]
    },
    {
      "cell_type": "code",
      "metadata": {
        "execution": {
          "iopub.execute_input": "2021-06-27T06:04:25.931135Z",
          "iopub.status.busy": "2021-06-27T06:04:25.930391Z",
          "iopub.status.idle": "2021-06-27T06:04:25.935343Z",
          "shell.execute_reply": "2021-06-27T06:04:25.934774Z"
        },
        "id": "mmQm0GAfUrAD",
        "outputId": "53114c60-36cc-4dc6-cabb-9b20860e1ecb",
        "colab": {
          "base_uri": "https://localhost:8080/"
        }
      },
      "source": [
        "# Initialize step_end\n",
        "step_end = 10\n",
        "\n",
        "# Loop for step_end steps\n",
        "for step in range(step_end):\n",
        "\n",
        "  # Compute value of t\n",
        "  t = step * dt\n",
        "\n",
        "  # Compute value of i at this time step\n",
        "  i = i_mean * (1 + np.sin((t * 2 * np.pi) / 0.01))\n",
        "\n",
        "  # Print value of t and i\n",
        "  print(f'{t:.3f} {i:.4e}')"
      ],
      "execution_count": 9,
      "outputs": [
        {
          "output_type": "stream",
          "text": [
            "0.000 2.5000e-10\n",
            "0.001 3.9695e-10\n",
            "0.002 4.8776e-10\n",
            "0.003 4.8776e-10\n",
            "0.004 3.9695e-10\n",
            "0.005 2.5000e-10\n",
            "0.006 1.0305e-10\n",
            "0.007 1.2236e-11\n",
            "0.008 1.2236e-11\n",
            "0.009 1.0305e-10\n"
          ],
          "name": "stdout"
        }
      ]
    },
    {
      "cell_type": "markdown",
      "metadata": {
        "id": "wyfsY5c7UrAD"
      },
      "source": [
        "**SAMPLE OUTPUT**\n",
        "\n",
        "```\n",
        "0.000 2.5000e-10\n",
        "0.001 3.9695e-10\n",
        "0.002 4.8776e-10\n",
        "0.003 4.8776e-10\n",
        "0.004 3.9695e-10\n",
        "0.005 2.5000e-10\n",
        "0.006 1.0305e-10\n",
        "0.007 1.2236e-11\n",
        "0.008 1.2236e-11\n",
        "0.009 1.0305e-10\n",
        "```"
      ]
    },
    {
      "cell_type": "markdown",
      "metadata": {
        "execution": {
          "iopub.execute_input": "2021-06-27T06:04:25.940565Z",
          "iopub.status.busy": "2021-06-27T06:04:25.939312Z",
          "iopub.status.idle": "2021-06-27T06:04:25.944447Z",
          "shell.execute_reply": "2021-06-27T06:04:25.944842Z"
        },
        "id": "clphfA5VUrAE"
      },
      "source": [
        "[*Click for solution*](https://github.com/NeuromatchAcademy/course-content/tree/master//tutorials/W0D1_PythonWorkshop1/solutions/W0D1_Tutorial1_Solution_b2d23280.py)\n",
        "\n"
      ]
    },
    {
      "cell_type": "markdown",
      "metadata": {
        "id": "B3gd8M78UrAF"
      },
      "source": [
        "---\n",
        "# Section 2: For loops & discrete time integration\n",
        "\n",
        "\n"
      ]
    },
    {
      "cell_type": "code",
      "metadata": {
        "cellView": "form",
        "execution": {
          "iopub.execute_input": "2021-06-27T06:04:25.955704Z",
          "iopub.status.busy": "2021-06-27T06:04:25.952387Z",
          "iopub.status.idle": "2021-06-27T06:04:26.029721Z",
          "shell.execute_reply": "2021-06-27T06:04:26.025538Z"
        },
        "id": "aXA_wXWWUrAG",
        "outputId": "49df25fa-829c-4238-992b-092be29ee4b4",
        "colab": {
          "base_uri": "https://localhost:8080/",
          "height": 597,
          "referenced_widgets": [
            "a9808c1714e04f18a43df7039c0ff1a9",
            "78fffe9786ba4de2afdb25be05890125",
            "a67e6ece991341d8b8a2e89e1c5fdab3",
            "9c12f5bed79649658cd71af2dcc46683",
            "910f0782da234c12af99ecd92bbe220a",
            "87f8c10723de47e08a84a8d75144fdca"
          ]
        }
      },
      "source": [
        "# @title Video 3: For loops & discrete time integration\n",
        "from ipywidgets import widgets\n",
        "\n",
        "out2 = widgets.Output()\n",
        "with out2:\n",
        "  from IPython.display import IFrame\n",
        "  class BiliVideo(IFrame):\n",
        "      def __init__(self, id, page=1, width=400, height=300, **kwargs):\n",
        "          self.id=id\n",
        "          src = 'https://player.bilibili.com/player.html?bvid={0}&page={1}'.format(id, page)\n",
        "          super(BiliVideo, self).__init__(src, width, height, **kwargs)\n",
        "\n",
        "  video = BiliVideo(id=\"BV1nt4y1Q7Z5\", width=854, height=480, fs=1)\n",
        "  print('Video available at https://www.bilibili.com/video/{0}'.format(video.id))\n",
        "  display(video)\n",
        "\n",
        "out1 = widgets.Output()\n",
        "with out1:\n",
        "  from IPython.display import YouTubeVideo\n",
        "  video = YouTubeVideo(id=\"JkxgotYwu4Q\", width=854, height=480, fs=1, rel=0)\n",
        "  print('Video available at https://youtube.com/watch?v=' + video.id)\n",
        "  display(video)\n",
        "\n",
        "out = widgets.Tab([out1, out2])\n",
        "out.set_title(0, 'Youtube')\n",
        "out.set_title(1, 'Bilibili')\n",
        "\n",
        "display(out)"
      ],
      "execution_count": 10,
      "outputs": [
        {
          "output_type": "display_data",
          "data": {
            "application/vnd.jupyter.widget-view+json": {
              "model_id": "a9808c1714e04f18a43df7039c0ff1a9",
              "version_minor": 0,
              "version_major": 2
            },
            "text/plain": [
              "Tab(children=(Output(), Output()), _titles={'0': 'Youtube', '1': 'Bilibili'})"
            ]
          },
          "metadata": {
            "tags": []
          }
        }
      ]
    },
    {
      "cell_type": "markdown",
      "metadata": {
        "id": "6TaBut0TUrAG"
      },
      "source": [
        "## Section 2.1: For Loops\n",
        "\n",
        "A for loop implements the indented code block multiple times (with the variable being looped over equaling something new each time). The following three formulations are all equivalent and loop for three steps:\n",
        "```\n",
        "for step in [0, 1, 2]:\n",
        "  print(step)\n",
        "\n",
        "for step in range(3):\n",
        "  print(step)\n",
        "\n",
        "start = 0\n",
        "end = 3\n",
        "stepsize = 1\n",
        "\n",
        "for step in range(start, end, stepsize):\n",
        "  print(step)\n",
        "```\n"
      ]
    },
    {
      "cell_type": "markdown",
      "metadata": {
        "id": "6jbEo-QsUrAH"
      },
      "source": [
        "## Section 2.2: Discrete time integration with spikes\n"
      ]
    },
    {
      "cell_type": "code",
      "metadata": {
        "cellView": "form",
        "execution": {
          "iopub.execute_input": "2021-06-27T06:04:26.046763Z",
          "iopub.status.busy": "2021-06-27T06:04:26.041568Z",
          "iopub.status.idle": "2021-06-27T06:04:26.114886Z",
          "shell.execute_reply": "2021-06-27T06:04:26.114289Z"
        },
        "id": "xTArA9TZUrAH",
        "outputId": "2a039562-dcf1-4aac-dbbb-718d48c7950f",
        "colab": {
          "base_uri": "https://localhost:8080/",
          "height": 597,
          "referenced_widgets": [
            "79a4b5af228c4e0898a3c1f0755b2864",
            "765ea5a67b874cd487c4903eb3f7a409",
            "913503e2094c478ca3e1be31bde6073a",
            "1501cf8691764023821e46d2c0adad77",
            "d7ab369ae87d4497b973b1e0429ae2dd",
            "41ce9b7fbbd64782a3e780c635395376"
          ]
        }
      },
      "source": [
        "# @title Video 4: Nano recap of discrete time integration\n",
        "from ipywidgets import widgets\n",
        "\n",
        "out2 = widgets.Output()\n",
        "with out2:\n",
        "  from IPython.display import IFrame\n",
        "  class BiliVideo(IFrame):\n",
        "      def __init__(self, id, page=1, width=400, height=300, **kwargs):\n",
        "          self.id=id\n",
        "          src = 'https://player.bilibili.com/player.html?bvid={0}&page={1}'.format(id, page)\n",
        "          super(BiliVideo, self).__init__(src, width, height, **kwargs)\n",
        "\n",
        "  video = BiliVideo(id=\"BV1mt4y1Q7Ls\", width=854, height=480, fs=1)\n",
        "  print('Video available at https://www.bilibili.com/video/{0}'.format(video.id))\n",
        "  display(video)\n",
        "\n",
        "out1 = widgets.Output()\n",
        "with out1:\n",
        "  from IPython.display import YouTubeVideo\n",
        "  video = YouTubeVideo(id=\"kyCbeR28AYQ\", width=854, height=480, fs=1, rel=0)\n",
        "  print('Video available at https://youtube.com/watch?v=' + video.id)\n",
        "  display(video)\n",
        "\n",
        "out = widgets.Tab([out1, out2])\n",
        "out.set_title(0, 'Youtube')\n",
        "out.set_title(1, 'Bilibili')\n",
        "\n",
        "display(out)"
      ],
      "execution_count": 11,
      "outputs": [
        {
          "output_type": "display_data",
          "data": {
            "application/vnd.jupyter.widget-view+json": {
              "model_id": "79a4b5af228c4e0898a3c1f0755b2864",
              "version_minor": 0,
              "version_major": 2
            },
            "text/plain": [
              "Tab(children=(Output(), Output()), _titles={'0': 'Youtube', '1': 'Bilibili'})"
            ]
          },
          "metadata": {
            "tags": []
          }
        }
      ]
    },
    {
      "cell_type": "markdown",
      "metadata": {
        "id": "Bv127uAmUrAI"
      },
      "source": [
        "In the next exercises, we will simulate the evolution of the membrane equation in discrete time steps, with a sufficiently small $\\Delta t$.\n",
        "\n",
        "We start by writing the time derivative $d/dt\\,V(t)$ in the membrane equation without taking the limit $\\Delta t \\to 0$:\n",
        "\n",
        "\\begin{align*}\n",
        "\\\\\n",
        "\\tau_m\\,\\frac{V\\left(t+\\Delta t\\right)-V\\left(t\\right)}{\\Delta t} &= E_{L} - V(t) + R\\,I(t) \\qquad\\qquad (1)\\\\\n",
        "\\\\\n",
        "\\end{align*}\n",
        "\n",
        "The value of membrane potential $V\\left(t+\\Delta t\\right)$ can be expressed in terms of its previous value $V(t)$ by simple algebraic manipulation. For *small enough* values of $\\Delta t$, this provides a good approximation of the continuous-time integration.\n",
        "\n",
        "This operation is an integration since we obtain a sequence $\\{V(t), V(t+\\Delta t), V(t+2\\Delta t),...\\}$ starting from the ODE. Notice how the ODE describes the evolution of $\\frac{d}{dt}\\,V(t)$, the derivative of $V(t)$, but not directly the evolution of $V(t)$. For the evolution of $V(t)$ we need to integrate the ODE, and in this tutorial, we will do a discrete-time integration using the Euler method. See [Numerical methods for ordinary differential equations](https://en.wikipedia.org/wiki/Numerical_methods_for_ordinary_differential_equations) for additional details."
      ]
    },
    {
      "cell_type": "markdown",
      "metadata": {
        "id": "Zxi4Lw22UrAI"
      },
      "source": [
        "### Coding Exercise 4: Simulating membrane potential\n",
        "Compute the values of $V(t)$ between $t=0$ and $t=0.01$ with step $\\Delta t=0.001$ and $V(0)=E_L$.\n",
        "\n",
        "\n",
        "We need to reorganize the Eq. (1) to isolate $V\\left(t+\\Delta t\\right)$ on the left side, and express it as function of $V(t)$ and the other terms:\n",
        "\n",
        "$$V(t + \\Delta t) =  V(t) + \\frac{\\Delta t}{\\tau_m}(E_l -V(t) + R I(t))$$"
      ]
    },
    {
      "cell_type": "code",
      "metadata": {
        "execution": {
          "iopub.execute_input": "2021-06-27T06:04:26.130321Z",
          "iopub.status.busy": "2021-06-27T06:04:26.129639Z",
          "iopub.status.idle": "2021-06-27T06:04:26.218339Z",
          "shell.execute_reply": "2021-06-27T06:04:26.217532Z"
        },
        "id": "BsemLs9AUrAJ",
        "outputId": "d0f640da-36fa-4fc3-c6b7-e90d0376606a",
        "colab": {
          "base_uri": "https://localhost:8080/"
        }
      },
      "source": [
        "#################################################\n",
        "## TODO for students: fill out compute v code ##\n",
        "# Fill out code and comment or remove the next line\n",
        "# raise NotImplementedError(\"Student exercise: You need to fill out code to compute v\")\n",
        "#################################################\n",
        "\n",
        "# Initialize step_end and v0\n",
        "step_end = 10\n",
        "v = el\n",
        "\n",
        "# Loop for step_end steps\n",
        "for step in range(step_end):\n",
        "  # Compute value of t\n",
        "  t = step * dt\n",
        "\n",
        "  # Compute value of i at this time step\n",
        "  i = i_mean * (1 + np.sin((t * 2 * np.pi) / 0.01))\n",
        "\n",
        "  # Compute v\n",
        "  v = v + dt/tau * (el - v + r*i)\n",
        "\n",
        "  # Print value of t and v\n",
        "  print(f\"{t:.3f} {v:.4e}\")"
      ],
      "execution_count": 20,
      "outputs": [
        {
          "output_type": "stream",
          "text": [
            "0.000 -5.8750e-02\n",
            "0.001 -5.6828e-02\n",
            "0.002 -5.4548e-02\n",
            "0.003 -5.2381e-02\n",
            "0.004 -5.0778e-02\n",
            "0.005 -4.9989e-02\n",
            "0.006 -4.9974e-02\n",
            "0.007 -5.0414e-02\n",
            "0.008 -5.0832e-02\n",
            "0.009 -5.0775e-02\n"
          ],
          "name": "stdout"
        }
      ]
    },
    {
      "cell_type": "markdown",
      "metadata": {
        "id": "43cds9EGUrAJ"
      },
      "source": [
        "**SAMPLE OUTPUT**\n",
        "\n",
        "```\n",
        "0.000 -6.0000e-02\n",
        "0.001 -5.8750e-02\n",
        "0.002 -5.6828e-02\n",
        "0.003 -5.4548e-02\n",
        "0.004 -5.2381e-02\n",
        "0.005 -5.0778e-02\n",
        "0.006 -4.9989e-02\n",
        "0.007 -4.9974e-02\n",
        "0.008 -5.0414e-02\n",
        "0.009 -5.0832e-02\n",
        "```"
      ]
    },
    {
      "cell_type": "markdown",
      "metadata": {
        "execution": {
          "iopub.execute_input": "2021-06-27T06:04:26.227331Z",
          "iopub.status.busy": "2021-06-27T06:04:26.225656Z",
          "iopub.status.idle": "2021-06-27T06:04:26.229484Z",
          "shell.execute_reply": "2021-06-27T06:04:26.228857Z"
        },
        "id": "UTLE2sK8UrAJ"
      },
      "source": [
        "[*Click for solution*](https://github.com/NeuromatchAcademy/course-content/tree/master//tutorials/W0D1_PythonWorkshop1/solutions/W0D1_Tutorial1_Solution_6477ecbb.py)\n",
        "\n"
      ]
    },
    {
      "cell_type": "markdown",
      "metadata": {
        "id": "pQGknVr7UrAK"
      },
      "source": [
        "---\n",
        "# Section 3: Plotting"
      ]
    },
    {
      "cell_type": "code",
      "metadata": {
        "cellView": "form",
        "execution": {
          "iopub.execute_input": "2021-06-27T06:04:26.243339Z",
          "iopub.status.busy": "2021-06-27T06:04:26.238459Z",
          "iopub.status.idle": "2021-06-27T06:04:26.303406Z",
          "shell.execute_reply": "2021-06-27T06:04:26.300158Z"
        },
        "id": "TULBk0hkUrAK",
        "outputId": "9e54e518-ca9e-41cd-e843-6cef1454933f",
        "colab": {
          "base_uri": "https://localhost:8080/",
          "height": 597,
          "referenced_widgets": [
            "6c68dab852eb4889a9ede86ac6fc119f",
            "9912269a7f8c40aa9cb21e932376cc95",
            "8ba772e0000e43a78fe2aeacceb6c269",
            "678eeb00d48041898c741b8e3d0fa7d9",
            "6884b60f945741a0a84a7d41816a287f",
            "8a675b1e62b24d7984c63b6e5f8853b1"
          ]
        }
      },
      "source": [
        "# @title Video 5: Intro to plotting\n",
        "from ipywidgets import widgets\n",
        "\n",
        "out2 = widgets.Output()\n",
        "with out2:\n",
        "  from IPython.display import IFrame\n",
        "  class BiliVideo(IFrame):\n",
        "      def __init__(self, id, page=1, width=400, height=300, **kwargs):\n",
        "          self.id=id\n",
        "          src = 'https://player.bilibili.com/player.html?bvid={0}&page={1}'.format(id, page)\n",
        "          super(BiliVideo, self).__init__(src, width, height, **kwargs)\n",
        "\n",
        "  video = BiliVideo(id=\"BV1MC4y1h77q\", width=854, height=480, fs=1)\n",
        "  print('Video available at https://www.bilibili.com/video/{0}'.format(video.id))\n",
        "  display(video)\n",
        "\n",
        "out1 = widgets.Output()\n",
        "with out1:\n",
        "  from IPython.display import YouTubeVideo\n",
        "  video = YouTubeVideo(id=\"RmdPBHn9kjk\", width=854, height=480, fs=1, rel=0)\n",
        "  print('Video available at https://youtube.com/watch?v=' + video.id)\n",
        "  display(video)\n",
        "\n",
        "out = widgets.Tab([out1, out2])\n",
        "out.set_title(0, 'Youtube')\n",
        "out.set_title(1, 'Bilibili')\n",
        "\n",
        "display(out)"
      ],
      "execution_count": 21,
      "outputs": [
        {
          "output_type": "display_data",
          "data": {
            "application/vnd.jupyter.widget-view+json": {
              "model_id": "6c68dab852eb4889a9ede86ac6fc119f",
              "version_minor": 0,
              "version_major": 2
            },
            "text/plain": [
              "Tab(children=(Output(), Output()), _titles={'0': 'Youtube', '1': 'Bilibili'})"
            ]
          },
          "metadata": {
            "tags": []
          }
        }
      ]
    },
    {
      "cell_type": "code",
      "metadata": {
        "cellView": "form",
        "execution": {
          "iopub.execute_input": "2021-06-27T06:04:26.317743Z",
          "iopub.status.busy": "2021-06-27T06:04:26.317044Z",
          "iopub.status.idle": "2021-06-27T06:04:26.382159Z",
          "shell.execute_reply": "2021-06-27T06:04:26.377333Z"
        },
        "id": "uDomaga4UrAL",
        "outputId": "41c03c3b-507a-48e3-d4c7-3dc6b3e391f1",
        "colab": {
          "base_uri": "https://localhost:8080/",
          "height": 597,
          "referenced_widgets": [
            "e84aabfa565b456da72a414a1333bcba",
            "1cb8dd1589704527b79bd3471e6a7f3f",
            "b14bb31fd89c43d09cbb515d4cfd1cf9",
            "e44d4e0b62234467b20eb6751bcf252c",
            "69dc1c84822049a191c58ecb459f449d",
            "8549af3b5f5441b2922a5cf774a0e242"
          ]
        }
      },
      "source": [
        "# @title Video 6: Nano recap of plotting\n",
        "from ipywidgets import widgets\n",
        "\n",
        "out2 = widgets.Output()\n",
        "with out2:\n",
        "  from IPython.display import IFrame\n",
        "  class BiliVideo(IFrame):\n",
        "      def __init__(self, id, page=1, width=400, height=300, **kwargs):\n",
        "          self.id=id\n",
        "          src = 'https://player.bilibili.com/player.html?bvid={0}&page={1}'.format(id, page)\n",
        "          super(BiliVideo, self).__init__(src, width, height, **kwargs)\n",
        "\n",
        "  video = BiliVideo(id=\"BV1BA411e7eH\", width=854, height=480, fs=1)\n",
        "  print('Video available at https://www.bilibili.com/video/{0}'.format(video.id))\n",
        "  display(video)\n",
        "\n",
        "out1 = widgets.Output()\n",
        "with out1:\n",
        "  from IPython.display import YouTubeVideo\n",
        "  video = YouTubeVideo(id=\"BOh8CsuTFkY\", width=854, height=480, fs=1, rel=0)\n",
        "  print('Video available at https://youtube.com/watch?v=' + video.id)\n",
        "  display(video)\n",
        "\n",
        "out = widgets.Tab([out1, out2])\n",
        "out.set_title(0, 'Youtube')\n",
        "out.set_title(1, 'Bilibili')\n",
        "\n",
        "display(out)"
      ],
      "execution_count": 22,
      "outputs": [
        {
          "output_type": "display_data",
          "data": {
            "application/vnd.jupyter.widget-view+json": {
              "model_id": "e84aabfa565b456da72a414a1333bcba",
              "version_minor": 0,
              "version_major": 2
            },
            "text/plain": [
              "Tab(children=(Output(), Output()), _titles={'0': 'Youtube', '1': 'Bilibili'})"
            ]
          },
          "metadata": {
            "tags": []
          }
        }
      ]
    },
    {
      "cell_type": "markdown",
      "metadata": {
        "id": "P9fwtc7qUrAL"
      },
      "source": [
        "## Coding Exercise 5: Plotting current\n",
        "\n",
        "In this exercise, we will plot the values of $I(t)$ between $t=0$ and $t=0.024$.\n",
        "\n",
        "You will first need to set the title and axis labels of the plot. Label these descriptively!  You will then need to fill out the code to actually create the plot.\n"
      ]
    },
    {
      "cell_type": "code",
      "metadata": {
        "execution": {
          "iopub.execute_input": "2021-06-27T06:04:26.395788Z",
          "iopub.status.busy": "2021-06-27T06:04:26.391592Z",
          "iopub.status.idle": "2021-06-27T06:04:26.398826Z",
          "shell.execute_reply": "2021-06-27T06:04:26.399461Z"
        },
        "id": "jEsq2JHaUrAL",
        "outputId": "2c8ef384-cd92-4590-e52a-746fa1250239",
        "colab": {
          "base_uri": "https://localhost:8080/",
          "height": 484
        }
      },
      "source": [
        "#################################################\n",
        "## TODO for students: fill out the figure initialization and plotting code below ##\n",
        "# Fill out code and comment or remove the next line\n",
        "# raise NotImplementedError(\"Student exercise: You need to fill out current figure code\")\n",
        "#################################################\n",
        "\n",
        "# Initialize step_end\n",
        "step_end = 25\n",
        "\n",
        "with plt.xkcd():\n",
        "  # Initialize the figure\n",
        "  plt.figure()\n",
        "  plt.title(\"Synaptic Input $I(t)$\")\n",
        "  plt.xlabel('time (s)')\n",
        "  plt.ylabel('$I$ (A)')\n",
        "\n",
        "# Loop for step_end steps\n",
        "  for step in range(step_end):\n",
        "\n",
        "  # Compute value of t\n",
        "    t = step * dt\n",
        "\n",
        "  # Compute value of i at this time step\n",
        "    i = i_mean * (1 + np.sin((t * 2 * np.pi) / 0.01))\n",
        "\n",
        "  # Plot i (use 'ko' to get small black dots (short for color='k' and marker = 'o'))\n",
        "    plt.plot(t, i, 'ko')\n",
        "\n",
        "# Display the plot\n",
        "plt.show()"
      ],
      "execution_count": 27,
      "outputs": [
        {
          "output_type": "stream",
          "text": [
            "/usr/local/lib/python3.7/dist-packages/matplotlib/backends/backend_agg.py:214: RuntimeWarning: Glyph 8722 missing from current font.\n",
            "  font.set_text(s, 0.0, flags=flags)\n"
          ],
          "name": "stderr"
        },
        {
          "output_type": "display_data",
          "data": {
            "image/png": "[encoded data removed]",
            "text/plain": [
              "<Figure size 576x432 with 1 Axes>"
            ]
          },
          "metadata": {
            "tags": [],
            "image/png": {
              "width": 557,
              "height": 413
            }
          }
        }
      ]
    },
    {
      "cell_type": "markdown",
      "metadata": {
        "execution": {
          "iopub.execute_input": "2021-06-27T06:04:26.406516Z",
          "iopub.status.busy": "2021-06-27T06:04:26.405606Z",
          "iopub.status.idle": "2021-06-27T06:04:26.964122Z",
          "shell.execute_reply": "2021-06-27T06:04:26.964560Z"
        },
        "id": "jCxtrxb3UrAM"
      },
      "source": [
        "[*Click for solution*](https://github.com/NeuromatchAcademy/course-content/tree/master//tutorials/W0D1_PythonWorkshop1/solutions/W0D1_Tutorial1_Solution_c15c544f.py)\n",
        "\n",
        "*Example output:*\n",
        "\n",
        "<img alt='Solution hint' align='left' width=559 height=416 src=https://raw.githubusercontent.com/NeuromatchAcademy/course-content/master/tutorials/W0D1_PythonWorkshop1/static/W0D1_Tutorial1_Solution_c15c544f_0.png>\n",
        "\n"
      ]
    },
    {
      "cell_type": "markdown",
      "metadata": {
        "id": "Vt-LkNyHUrAN"
      },
      "source": [
        "We are plotting the curent input at discrete steps only. If we plotted the current continuously, it would resemble the blue line below."
      ]
    },
    {
      "cell_type": "markdown",
      "metadata": {
        "id": "32me20yWUrAN"
      },
      "source": [
        "![synaptic input discrete](https://github.com/mpbrigham/colaboratory-figures/raw/master/nma/python-for-nma/synaptic_input_discrete.png)"
      ]
    },
    {
      "cell_type": "markdown",
      "metadata": {
        "id": "S-972MjAUrAO"
      },
      "source": [
        "## Coding Exercise 6: Plotting membrane potential\n",
        "Plot the values of $V(t)$ between $t=0$ and $t=t_{max}$. We can compute the number of steps required to get to $t=t_{max}$ given $\\Delta t$ as `int(t_max/dt)` where `int` gets the nearest integer.\n"
      ]
    },
    {
      "cell_type": "code",
      "metadata": {
        "execution": {
          "iopub.execute_input": "2021-06-27T06:04:26.971656Z",
          "iopub.status.busy": "2021-06-27T06:04:26.969748Z",
          "iopub.status.idle": "2021-06-27T06:04:26.979832Z",
          "shell.execute_reply": "2021-06-27T06:04:26.979207Z"
        },
        "id": "PUgis23AUrAO",
        "outputId": "e8455dcb-339a-41b0-d82c-9dbcf2f50f4d",
        "colab": {
          "base_uri": "https://localhost:8080/",
          "height": 430
        }
      },
      "source": [
        "#################################################\n",
        "## TODO for students: fill out the figure initialization and plotting code below ##\n",
        "# Fill out code and comment or remove the next line\n",
        "# raise NotImplementedError(\"Student exercise: You need to fill out membrane potential figure code\")\n",
        "#################################################\n",
        "\n",
        "# Initialize step_end\n",
        "step_end = int(t_max / dt)\n",
        "\n",
        "# Initialize v0\n",
        "v = el\n",
        "\n",
        "# Initialize the figure\n",
        "plt.figure()\n",
        "plt.title('$V_m$ with sinusoidal I(t)')\n",
        "plt.xlabel('time (s)')\n",
        "plt.ylabel('$V_m$ (V)');\n",
        "\n",
        "# Loop for step_end steps\n",
        "for step in range(step_end):\n",
        "\n",
        "  # Compute value of t\n",
        "  t = step * dt\n",
        "\n",
        "  # Compute value of i at this time step\n",
        "  i = i_mean * (1 + np.sin((t * 2 * np.pi) / 0.01))\n",
        "\n",
        "  # Compute v\n",
        "  v = v + dt/tau * (el - v + r*i)\n",
        "\n",
        "  # Plot v (using 'k.' to get even smaller markers)\n",
        "  plt.plot(t, v, 'k. ')\n",
        "\n",
        "# Display plot\n",
        "plt.show()"
      ],
      "execution_count": 29,
      "outputs": [
        {
          "output_type": "display_data",
          "data": {
            "image/png": "[encoded data removed]",
            "text/plain": [
              "<Figure size 576x432 with 1 Axes>"
            ]
          },
          "metadata": {
            "tags": [],
            "image/png": {
              "width": 558,
              "height": 413
            },
            "needs_background": "light"
          }
        }
      ]
    },
    {
      "cell_type": "markdown",
      "metadata": {
        "execution": {
          "iopub.execute_input": "2021-06-27T06:04:27.176150Z",
          "iopub.status.busy": "2021-06-27T06:04:27.017736Z",
          "iopub.status.idle": "2021-06-27T06:04:27.711893Z",
          "shell.execute_reply": "2021-06-27T06:04:27.712936Z"
        },
        "id": "YKLYACeLUrAP"
      },
      "source": [
        "[*Click for solution*](https://github.com/NeuromatchAcademy/course-content/tree/master//tutorials/W0D1_PythonWorkshop1/solutions/W0D1_Tutorial1_Solution_70f05c19.py)\n",
        "\n",
        "*Example output:*\n",
        "\n",
        "<img alt='Solution hint' align='left' width=560 height=416 src=https://raw.githubusercontent.com/NeuromatchAcademy/course-content/master/tutorials/W0D1_PythonWorkshop1/static/W0D1_Tutorial1_Solution_70f05c19_0.png>\n",
        "\n"
      ]
    },
    {
      "cell_type": "markdown",
      "metadata": {
        "id": "zSdpD2sWUrAP"
      },
      "source": [
        "---\n",
        "# Section 4: Random synaptic input\n",
        "\n",
        "From the perspective of neurons, synaptic input is random (or stochastic). We'll improve the synaptic input model by introducing random input current with statistical properties similar to the previous exercise:\n",
        "\n",
        "\\begin{align*}\n",
        "\\\\\n",
        "I(t)=I_{mean}\\left(1+0.1\\sqrt{\\frac{t_{max}}{\\Delta t}}\\,\\xi(t)\\right)\\qquad\\text{with }\\xi(t)\\sim U(-1,1)\\\\\n",
        "\\\\\n",
        "\\end{align*}\n",
        "\n",
        "where $U(-1,1)$ is the [uniform distribution](https://en.wikipedia.org/wiki/Uniform_distribution_(continuous)) with support $x\\in[-1,1]$.\n",
        "\n",
        "We can approximate randomness in code using a pseudo random number generator. The function `np.random.seed()` initializes the RNG. If we initialize this with a number (e.x. `np.random.seed(2)`), we will get the same random number draws each time we run the code. Basically, we are making the random number generation replicable. We do this here so you can get a figure that exactly matches the solution. The function `np.random.random()` generates samples from the uniform distribution between `0` and `1`.\n",
        "\n"
      ]
    },
    {
      "cell_type": "markdown",
      "metadata": {
        "id": "Q2fFMIkSUrAR"
      },
      "source": [
        "## Coding Exercise 7: Adding randomness\n",
        "\n",
        "Plot the values of $V(t)$ between $t=0$ and $t=t_{max}-\\Delta t$ with random input $I(t)$.\n"
      ]
    },
    {
      "cell_type": "code",
      "metadata": {
        "execution": {
          "iopub.execute_input": "2021-06-27T06:04:27.723209Z",
          "iopub.status.busy": "2021-06-27T06:04:27.718970Z",
          "iopub.status.idle": "2021-06-27T06:04:27.729108Z",
          "shell.execute_reply": "2021-06-27T06:04:27.727256Z"
        },
        "id": "kcozlINCUrAR"
      },
      "source": [
        "#################################################\n",
        "## TODO for students: fill out code to get random input ##\n",
        "# Fill out code and comment or remove the next line\n",
        "raise NotImplementedError(\"Student exercise: You need to fill out random input code\")\n",
        "#################################################\n",
        "\n",
        "# Set random number generator\n",
        "np.random.seed(2020)\n",
        "\n",
        "# Initialize step_end and v\n",
        "step_end = int(t_max / dt)\n",
        "v = el\n",
        "\n",
        "# Initialize the figure\n",
        "plt.figure()\n",
        "plt.title('$V_m$ with random I(t)')\n",
        "plt.xlabel('time (s)')\n",
        "plt.ylabel('$V_m$ (V)')\n",
        "\n",
        "# loop for step_end steps\n",
        "for step in range(step_end):\n",
        "\n",
        "  # Compute value of t\n",
        "  t = step * dt\n",
        "\n",
        "  # Get random number in correct range of -1 to 1 (will need to adjust output of np.random.random)\n",
        "  random_num = ...\n",
        "\n",
        "  # Compute value of i at this time step\n",
        "  i = ...\n",
        "\n",
        "  # Compute v\n",
        "  v = v + dt/tau * (el - v + r*i)\n",
        "\n",
        "  # Plot v (using 'k.' to get even smaller markers)\n",
        "  plt.plot(t, v, 'k.')\n",
        "\n",
        "\n",
        "# Display plot\n",
        "plt.show()"
      ],
      "execution_count": null,
      "outputs": []
    },
    {
      "cell_type": "markdown",
      "metadata": {
        "execution": {
          "iopub.execute_input": "2021-06-27T06:04:27.862029Z",
          "iopub.status.busy": "2021-06-27T06:04:27.805546Z",
          "iopub.status.idle": "2021-06-27T06:04:28.500293Z",
          "shell.execute_reply": "2021-06-27T06:04:28.499443Z"
        },
        "id": "kMzBZginUrAS"
      },
      "source": [
        "[*Click for solution*](https://github.com/NeuromatchAcademy/course-content/tree/master//tutorials/W0D1_PythonWorkshop1/solutions/W0D1_Tutorial1_Solution_413e2a3c.py)\n",
        "\n",
        "*Example output:*\n",
        "\n",
        "<img alt='Solution hint' align='left' width=560 height=416 src=https://raw.githubusercontent.com/NeuromatchAcademy/course-content/master/tutorials/W0D1_PythonWorkshop1/static/W0D1_Tutorial1_Solution_413e2a3c_0.png>\n",
        "\n"
      ]
    },
    {
      "cell_type": "markdown",
      "metadata": {
        "id": "y-IyI9qBUrAS"
      },
      "source": [
        "Random synaptic input $I(t)$ results in random time course for $V(t)$."
      ]
    },
    {
      "cell_type": "markdown",
      "metadata": {
        "id": "E2AJeaQRUrAT"
      },
      "source": [
        "---\n",
        "# Section 5: Lists & ensemble statistics\n"
      ]
    },
    {
      "cell_type": "code",
      "metadata": {
        "cellView": "form",
        "execution": {
          "iopub.execute_input": "2021-06-27T06:04:28.513435Z",
          "iopub.status.busy": "2021-06-27T06:04:28.508394Z",
          "iopub.status.idle": "2021-06-27T06:04:28.578799Z",
          "shell.execute_reply": "2021-06-27T06:04:28.575974Z"
        },
        "id": "SCjCqsVSUrAT"
      },
      "source": [
        "# @title Video 7: Lists & ensemble statistics\n",
        "from ipywidgets import widgets\n",
        "\n",
        "out2 = widgets.Output()\n",
        "with out2:\n",
        "  from IPython.display import IFrame\n",
        "  class BiliVideo(IFrame):\n",
        "      def __init__(self, id, page=1, width=400, height=300, **kwargs):\n",
        "          self.id=id\n",
        "          src = 'https://player.bilibili.com/player.html?bvid={0}&page={1}'.format(id, page)\n",
        "          super(BiliVideo, self).__init__(src, width, height, **kwargs)\n",
        "\n",
        "  video = BiliVideo(id=\"BV1ff4y197Hx\", width=854, height=480, fs=1)\n",
        "  print('Video available at https://www.bilibili.com/video/{0}'.format(video.id))\n",
        "  display(video)\n",
        "\n",
        "out1 = widgets.Output()\n",
        "with out1:\n",
        "  from IPython.display import YouTubeVideo\n",
        "  video = YouTubeVideo(id=\"A2foheo44h4\", width=854, height=480, fs=1, rel=0)\n",
        "  print('Video available at https://youtube.com/watch?v=' + video.id)\n",
        "  display(video)\n",
        "\n",
        "out = widgets.Tab([out1, out2])\n",
        "out.set_title(0, 'Youtube')\n",
        "out.set_title(1, 'Bilibili')\n",
        "\n",
        "display(out)"
      ],
      "execution_count": null,
      "outputs": []
    },
    {
      "cell_type": "code",
      "metadata": {
        "cellView": "form",
        "execution": {
          "iopub.execute_input": "2021-06-27T06:04:28.595003Z",
          "iopub.status.busy": "2021-06-27T06:04:28.590226Z",
          "iopub.status.idle": "2021-06-27T06:04:28.652594Z",
          "shell.execute_reply": "2021-06-27T06:04:28.648455Z"
        },
        "id": "LyUdALQZUrAT"
      },
      "source": [
        "# @title Video 8: Nano recap of ensemble statistics & lists\n",
        "from ipywidgets import widgets\n",
        "\n",
        "out2 = widgets.Output()\n",
        "with out2:\n",
        "  from IPython.display import IFrame\n",
        "  class BiliVideo(IFrame):\n",
        "      def __init__(self, id, page=1, width=400, height=300, **kwargs):\n",
        "          self.id=id\n",
        "          src = 'https://player.bilibili.com/player.html?bvid={0}&page={1}'.format(id, page)\n",
        "          super(BiliVideo, self).__init__(src, width, height, **kwargs)\n",
        "\n",
        "  video = BiliVideo(id=\"BV1UZ4y1u7sV\", width=854, height=480, fs=1)\n",
        "  print('Video available at https://www.bilibili.com/video/{0}'.format(video.id))\n",
        "  display(video)\n",
        "\n",
        "out1 = widgets.Output()\n",
        "with out1:\n",
        "  from IPython.display import YouTubeVideo\n",
        "  video = YouTubeVideo(id=\"4nIAS2oPEFI\", width=854, height=480, fs=1, rel=0)\n",
        "  print('Video available at https://youtube.com/watch?v=' + video.id)\n",
        "  display(video)\n",
        "\n",
        "out = widgets.Tab([out1, out2])\n",
        "out.set_title(0, 'Youtube')\n",
        "out.set_title(1, 'Bilibili')\n",
        "\n",
        "display(out)"
      ],
      "execution_count": null,
      "outputs": []
    },
    {
      "cell_type": "markdown",
      "metadata": {
        "id": "Jocn3V4GUrAZ"
      },
      "source": [
        "Multiple runs of the previous exercise may give the impression of periodic regularity in the evolution of $V(t)$. We'll collect the sample mean over $N=50$ realizations of $V(t)$  with random input to test such a hypothesis. The sample mean, sample variance and sample autocovariance at times $\\left\\{t, s\\right\\}\\in[0,t_{max}]$, and for $N$ realizations $V_n(t)$ are given by:\n",
        "\n",
        "\\begin{align*}\n",
        "\\\\\n",
        "\\left\\langle V(t)\\right\\rangle &= \\frac{1}{N}\\sum_{n=1}^N V_n(t) & & \\text{sample mean}\\\\\n",
        "\\left\\langle (V(t)-\\left\\langle V(t)\\right\\rangle)^2\\right\\rangle &= \\frac{1}{N-1} \\sum_{n=1}^N \\left(V_n(t)-\\left\\langle V(t)\\right\\rangle\\right)^2 & & \\text{sample variance} \\\\\n",
        "\\left\\langle \\left(V(t)-\\left\\langle V(t)\\right\\rangle\\right)\\left(V(s)-\\left\\langle V(s)\\right\\rangle\\right)\\right\\rangle\n",
        "&= \\frac{1}{N-1} \\sum_{n=1}^N \\left(V_n(t)-\\left\\langle V(t)\\right\\rangle\\right)\\left(V_n(s)-\\left\\langle V(s)\\right\\rangle\\right) & & \\text{sample autocovariance}\\\\\n",
        "\\\\\n",
        "\\end{align*}"
      ]
    },
    {
      "cell_type": "markdown",
      "metadata": {
        "id": "_9Ay-mFzUrAZ"
      },
      "source": [
        "## Coding Exercise 8: Storing simulations in lists\n",
        "Plot multiple simulations ($N=50$) of $V(t)$ by storing in a list the voltage of each neuron at time $t$.\n",
        "\n",
        "Keep in mind that the plotting command `plt.plot(x, y)` requires `x` to have the same number of elements as `y`.\n",
        "\n",
        "Mathematical symbols such as $\\alpha$ and $\\beta$ are specified as `$\\alpha$` and `$\\beta$` in [TeX markup](https://en.wikipedia.org/wiki/TeX). See additional details in [Writing mathematical expressions](https://matplotlib.org/3.2.2/tutorials/text/mathtext.html) in Matplotlib.\n"
      ]
    },
    {
      "cell_type": "code",
      "metadata": {
        "execution": {
          "iopub.execute_input": "2021-06-27T06:04:28.667655Z",
          "iopub.status.busy": "2021-06-27T06:04:28.662975Z",
          "iopub.status.idle": "2021-06-27T06:04:28.670711Z",
          "shell.execute_reply": "2021-06-27T06:04:28.670099Z"
        },
        "id": "WildHKW_UrAZ"
      },
      "source": [
        "#################################################\n",
        "## TODO for students: fill out code to store v in list ##\n",
        "# Fill out code and comment or remove the next line\n",
        "raise NotImplementedError(\"Student exercise: You need to store v in list\")\n",
        "#################################################\n",
        "\n",
        "# Set random number generator\n",
        "np.random.seed(2020)\n",
        "\n",
        "# Initialize step_end and n\n",
        "step_end = int(t_max / dt)\n",
        "n = 50\n",
        "\n",
        "# Intiatialize the list v_n with 50 values of membrane leak potential el\n",
        "v_n = ...\n",
        "\n",
        "with plt.xkcd():\n",
        "  # Initialize the figure\n",
        "  plt.figure()\n",
        "  plt.title('Multiple realizations of $V_m$')\n",
        "  plt.xlabel('time (s)')\n",
        "  plt.ylabel('$V_m$ (V)')\n",
        "\n",
        "  # Loop for step_end steps\n",
        "  for step in range(step_end):\n",
        "\n",
        "    # Compute value of t\n",
        "    t = step * dt\n",
        "\n",
        "    # Loop for n simulations\n",
        "    for j in range(0, n):\n",
        "\n",
        "        # Compute value of i at this time step\n",
        "        i = i_mean * (1 + 0.1 * (t_max/dt)**(0.5) * (2* np.random.random() - 1))\n",
        "\n",
        "        # Compute value of v for this simulation\n",
        "        v_n[j] = ...\n",
        "\n",
        "    # Plot all simulations (use alpha = 0.1 to make each marker slightly transparent)\n",
        "    plt.plot(...)\n",
        "\n",
        "  # Display plot\n",
        "  plt.show()"
      ],
      "execution_count": null,
      "outputs": []
    },
    {
      "cell_type": "markdown",
      "metadata": {
        "execution": {
          "iopub.execute_input": "2021-06-27T06:04:28.712385Z",
          "iopub.status.busy": "2021-06-27T06:04:28.695805Z",
          "iopub.status.idle": "2021-06-27T06:04:31.750732Z",
          "shell.execute_reply": "2021-06-27T06:04:31.750041Z"
        },
        "id": "Ft_rdF1sUrAa"
      },
      "source": [
        "[*Click for solution*](https://github.com/NeuromatchAcademy/course-content/tree/master//tutorials/W0D1_PythonWorkshop1/solutions/W0D1_Tutorial1_Solution_c0a3438b.py)\n",
        "\n",
        "*Example output:*\n",
        "\n",
        "<img alt='Solution hint' align='left' width=560 height=416 src=https://raw.githubusercontent.com/NeuromatchAcademy/course-content/master/tutorials/W0D1_PythonWorkshop1/static/W0D1_Tutorial1_Solution_c0a3438b_0.png>\n",
        "\n"
      ]
    },
    {
      "cell_type": "markdown",
      "metadata": {
        "id": "L3Gjfj2pUrAa"
      },
      "source": [
        "## Coding Exercise 9: Plotting sample mean\n",
        "\n",
        "Add the sample mean $\\left\\langle V(t)\\right\\rangle=\\frac{1}{N}\\sum_{n=1}^N V_n(t)$ to the plot.\n"
      ]
    },
    {
      "cell_type": "code",
      "metadata": {
        "execution": {
          "iopub.execute_input": "2021-06-27T06:04:31.761572Z",
          "iopub.status.busy": "2021-06-27T06:04:31.756978Z",
          "iopub.status.idle": "2021-06-27T06:04:31.765005Z",
          "shell.execute_reply": "2021-06-27T06:04:31.764400Z"
        },
        "id": "qeJeXATbUrAb"
      },
      "source": [
        "#################################################\n",
        "## TODO for students: fill out code to plot sample mean ##\n",
        "# Fill out code and comment or remove the next line\n",
        "raise NotImplementedError(\"Student exercise: You need to plot the sample mean\")\n",
        "#################################################\n",
        "\n",
        "# Set random number generator\n",
        "np.random.seed(2020)\n",
        "\n",
        "# Initialize step_end and n\n",
        "step_end = int(t_max / dt)\n",
        "n = 50\n",
        "\n",
        "# Intiatialize the list v_n with 50 values of membrane leak potential el\n",
        "v_n = [el] * n\n",
        "\n",
        "# Initialize the figure\n",
        "plt.figure()\n",
        "plt.title('Multiple realizations of $V_m$')\n",
        "plt.xlabel('time (s)')\n",
        "plt.ylabel('$V_m$ (V)')\n",
        "\n",
        "# Loop for step_end steps\n",
        "for step in range(step_end):\n",
        "\n",
        "    # Compute value of t\n",
        "    t = step * dt\n",
        "\n",
        "    # Loop for n simulations\n",
        "    for j in range(0, n):\n",
        "\n",
        "        # Compute value of i at this time step\n",
        "        i = i_mean * (1 + 0.1 * (t_max/dt)**(0.5) * (2* np.random.random() - 1))\n",
        "\n",
        "        # Compute value of v for this simulation\n",
        "        v_n[j] = v_n[j] + (dt / tau) * (el - v_n[j] + r*i)\n",
        "\n",
        "    # Compute sample mean by summing list of v_n using sum, and dividing by n\n",
        "    v_mean = ...\n",
        "\n",
        "    # Plot simulations\n",
        "    plt.plot(n*[t], v_n, 'k.', alpha=0.1)\n",
        "\n",
        "    # Plot sample mean using alpha=0.8 and'C0.' for blue\n",
        "    plt.plot(...)\n",
        "\n",
        "# Display plot\n",
        "plt.show()"
      ],
      "execution_count": null,
      "outputs": []
    },
    {
      "cell_type": "markdown",
      "metadata": {
        "execution": {
          "iopub.execute_input": "2021-06-27T06:04:31.817770Z",
          "iopub.status.busy": "2021-06-27T06:04:31.806078Z",
          "iopub.status.idle": "2021-06-27T06:04:32.798546Z",
          "shell.execute_reply": "2021-06-27T06:04:32.799115Z"
        },
        "id": "DeYk2F-yUrAb"
      },
      "source": [
        "[*Click for solution*](https://github.com/NeuromatchAcademy/course-content/tree/master//tutorials/W0D1_PythonWorkshop1/solutions/W0D1_Tutorial1_Solution_0c5ce75d.py)\n",
        "\n",
        "*Example output:*\n",
        "\n",
        "<img alt='Solution hint' align='left' width=558 height=413 src=https://raw.githubusercontent.com/NeuromatchAcademy/course-content/master/tutorials/W0D1_PythonWorkshop1/static/W0D1_Tutorial1_Solution_0c5ce75d_0.png>\n",
        "\n"
      ]
    },
    {
      "cell_type": "markdown",
      "metadata": {
        "id": "ZJ9Jc0MPUrAc"
      },
      "source": [
        "## Coding Exercise 10: Plotting sample standard deviation\n",
        "\n",
        "Add the sample standard deviation $\\sigma(t)\\equiv\\sqrt{\\text{Var}\\left(t\\right)}$ to the plot, with sample variance $\\text{Var}(t) = \\frac{1}{N-1} \\sum_{n=1}^N \\left(V_n(t)-\\left\\langle V(t)\\right\\rangle\\right)^2$.\n",
        "\n",
        "Use a list comprehension to collect the sample variance `v_var`. Here's an example to initialize a list with squares of `0` to `9`:\n",
        "```\n",
        "squares = [x**2 for x in range(10)]\n",
        "print(squares)\n",
        "--> [0, 1, 4, 9, 16, 25, 36, 49, 64, 81]\n",
        "```\n",
        "\n",
        "Think: Why are we plotting $\\sigma(t)$ rather than the $\\text{Var}(t)$? What are the units of each and the units of $\\left\\langle V(t)\\right\\rangle$?\n"
      ]
    },
    {
      "cell_type": "code",
      "metadata": {
        "execution": {
          "iopub.execute_input": "2021-06-27T06:04:32.811932Z",
          "iopub.status.busy": "2021-06-27T06:04:32.807583Z",
          "iopub.status.idle": "2021-06-27T06:04:32.815138Z",
          "shell.execute_reply": "2021-06-27T06:04:32.814128Z"
        },
        "id": "B0DhQF6dUrAc"
      },
      "source": [
        "#################################################\n",
        "## TODO for students: fill out code to plot sample standard deviation ##\n",
        "# Fill out code and comment or remove the next line\n",
        "raise NotImplementedError(\"Student exercise: You need to plot the sample standard deviation\")\n",
        "#################################################\n",
        "\n",
        "# Set random number generator\n",
        "np.random.seed(2020)\n",
        "\n",
        "# Initialize step_end and n\n",
        "step_end = int(t_max / dt)\n",
        "n = 50\n",
        "\n",
        "# Intiatialize the list v_n with 50 values of membrane leak potential el\n",
        "v_n = [el] * n\n",
        "\n",
        "# Initialize the figure\n",
        "plt.figure()\n",
        "plt.title('Multiple realizations of $V_m$')\n",
        "plt.xlabel('time (s)')\n",
        "plt.ylabel('$V_m$ (V)')\n",
        "\n",
        "# Loop for step_end steps\n",
        "for step in range(step_end):\n",
        "\n",
        "    # Compute value of t\n",
        "    t = step * dt\n",
        "\n",
        "    # Loop for n simulations\n",
        "    for j in range(0, n):\n",
        "\n",
        "        # Compute value of i at this time step\n",
        "        i = i_mean * (1 + 0.1 * (t_max/dt)**(0.5) * (2* np.random.random() - 1))\n",
        "\n",
        "        # Compute value of v for this simulation\n",
        "        v_n[j] = v_n[j] + (dt / tau) * (el - v_n[j] + r*i)\n",
        "\n",
        "    # Compute sample mean\n",
        "    v_mean = sum(v_n) / n\n",
        "\n",
        "    # Initialize a list `v_var_n` with the contribution of each V_n(t) to\n",
        "    # Var(t) with a list comprehension over values of v_n\n",
        "    v_var_n = ...\n",
        "\n",
        "    # Compute sample variance v_var by summing the values of v_var_n with sum and dividing by n-1\n",
        "    v_var = ...\n",
        "\n",
        "    # Compute the standard deviation v_std with the function np.sqrt\n",
        "    v_std = ...\n",
        "\n",
        "    # Plot simulations\n",
        "    plt.plot(n*[t], v_n, 'k.', alpha=0.1)\n",
        "\n",
        "    # Plot sample mean using alpha=0.8 and'C0.' for blue\n",
        "    plt.plot(t, v_mean, 'C0.', alpha=0.8, markersize=10)\n",
        "\n",
        "    # Plot mean + standard deviation with alpha=0.8 and argument 'C7'\n",
        "    plt.plot(...)\n",
        "\n",
        "    # Plot mean - standard deviation with alpha=0.8 and argument 'C7'\n",
        "    plt.plot(...)\n",
        "\n",
        "\n",
        "# Display plot\n",
        "plt.show()"
      ],
      "execution_count": null,
      "outputs": []
    },
    {
      "cell_type": "markdown",
      "metadata": {
        "execution": {
          "iopub.execute_input": "2021-06-27T06:04:32.825727Z",
          "iopub.status.busy": "2021-06-27T06:04:32.823037Z",
          "iopub.status.idle": "2021-06-27T06:04:36.985361Z",
          "shell.execute_reply": "2021-06-27T06:04:36.985884Z"
        },
        "id": "_h8lF8ZxUrAc"
      },
      "source": [
        "[*Click for solution*](https://github.com/NeuromatchAcademy/course-content/tree/master//tutorials/W0D1_PythonWorkshop1/solutions/W0D1_Tutorial1_Solution_ac94ed17.py)\n",
        "\n",
        "*Example output:*\n",
        "\n",
        "<img alt='Solution hint' align='left' width=560 height=416 src=https://raw.githubusercontent.com/NeuromatchAcademy/course-content/master/tutorials/W0D1_PythonWorkshop1/static/W0D1_Tutorial1_Solution_ac94ed17_0.png>\n",
        "\n"
      ]
    },
    {
      "cell_type": "markdown",
      "metadata": {
        "id": "zbvuE2toUrAd"
      },
      "source": [
        "---\n",
        "# Section 6: Using NumPy\n"
      ]
    },
    {
      "cell_type": "code",
      "metadata": {
        "cellView": "form",
        "execution": {
          "iopub.execute_input": "2021-06-27T06:04:37.000334Z",
          "iopub.status.busy": "2021-06-27T06:04:36.994345Z",
          "iopub.status.idle": "2021-06-27T06:04:37.057518Z",
          "shell.execute_reply": "2021-06-27T06:04:37.054036Z"
        },
        "id": "O6X-2mbzUrAd"
      },
      "source": [
        "# @title Video 9: Using NumPy\n",
        "from ipywidgets import widgets\n",
        "\n",
        "out2 = widgets.Output()\n",
        "with out2:\n",
        "  from IPython.display import IFrame\n",
        "  class BiliVideo(IFrame):\n",
        "      def __init__(self, id, page=1, width=400, height=300, **kwargs):\n",
        "          self.id=id\n",
        "          src = 'https://player.bilibili.com/player.html?bvid={0}&page={1}'.format(id, page)\n",
        "          super(BiliVideo, self).__init__(src, width, height, **kwargs)\n",
        "\n",
        "  video = BiliVideo(id=\"BV1wa4y1a7Xq\", width=854, height=480, fs=1)\n",
        "  print('Video available at https://www.bilibili.com/video/{0}'.format(video.id))\n",
        "  display(video)\n",
        "\n",
        "out1 = widgets.Output()\n",
        "with out1:\n",
        "  from IPython.display import YouTubeVideo\n",
        "  video = YouTubeVideo(id=\"OIzSQvMbe2k\", width=854, height=480, fs=1, rel=0)\n",
        "  print('Video available at https://youtube.com/watch?v=' + video.id)\n",
        "  display(video)\n",
        "\n",
        "out = widgets.Tab([out1, out2])\n",
        "out.set_title(0, 'Youtube')\n",
        "out.set_title(1, 'Bilibili')\n",
        "\n",
        "display(out)"
      ],
      "execution_count": null,
      "outputs": []
    },
    {
      "cell_type": "markdown",
      "metadata": {
        "id": "HP_2C_3VUrAd"
      },
      "source": [
        "\n",
        "![NumPy package](https://github.com/mpbrigham/colaboratory-figures/raw/master/nma/python-for-nma/numpy_logo_small.png)\n",
        "\n",
        "\n",
        "The next set of exercises introduces `np.array`, the workhorse from the scientific computation package [NumPy](https://numpy.org). Numpy arrays the default for numerical data storage and computation and will separate computing steps from plotting.\n",
        "\n",
        "\n",
        "We updated plots inside the main loop in the previous exercises and stored intermediate results in lists for plotting them. The purpose was to simplify earlier exercises as much as possible. However, there are very few scenarios where this technique is necessary, and you should avoid it in the future. Using numpy arrays will significantly simplify our coding narrative by computing inside the main loop and plotting afterward.\n",
        "\n",
        "Lists are much more natural for storing data for other purposes than computation. For example, lists are handy for storing numerical indexes and text."
      ]
    },
    {
      "cell_type": "code",
      "metadata": {
        "cellView": "form",
        "execution": {
          "iopub.execute_input": "2021-06-27T06:04:37.078912Z",
          "iopub.status.busy": "2021-06-27T06:04:37.078275Z",
          "iopub.status.idle": "2021-06-27T06:04:37.201137Z",
          "shell.execute_reply": "2021-06-27T06:04:37.199206Z"
        },
        "id": "9kSHVU0IUrAe"
      },
      "source": [
        "# @title Video 10: Nano recap of using NumPy\n",
        "from ipywidgets import widgets\n",
        "\n",
        "out2 = widgets.Output()\n",
        "with out2:\n",
        "  from IPython.display import IFrame\n",
        "  class BiliVideo(IFrame):\n",
        "      def __init__(self, id, page=1, width=400, height=300, **kwargs):\n",
        "          self.id=id\n",
        "          src = 'https://player.bilibili.com/player.html?bvid={0}&page={1}'.format(id, page)\n",
        "          super(BiliVideo, self).__init__(src, width, height, **kwargs)\n",
        "\n",
        "  video = BiliVideo(id=\"BV1of4y197jo\", width=854, height=480, fs=1)\n",
        "  print('Video available at https://www.bilibili.com/video/{0}'.format(video.id))\n",
        "  display(video)\n",
        "\n",
        "out1 = widgets.Output()\n",
        "with out1:\n",
        "  from IPython.display import YouTubeVideo\n",
        "  video = YouTubeVideo(id=\"ewyHKKa2_OU\", width=854, height=480, fs=1, rel=0)\n",
        "  print('Video available at https://youtube.com/watch?v=' + video.id)\n",
        "  display(video)\n",
        "\n",
        "out = widgets.Tab([out1, out2])\n",
        "out.set_title(0, 'Youtube')\n",
        "out.set_title(1, 'Bilibili')\n",
        "\n",
        "display(out)"
      ],
      "execution_count": null,
      "outputs": []
    },
    {
      "cell_type": "markdown",
      "metadata": {
        "id": "T-HcXfQGUrAe"
      },
      "source": [
        "## Coding Exercise 11: Rewriting with numpy\n",
        "\n",
        "Rewrite the single neuron plot with random input from _Exercise 7_ with numpy arrays. \n",
        "\n",
        "The time range, voltage values, and synaptic current are initialized or pre-computed as numpy arrays before numerical integration. We use `np.linspace` to initialize a numpy array `t_range` with `num=step_end=150` values from `0` to `t_max`\n",
        "We use `np.ones` to initialize a numpy array `v` with `step_end + 1` leak potential values `el`. You will pre-compute `step_end` synaptic current values in numpy array `i` with `np.random.random(step_end)` for `step_end` random numbers. Since `v[0]=el`, we should iterate for `step_end` steps but skip `step=0`."
      ]
    },
    {
      "cell_type": "code",
      "metadata": {
        "execution": {
          "iopub.execute_input": "2021-06-27T06:04:37.219977Z",
          "iopub.status.busy": "2021-06-27T06:04:37.219365Z",
          "iopub.status.idle": "2021-06-27T06:04:37.228689Z",
          "shell.execute_reply": "2021-06-27T06:04:37.226724Z"
        },
        "id": "SLODwq1UUrAe"
      },
      "source": [
        "#################################################\n",
        "## TODO for students: fill out code to rewrite simulation in numpy##\n",
        "# Fill out code and comment or remove the next line\n",
        "raise NotImplementedError(\"Student exercise: You need to rewrite simulation in numpy\")\n",
        "#################################################\n",
        "\n",
        "# Set random number generator\n",
        "np.random.seed(2020)\n",
        "\n",
        "# Initialize step_end, t_range, v\n",
        "step_end = int(t_max / dt) - 1\n",
        "t_range = np.linspace(0, t_max, num=step_end, endpoint=False)\n",
        "v = el * np.ones(step_end)\n",
        "\n",
        "# Simulate current over time\n",
        "i = ...\n",
        "\n",
        "# Loop for step_end steps\n",
        "for step in range(1, step_end):\n",
        "\n",
        "  # Compute v as function of i\n",
        "  v[step] = ...\n",
        "\n",
        "\n",
        "# Plot membrane potential\n",
        "plt.figure()\n",
        "plt.title('$V_m$ with random I(t)')\n",
        "plt.xlabel('time (s)')\n",
        "plt.ylabel('$V_m$ (V)')\n",
        "\n",
        "plt.plot(t_range, v, 'k.')\n",
        "plt.show()"
      ],
      "execution_count": null,
      "outputs": []
    },
    {
      "cell_type": "markdown",
      "metadata": {
        "execution": {
          "iopub.execute_input": "2021-06-27T06:04:37.282551Z",
          "iopub.status.busy": "2021-06-27T06:04:37.257306Z",
          "iopub.status.idle": "2021-06-27T06:04:37.617538Z",
          "shell.execute_reply": "2021-06-27T06:04:37.616673Z"
        },
        "id": "zapO8Z5TUrAf"
      },
      "source": [
        "[*Click for solution*](https://github.com/NeuromatchAcademy/course-content/tree/master//tutorials/W0D1_PythonWorkshop1/solutions/W0D1_Tutorial1_Solution_66c71ad3.py)\n",
        "\n",
        "*Example output:*\n",
        "\n",
        "<img alt='Solution hint' align='left' width=560 height=416 src=https://raw.githubusercontent.com/NeuromatchAcademy/course-content/master/tutorials/W0D1_PythonWorkshop1/static/W0D1_Tutorial1_Solution_66c71ad3_0.png>\n",
        "\n"
      ]
    },
    {
      "cell_type": "markdown",
      "metadata": {
        "id": "4_Q1ArD1UrAf"
      },
      "source": [
        "## Coding Exercise 12: Using enumerate & indexing\n",
        "Let's practice using `enumerate` to iterate over the indexes and values of the synaptic current array `i`. We want to get the step and the value of i at that step `i_step`\n"
      ]
    },
    {
      "cell_type": "code",
      "metadata": {
        "execution": {
          "iopub.execute_input": "2021-06-27T06:04:37.628503Z",
          "iopub.status.busy": "2021-06-27T06:04:37.627728Z",
          "iopub.status.idle": "2021-06-27T06:04:37.635099Z",
          "shell.execute_reply": "2021-06-27T06:04:37.633173Z"
        },
        "id": "QmvuGTV8UrAf"
      },
      "source": [
        "#################################################\n",
        "## TODO for students: fill out code to rewrite simulation in numpy##\n",
        "# Fill out code and comment or remove the next line\n",
        "raise NotImplementedError(\"Student exercise: You need to rewrite simulation in numpy\")\n",
        "#################################################\n",
        "\n",
        "# Set random number generator\n",
        "np.random.seed(2020)\n",
        "\n",
        "# Initialize step_end, t_range, v\n",
        "step_end = int(t_max / dt) - 1\n",
        "t_range = np.linspace(0, t_max, num=step_end, endpoint=False)\n",
        "v = el * np.ones(step_end)\n",
        "\n",
        "# Simulate current over time\n",
        "i = i_mean * (1 + 0.1 * (t_max/dt) ** (0.5) * (2 * np.random.random(step_end) - 1))\n",
        "\n",
        "# Loop for step_end values of i using enumerate\n",
        "for step, i_step in enumerate(i):\n",
        "\n",
        "  # Skip first iteration\n",
        "  if step==0:\n",
        "    continue\n",
        "\n",
        "  # Compute v as function of i using i_step\n",
        "  v[step] = ...\n",
        "\n",
        "# Plot figure\n",
        "plt.figure()\n",
        "plt.title('$V_m$ with random I(t)')\n",
        "plt.xlabel('time (s)')\n",
        "plt.ylabel('$V_m$ (V)')\n",
        "\n",
        "plt.plot(t_range, v, 'k')\n",
        "plt.show()"
      ],
      "execution_count": null,
      "outputs": []
    },
    {
      "cell_type": "markdown",
      "metadata": {
        "execution": {
          "iopub.execute_input": "2021-06-27T06:04:37.689263Z",
          "iopub.status.busy": "2021-06-27T06:04:37.688027Z",
          "iopub.status.idle": "2021-06-27T06:04:37.980323Z",
          "shell.execute_reply": "2021-06-27T06:04:37.980850Z"
        },
        "id": "BIZkXl_QUrAg"
      },
      "source": [
        "[*Click for solution*](https://github.com/NeuromatchAcademy/course-content/tree/master//tutorials/W0D1_PythonWorkshop1/solutions/W0D1_Tutorial1_Solution_40b5ed28.py)\n",
        "\n",
        "*Example output:*\n",
        "\n",
        "<img alt='Solution hint' align='left' width=560 height=416 src=https://raw.githubusercontent.com/NeuromatchAcademy/course-content/master/tutorials/W0D1_PythonWorkshop1/static/W0D1_Tutorial1_Solution_40b5ed28_0.png>\n",
        "\n"
      ]
    },
    {
      "cell_type": "markdown",
      "metadata": {
        "id": "mj0Y57yXUrAg"
      },
      "source": [
        "---\n",
        "# Section 7: Aggregation"
      ]
    },
    {
      "cell_type": "code",
      "metadata": {
        "cellView": "form",
        "execution": {
          "iopub.execute_input": "2021-06-27T06:04:37.995648Z",
          "iopub.status.busy": "2021-06-27T06:04:37.993740Z",
          "iopub.status.idle": "2021-06-27T06:04:38.047709Z",
          "shell.execute_reply": "2021-06-27T06:04:38.043768Z"
        },
        "id": "U1e6Q60cUrAg"
      },
      "source": [
        "# @title Video 11: Aggregation\n",
        "from ipywidgets import widgets\n",
        "\n",
        "out2 = widgets.Output()\n",
        "with out2:\n",
        "  from IPython.display import IFrame\n",
        "  class BiliVideo(IFrame):\n",
        "      def __init__(self, id, page=1, width=400, height=300, **kwargs):\n",
        "          self.id=id\n",
        "          src = 'https://player.bilibili.com/player.html?bvid={0}&page={1}'.format(id, page)\n",
        "          super(BiliVideo, self).__init__(src, width, height, **kwargs)\n",
        "\n",
        "  video = BiliVideo(id=\"BV1Uk4y1q76p\", width=854, height=480, fs=1)\n",
        "  print('Video available at https://www.bilibili.com/video/{0}'.format(video.id))\n",
        "  display(video)\n",
        "\n",
        "out1 = widgets.Output()\n",
        "with out1:\n",
        "  from IPython.display import YouTubeVideo\n",
        "  video = YouTubeVideo(id=\"E6FyhSsO4Vg\", width=854, height=480, fs=1, rel=0)\n",
        "  print('Video available at https://youtube.com/watch?v=' + video.id)\n",
        "  display(video)\n",
        "\n",
        "out = widgets.Tab([out1, out2])\n",
        "out.set_title(0, 'Youtube')\n",
        "out.set_title(1, 'Bilibili')\n",
        "\n",
        "display(out)"
      ],
      "execution_count": null,
      "outputs": []
    },
    {
      "cell_type": "code",
      "metadata": {
        "cellView": "form",
        "execution": {
          "iopub.execute_input": "2021-06-27T06:04:38.065093Z",
          "iopub.status.busy": "2021-06-27T06:04:38.060636Z",
          "iopub.status.idle": "2021-06-27T06:04:38.124529Z",
          "shell.execute_reply": "2021-06-27T06:04:38.120099Z"
        },
        "id": "EH2CY6kMUrAh"
      },
      "source": [
        "# @title Video 12: Nano recap of aggregation\n",
        "from ipywidgets import widgets\n",
        "\n",
        "out2 = widgets.Output()\n",
        "with out2:\n",
        "  from IPython.display import IFrame\n",
        "  class BiliVideo(IFrame):\n",
        "      def __init__(self, id, page=1, width=400, height=300, **kwargs):\n",
        "          self.id=id\n",
        "          src = 'https://player.bilibili.com/player.html?bvid={0}&page={1}'.format(id, page)\n",
        "          super(BiliVideo, self).__init__(src, width, height, **kwargs)\n",
        "\n",
        "  video = BiliVideo(id=\"BV1vA411e7w4\", width=854, height=480, fs=1)\n",
        "  print('Video available at https://www.bilibili.com/video/{0}'.format(video.id))\n",
        "  display(video)\n",
        "\n",
        "out1 = widgets.Output()\n",
        "with out1:\n",
        "  from IPython.display import YouTubeVideo\n",
        "  video = YouTubeVideo(id=\"1ME-0rJXLFg\", width=854, height=480, fs=1, rel=0)\n",
        "  print('Video available at https://youtube.com/watch?v=' + video.id)\n",
        "  display(video)\n",
        "\n",
        "out = widgets.Tab([out1, out2])\n",
        "out.set_title(0, 'Youtube')\n",
        "out.set_title(1, 'Bilibili')\n",
        "\n",
        "display(out)"
      ],
      "execution_count": null,
      "outputs": []
    },
    {
      "cell_type": "markdown",
      "metadata": {
        "id": "6yQS_Ph1UrAi"
      },
      "source": [
        "## Coding Exercise 13: Using 2d arrays\n",
        "Plot multiple realizations ($N=50$) of $V(t)$ by storing the voltage of each neuron at time $t$ in a numpy array.\n",
        "\n",
        "We first initialize a numpy array `v_n` of shape `(n, step_end)` with membrane leak potential values `el`. We pre-compute synaptic current values in numpy array `i` of shape `(n, step_end)`. After computing v, we plot results with a single plot command, by providing `v_n.T` to the plot function. `v_n.T` is the transposed version of `v_n` (with rows and columns swapped)."
      ]
    },
    {
      "cell_type": "code",
      "metadata": {
        "execution": {
          "iopub.execute_input": "2021-06-27T06:04:38.140612Z",
          "iopub.status.busy": "2021-06-27T06:04:38.139862Z",
          "iopub.status.idle": "2021-06-27T06:04:38.143122Z",
          "shell.execute_reply": "2021-06-27T06:04:38.143731Z"
        },
        "id": "FYkW2mGsUrAi"
      },
      "source": [
        "#################################################\n",
        "## TODO for students: fill out code to use 2d arrays ##\n",
        "# Fill out code and comment or remove the next line\n",
        "raise NotImplementedError(\"Student exercise: You need to rewrite code to use 2d arrays\")\n",
        "#################################################\n",
        "\n",
        "# Set random number generator\n",
        "np.random.seed(2020)\n",
        "\n",
        "# Initialize step_end, n, t_range, v and i\n",
        "step_end = int(t_max / dt)\n",
        "n = 50\n",
        "t_range = np.linspace(0, t_max, num=step_end)\n",
        "v_n = el * np.ones([n, step_end])\n",
        "i = ...\n",
        "\n",
        "# Loop for step_end - 1 steps\n",
        "for step in range(1, step_end):\n",
        "\n",
        "   # Compute v_n\n",
        "   v_n[:, step] = ...\n",
        "\n",
        "# Plot figure\n",
        "plt.figure()\n",
        "plt.title('Multiple realizations of $V_m$')\n",
        "plt.xlabel('time (s)')\n",
        "plt.ylabel('$V_m$ (V)')\n",
        "\n",
        "plt.plot(...)\n",
        "plt.show()"
      ],
      "execution_count": null,
      "outputs": []
    },
    {
      "cell_type": "markdown",
      "metadata": {
        "execution": {
          "iopub.execute_input": "2021-06-27T06:04:38.151393Z",
          "iopub.status.busy": "2021-06-27T06:04:38.150780Z",
          "iopub.status.idle": "2021-06-27T06:04:38.801014Z",
          "shell.execute_reply": "2021-06-27T06:04:38.801560Z"
        },
        "id": "KciG31aXUrAj"
      },
      "source": [
        "[*Click for solution*](https://github.com/NeuromatchAcademy/course-content/tree/master//tutorials/W0D1_PythonWorkshop1/solutions/W0D1_Tutorial1_Solution_93456241.py)\n",
        "\n",
        "*Example output:*\n",
        "\n",
        "<img alt='Solution hint' align='left' width=560 height=416 src=https://raw.githubusercontent.com/NeuromatchAcademy/course-content/master/tutorials/W0D1_PythonWorkshop1/static/W0D1_Tutorial1_Solution_93456241_0.png>\n",
        "\n"
      ]
    },
    {
      "cell_type": "markdown",
      "metadata": {
        "id": "NWpyFJgdUrAj"
      },
      "source": [
        "## Coding Exercise 14: Plotting sample mean and standard deviation\n",
        "\n",
        "Add sample mean $\\left\\langle V(t)\\right\\rangle$ and standard deviation $\\sigma(t)\\equiv\\sqrt{\\text{Var}\\left(t\\right)}$ to the plot.\n",
        "\n",
        "`np.mean(v_n, axis=0)` computes mean over rows, i.e. mean for each neuron\n",
        "\n",
        "`np.mean(v_n, axis=1)` computes mean over columns (axis `1`), i.e. mean for each time step\n",
        "\n",
        "We will use label argument in plt.plot to specify labels in each trace.  We label only the last voltage trace to avoid labeling all N of them."
      ]
    },
    {
      "cell_type": "code",
      "metadata": {
        "execution": {
          "iopub.execute_input": "2021-06-27T06:04:38.815514Z",
          "iopub.status.busy": "2021-06-27T06:04:38.810619Z",
          "iopub.status.idle": "2021-06-27T06:04:38.818434Z",
          "shell.execute_reply": "2021-06-27T06:04:38.817793Z"
        },
        "id": "8kW1RaT7UrAj"
      },
      "source": [
        "#################################################\n",
        "## TODO for students: fill out code to compute sample mean and standard deviation ##\n",
        "# Fill out code and comment or remove the next line\n",
        "raise NotImplementedError(\"Student exercise: You need to  fill out code to compute sample mean and standard deviation\")\n",
        "#################################################\n",
        "\n",
        "# Set random number generator\n",
        "np.random.seed(2020)\n",
        "\n",
        "# Initialize step_end, n, t_range, v and i\n",
        "step_end = int(t_max / dt)\n",
        "n = 50\n",
        "t_range = np.linspace(0, t_max, num=step_end)\n",
        "v_n = el * np.ones([n, step_end])\n",
        "i = i_mean * (1 + 0.1 * (t_max / dt)**(0.5) * (2 * np.random.random([n, step_end]) - 1))\n",
        "\n",
        "# Loop for step_end - 1 steps\n",
        "for step in range(1, step_end):\n",
        "\n",
        "   # Compute v_n\n",
        "   v_n[:, step] = v_n[:, step - 1] + (dt / tau) * (el - v_n[:, step - 1] + r * i[:, step])\n",
        "\n",
        "# Compute sample mean (use np.mean)\n",
        "v_mean = ...\n",
        "\n",
        "# Compute sample standard deviation (use np.std)\n",
        "v_std = ...\n",
        "\n",
        "# Plot figure\n",
        "plt.figure()\n",
        "plt.title('Multiple realizations of $V_m$')\n",
        "plt.xlabel('time (s)')\n",
        "plt.ylabel('$V_m$ (V)')\n",
        "\n",
        "plt.plot(t_range, v_n.T, 'k', alpha=0.3)\n",
        "\n",
        "plt.plot(t_range, v_n[-1], 'k', alpha=0.3, label='V(t)')\n",
        "plt.plot(t_range, v_mean, 'C0', alpha=0.8, label='mean')\n",
        "plt.plot(t_range, v_mean+v_std, 'C7', alpha=0.8)\n",
        "plt.plot(t_range, v_mean-v_std, 'C7', alpha=0.8, label='mean $\\pm$ std')\n",
        "\n",
        "plt.legend()\n",
        "plt.show()"
      ],
      "execution_count": null,
      "outputs": []
    },
    {
      "cell_type": "markdown",
      "metadata": {
        "execution": {
          "iopub.execute_input": "2021-06-27T06:04:38.827483Z",
          "iopub.status.busy": "2021-06-27T06:04:38.825858Z",
          "iopub.status.idle": "2021-06-27T06:04:39.616851Z",
          "shell.execute_reply": "2021-06-27T06:04:39.617356Z"
        },
        "id": "6JyKAzjhUrAk"
      },
      "source": [
        "[*Click for solution*](https://github.com/NeuromatchAcademy/course-content/tree/master//tutorials/W0D1_PythonWorkshop1/solutions/W0D1_Tutorial1_Solution_8a3d7dd1.py)\n",
        "\n",
        "*Example output:*\n",
        "\n",
        "<img alt='Solution hint' align='left' width=560 height=416 src=https://raw.githubusercontent.com/NeuromatchAcademy/course-content/master/tutorials/W0D1_PythonWorkshop1/static/W0D1_Tutorial1_Solution_8a3d7dd1_0.png>\n",
        "\n"
      ]
    },
    {
      "cell_type": "markdown",
      "metadata": {
        "id": "Mw_lVlNMUrAk"
      },
      "source": [
        "---\n",
        "# Summary\n"
      ]
    },
    {
      "cell_type": "code",
      "metadata": {
        "cellView": "form",
        "execution": {
          "iopub.execute_input": "2021-06-27T06:04:39.633730Z",
          "iopub.status.busy": "2021-06-27T06:04:39.631644Z",
          "iopub.status.idle": "2021-06-27T06:04:39.694089Z",
          "shell.execute_reply": "2021-06-27T06:04:39.691705Z"
        },
        "id": "Oy2AqNZ4UrAk"
      },
      "source": [
        "# @title Video 13: Overview\n",
        "from ipywidgets import widgets\n",
        "\n",
        "out2 = widgets.Output()\n",
        "with out2:\n",
        "  from IPython.display import IFrame\n",
        "  class BiliVideo(IFrame):\n",
        "      def __init__(self, id, page=1, width=400, height=300, **kwargs):\n",
        "          self.id=id\n",
        "          src = 'https://player.bilibili.com/player.html?bvid={0}&page={1}'.format(id, page)\n",
        "          super(BiliVideo, self).__init__(src, width, height, **kwargs)\n",
        "\n",
        "  video = BiliVideo(id=\"BV1Fv411q7tE\", width=854, height=480, fs=1)\n",
        "  print('Video available at https://www.bilibili.com/video/{0}'.format(video.id))\n",
        "  display(video)\n",
        "\n",
        "out1 = widgets.Output()\n",
        "with out1:\n",
        "  from IPython.display import YouTubeVideo\n",
        "  video = YouTubeVideo(id=\"VqAznnSAqmM\", width=854, height=480, fs=1, rel=0)\n",
        "  print('Video available at https://youtube.com/watch?v=' + video.id)\n",
        "  display(video)\n",
        "\n",
        "out = widgets.Tab([out1, out2])\n",
        "out.set_title(0, 'Youtube')\n",
        "out.set_title(1, 'Bilibili')\n",
        "\n",
        "display(out)"
      ],
      "execution_count": null,
      "outputs": []
    }
  ]
}